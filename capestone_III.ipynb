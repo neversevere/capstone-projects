{
  "nbformat": 4,
  "nbformat_minor": 0,
  "metadata": {
    "colab": {
      "name": "capestone.III.ipynb",
      "provenance": []
    },
    "kernelspec": {
      "name": "python3",
      "display_name": "Python 3"
    },
    "language_info": {
      "name": "python"
    }
  },
  "cells": [
    {
      "cell_type": "markdown",
      "metadata": {
        "id": "uUhYCPSz6znX"
      },
      "source": [
        "# **Introduction**"
      ]
    },
    {
      "cell_type": "markdown",
      "metadata": {
        "id": "BYgH99Sv65A0"
      },
      "source": [
        " **Purpose of Project**: I want to understand the salary distributions for data scientists among major sectors within the [Data Science and STEM Salaries](https://www.kaggle.com/jackogozaly/data-science-and-stem-salaries?select=Levels_Fyi_Salary_Data.csv) csv file from Kaggle. I chose to use and explore this dataset because I was curious to find out and understand the validity of salaries for STEM job titles. When researching estimated job salaries online, the numbers presented for certain job titles can be misleading and may not present the whole picture. Thus, I felt that exploring this dataset would provide a better picture and the specifics of certain STEM role. \n",
        "\n",
        "Furthermore, I choose the following research questions will be explored:\n",
        "\n",
        "*    What are salary distributions among data scientists \n",
        "at major tech companies?\n",
        "*    What are the salary distributions among males vs females data scientists within a major tech city?\n",
        "*    What are the salary distributions among data scientists from two different locations?\n",
        "\n",
        "The provided dataset encompasses an array of STEM (science, technology, engineering, and mathematics) job titles (Software Engineer, Data Scientist, etc.); their associated company (Google, Apple, Microsoft, Facebook, etc.); the number of years the candidate has been at the company; their years of experience within that job title; how each candidate identifies their gender; the base salary and total salary for each candidate; the location of the established associated company, so on and so forth.\n",
        "\n",
        "The dataset explores 62642 rows and 29 columns of data pertaining to STEM jobs, their salaries, and any contributing factors.\n",
        "\n",
        "For this project I will explore the following hypotheses:\n",
        "\n",
        "\n",
        "* $H_0$: There isn’t a significant difference in mean salary of data scientists who work at Google versus Microsoft.\n",
        "* $H_a$: There is a significant difference in mean salary of data scientists who work at Google versus Microsoft.\n",
        "\n",
        "\n",
        "\n",
        "* $H_0$: There isn’t a significant difference in mean salary among males data scientists versus female data scientists in San Francisco, CA.\n",
        "* $H_a$: There is a significant difference in mean salary among males data scientists versus female data scientists in San Francisco, CA.\n",
        "\n",
        "\n",
        "\n",
        "* $H_0$: There isn’t a significant difference in mean salary among data scientist individuals who reside in Seattle, WA versus Austin, TX\n",
        "* $H_a$: There is a significant difference in mean salary among data scientist individuals who reside in Seattle, WA versus Austin, TX.\n",
        "\n",
        "\n",
        "\n",
        "\n",
        "\n",
        "\n",
        "\n",
        "\n"
      ]
    },
    {
      "cell_type": "markdown",
      "metadata": {
        "id": "CQU6X1xNUObv"
      },
      "source": [
        "*Link to Kaggle Data Source:[https://www.kaggle.com/jackogozaly/data-science-and-stem-salaries?select=Levels_Fyi_Salary_Data.csv](https://www.kaggle.com/jackogozaly/data-science-and-stem-salaries?select=Levels_Fyi_Salary_Data.csv)*"
      ]
    },
    {
      "cell_type": "markdown",
      "metadata": {
        "id": "2oS4JBwcUjEj"
      },
      "source": [
        "# **Load Data**"
      ]
    },
    {
      "cell_type": "markdown",
      "metadata": {
        "id": "V90v9UVsrvP3"
      },
      "source": [
        "This section will import the dataset to be analyzed."
      ]
    },
    {
      "cell_type": "markdown",
      "metadata": {
        "id": "4K9906SOZzLr"
      },
      "source": [
        "*Import necessary packages/libraries*"
      ]
    },
    {
      "cell_type": "code",
      "metadata": {
        "id": "AfOVbiv66VY2"
      },
      "source": [
        "import pandas as pd\n",
        "from scipy import stats"
      ],
      "execution_count": null,
      "outputs": []
    },
    {
      "cell_type": "markdown",
      "metadata": {
        "id": "CPGhbyVcZ5bS"
      },
      "source": [
        "*Upload csv file to colab*"
      ]
    },
    {
      "cell_type": "code",
      "metadata": {
        "colab": {
          "resources": {
            "http://localhost:8080/nbextensions/google.colab/files.js": {
              "data": "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",
              "ok": true,
              "headers": [
                [
                  "content-type",
                  "application/javascript"
                ]
              ],
              "status": 200,
              "status_text": ""
            }
          },
          "base_uri": "https://localhost:8080/",
          "height": 73
        },
        "id": "x5Jk1NrELZv5",
        "outputId": "eaae6555-0b34-4ed1-962f-e5aa1dc36767"
      },
      "source": [
        "from google.colab import files\n",
        "uploaded = files.upload()"
      ],
      "execution_count": null,
      "outputs": [
        {
          "output_type": "display_data",
          "data": {
            "text/html": [
              "\n",
              "     <input type=\"file\" id=\"files-6c3dd4fb-cc2d-4d81-b15f-71ee46c4e9b1\" name=\"files[]\" multiple disabled\n",
              "        style=\"border:none\" />\n",
              "     <output id=\"result-6c3dd4fb-cc2d-4d81-b15f-71ee46c4e9b1\">\n",
              "      Upload widget is only available when the cell has been executed in the\n",
              "      current browser session. Please rerun this cell to enable.\n",
              "      </output>\n",
              "      <script src=\"/nbextensions/google.colab/files.js\"></script> "
            ],
            "text/plain": [
              "<IPython.core.display.HTML object>"
            ]
          },
          "metadata": {}
        },
        {
          "output_type": "stream",
          "name": "stdout",
          "text": [
            "Saving data_scientist_salary_data.csv to data_scientist_salary_data.csv\n"
          ]
        }
      ]
    },
    {
      "cell_type": "markdown",
      "metadata": {
        "id": "xNspMJjQaDX3"
      },
      "source": [
        "*Import into a dataframe*"
      ]
    },
    {
      "cell_type": "code",
      "metadata": {
        "id": "g2mDg4r-L6-M"
      },
      "source": [
        "import io\n",
        "salaries_df = pd.read_csv(io.BytesIO(uploaded['data_scientist_salary_data.csv']))"
      ],
      "execution_count": null,
      "outputs": []
    },
    {
      "cell_type": "markdown",
      "metadata": {
        "id": "mE9r09IkaKnQ"
      },
      "source": [
        "*Dataset is now stored in a Pandas Dataframe*"
      ]
    },
    {
      "cell_type": "markdown",
      "metadata": {
        "id": "p-ESrzm0aTlj"
      },
      "source": [
        "________________________________________________________________________________"
      ]
    },
    {
      "cell_type": "markdown",
      "metadata": {
        "id": "fEg1_HNkYWDK"
      },
      "source": [
        "# **Wrangled Data**"
      ]
    },
    {
      "cell_type": "markdown",
      "metadata": {
        "id": "L7Nn4t-urAdX"
      },
      "source": [
        "This section explores what the dataset is encompassing. I will explore data that is relevant to support my hypotheses."
      ]
    },
    {
      "cell_type": "markdown",
      "metadata": {
        "id": "LDfRZeX3abPB"
      },
      "source": [
        "*Obtain row and column count of dataset*"
      ]
    },
    {
      "cell_type": "code",
      "metadata": {
        "colab": {
          "base_uri": "https://localhost:8080/"
        },
        "id": "mn1KNY9HMpLP",
        "outputId": "3dcb03b8-a1b6-4bea-9255-700eb935eac2"
      },
      "source": [
        "salaries_df.shape"
      ],
      "execution_count": null,
      "outputs": [
        {
          "output_type": "execute_result",
          "data": {
            "text/plain": [
              "(62642, 29)"
            ]
          },
          "metadata": {},
          "execution_count": 4
        }
      ]
    },
    {
      "cell_type": "markdown",
      "metadata": {
        "id": "q8FC7RVgnVA2"
      },
      "source": [
        "*Extract dataframe's information*"
      ]
    },
    {
      "cell_type": "code",
      "metadata": {
        "colab": {
          "base_uri": "https://localhost:8080/"
        },
        "id": "MaM5hjiANFfJ",
        "outputId": "254bad91-821b-4d93-9830-1be3fc93ce09"
      },
      "source": [
        "salaries_df.info()"
      ],
      "execution_count": null,
      "outputs": [
        {
          "output_type": "stream",
          "name": "stdout",
          "text": [
            "<class 'pandas.core.frame.DataFrame'>\n",
            "RangeIndex: 62642 entries, 0 to 62641\n",
            "Data columns (total 29 columns):\n",
            " #   Column                   Non-Null Count  Dtype  \n",
            "---  ------                   --------------  -----  \n",
            " 0   timestamp                62642 non-null  object \n",
            " 1   company                  62637 non-null  object \n",
            " 2   level                    62523 non-null  object \n",
            " 3   title                    62642 non-null  object \n",
            " 4   totalyearlycompensation  62642 non-null  int64  \n",
            " 5   location                 62642 non-null  object \n",
            " 6   yearsofexperience        62642 non-null  float64\n",
            " 7   yearsatcompany           62642 non-null  float64\n",
            " 8   tag                      61788 non-null  object \n",
            " 9   basesalary               62642 non-null  int64  \n",
            " 10  stockgrantvalue          62642 non-null  float64\n",
            " 11  bonus                    62642 non-null  float64\n",
            " 12  gender                   43102 non-null  object \n",
            " 13  otherdetails             40137 non-null  object \n",
            " 14  cityid                   62642 non-null  int64  \n",
            " 15  dmaid                    62640 non-null  float64\n",
            " 16  rowNumber                62642 non-null  int64  \n",
            " 17  Masters_Degree           62642 non-null  int64  \n",
            " 18  Bachelors_Degree         62642 non-null  int64  \n",
            " 19  Doctorate_Degree         62642 non-null  int64  \n",
            " 20  Highschool               62642 non-null  int64  \n",
            " 21  Some_College             62642 non-null  int64  \n",
            " 22  Race_Asian               62642 non-null  int64  \n",
            " 23  Race_White               62642 non-null  int64  \n",
            " 24  Race_Two_Or_More         62642 non-null  int64  \n",
            " 25  Race_Black               62642 non-null  int64  \n",
            " 26  Race_Hispanic            62642 non-null  int64  \n",
            " 27  Race                     22427 non-null  object \n",
            " 28  Education                30370 non-null  object \n",
            "dtypes: float64(5), int64(14), object(10)\n",
            "memory usage: 13.9+ MB\n"
          ]
        }
      ]
    },
    {
      "cell_type": "markdown",
      "metadata": {
        "id": "fqWRpf36aquZ"
      },
      "source": [
        "*Overview of what the data looks like*"
      ]
    },
    {
      "cell_type": "code",
      "metadata": {
        "colab": {
          "base_uri": "https://localhost:8080/",
          "height": 344
        },
        "id": "umD4is08OBRw",
        "outputId": "7b7b160e-1760-467e-eb00-baaa8505e8d3"
      },
      "source": [
        "salaries_df.head()"
      ],
      "execution_count": null,
      "outputs": [
        {
          "output_type": "execute_result",
          "data": {
            "text/html": [
              "<div>\n",
              "<style scoped>\n",
              "    .dataframe tbody tr th:only-of-type {\n",
              "        vertical-align: middle;\n",
              "    }\n",
              "\n",
              "    .dataframe tbody tr th {\n",
              "        vertical-align: top;\n",
              "    }\n",
              "\n",
              "    .dataframe thead th {\n",
              "        text-align: right;\n",
              "    }\n",
              "</style>\n",
              "<table border=\"1\" class=\"dataframe\">\n",
              "  <thead>\n",
              "    <tr style=\"text-align: right;\">\n",
              "      <th></th>\n",
              "      <th>timestamp</th>\n",
              "      <th>company</th>\n",
              "      <th>level</th>\n",
              "      <th>title</th>\n",
              "      <th>totalyearlycompensation</th>\n",
              "      <th>location</th>\n",
              "      <th>yearsofexperience</th>\n",
              "      <th>yearsatcompany</th>\n",
              "      <th>tag</th>\n",
              "      <th>basesalary</th>\n",
              "      <th>stockgrantvalue</th>\n",
              "      <th>bonus</th>\n",
              "      <th>gender</th>\n",
              "      <th>otherdetails</th>\n",
              "      <th>cityid</th>\n",
              "      <th>dmaid</th>\n",
              "      <th>rowNumber</th>\n",
              "      <th>Masters_Degree</th>\n",
              "      <th>Bachelors_Degree</th>\n",
              "      <th>Doctorate_Degree</th>\n",
              "      <th>Highschool</th>\n",
              "      <th>Some_College</th>\n",
              "      <th>Race_Asian</th>\n",
              "      <th>Race_White</th>\n",
              "      <th>Race_Two_Or_More</th>\n",
              "      <th>Race_Black</th>\n",
              "      <th>Race_Hispanic</th>\n",
              "      <th>Race</th>\n",
              "      <th>Education</th>\n",
              "    </tr>\n",
              "  </thead>\n",
              "  <tbody>\n",
              "    <tr>\n",
              "      <th>0</th>\n",
              "      <td>6/7/2017 11:33</td>\n",
              "      <td>Oracle</td>\n",
              "      <td>L3</td>\n",
              "      <td>Product Manager</td>\n",
              "      <td>127000</td>\n",
              "      <td>Redwood City, CA</td>\n",
              "      <td>1.5</td>\n",
              "      <td>1.5</td>\n",
              "      <td>NaN</td>\n",
              "      <td>107000</td>\n",
              "      <td>20000.0</td>\n",
              "      <td>10000.0</td>\n",
              "      <td>NaN</td>\n",
              "      <td>NaN</td>\n",
              "      <td>7392</td>\n",
              "      <td>807.0</td>\n",
              "      <td>1</td>\n",
              "      <td>0</td>\n",
              "      <td>0</td>\n",
              "      <td>0</td>\n",
              "      <td>0</td>\n",
              "      <td>0</td>\n",
              "      <td>0</td>\n",
              "      <td>0</td>\n",
              "      <td>0</td>\n",
              "      <td>0</td>\n",
              "      <td>0</td>\n",
              "      <td>NaN</td>\n",
              "      <td>NaN</td>\n",
              "    </tr>\n",
              "    <tr>\n",
              "      <th>1</th>\n",
              "      <td>6/10/2017 17:11</td>\n",
              "      <td>eBay</td>\n",
              "      <td>SE 2</td>\n",
              "      <td>Software Engineer</td>\n",
              "      <td>100000</td>\n",
              "      <td>San Francisco, CA</td>\n",
              "      <td>5.0</td>\n",
              "      <td>3.0</td>\n",
              "      <td>NaN</td>\n",
              "      <td>0</td>\n",
              "      <td>0.0</td>\n",
              "      <td>0.0</td>\n",
              "      <td>NaN</td>\n",
              "      <td>NaN</td>\n",
              "      <td>7419</td>\n",
              "      <td>807.0</td>\n",
              "      <td>2</td>\n",
              "      <td>0</td>\n",
              "      <td>0</td>\n",
              "      <td>0</td>\n",
              "      <td>0</td>\n",
              "      <td>0</td>\n",
              "      <td>0</td>\n",
              "      <td>0</td>\n",
              "      <td>0</td>\n",
              "      <td>0</td>\n",
              "      <td>0</td>\n",
              "      <td>NaN</td>\n",
              "      <td>NaN</td>\n",
              "    </tr>\n",
              "    <tr>\n",
              "      <th>2</th>\n",
              "      <td>6/11/2017 14:53</td>\n",
              "      <td>Amazon</td>\n",
              "      <td>L7</td>\n",
              "      <td>Product Manager</td>\n",
              "      <td>310000</td>\n",
              "      <td>Seattle, WA</td>\n",
              "      <td>8.0</td>\n",
              "      <td>0.0</td>\n",
              "      <td>NaN</td>\n",
              "      <td>155000</td>\n",
              "      <td>0.0</td>\n",
              "      <td>0.0</td>\n",
              "      <td>NaN</td>\n",
              "      <td>NaN</td>\n",
              "      <td>11527</td>\n",
              "      <td>819.0</td>\n",
              "      <td>3</td>\n",
              "      <td>0</td>\n",
              "      <td>0</td>\n",
              "      <td>0</td>\n",
              "      <td>0</td>\n",
              "      <td>0</td>\n",
              "      <td>0</td>\n",
              "      <td>0</td>\n",
              "      <td>0</td>\n",
              "      <td>0</td>\n",
              "      <td>0</td>\n",
              "      <td>NaN</td>\n",
              "      <td>NaN</td>\n",
              "    </tr>\n",
              "    <tr>\n",
              "      <th>3</th>\n",
              "      <td>6/17/2017 0:23</td>\n",
              "      <td>Apple</td>\n",
              "      <td>M1</td>\n",
              "      <td>Software Engineering Manager</td>\n",
              "      <td>372000</td>\n",
              "      <td>Sunnyvale, CA</td>\n",
              "      <td>7.0</td>\n",
              "      <td>5.0</td>\n",
              "      <td>NaN</td>\n",
              "      <td>157000</td>\n",
              "      <td>180000.0</td>\n",
              "      <td>35000.0</td>\n",
              "      <td>NaN</td>\n",
              "      <td>NaN</td>\n",
              "      <td>7472</td>\n",
              "      <td>807.0</td>\n",
              "      <td>7</td>\n",
              "      <td>0</td>\n",
              "      <td>0</td>\n",
              "      <td>0</td>\n",
              "      <td>0</td>\n",
              "      <td>0</td>\n",
              "      <td>0</td>\n",
              "      <td>0</td>\n",
              "      <td>0</td>\n",
              "      <td>0</td>\n",
              "      <td>0</td>\n",
              "      <td>NaN</td>\n",
              "      <td>NaN</td>\n",
              "    </tr>\n",
              "    <tr>\n",
              "      <th>4</th>\n",
              "      <td>6/20/2017 10:58</td>\n",
              "      <td>Microsoft</td>\n",
              "      <td>60</td>\n",
              "      <td>Software Engineer</td>\n",
              "      <td>157000</td>\n",
              "      <td>Mountain View, CA</td>\n",
              "      <td>5.0</td>\n",
              "      <td>3.0</td>\n",
              "      <td>NaN</td>\n",
              "      <td>0</td>\n",
              "      <td>0.0</td>\n",
              "      <td>0.0</td>\n",
              "      <td>NaN</td>\n",
              "      <td>NaN</td>\n",
              "      <td>7322</td>\n",
              "      <td>807.0</td>\n",
              "      <td>9</td>\n",
              "      <td>0</td>\n",
              "      <td>0</td>\n",
              "      <td>0</td>\n",
              "      <td>0</td>\n",
              "      <td>0</td>\n",
              "      <td>0</td>\n",
              "      <td>0</td>\n",
              "      <td>0</td>\n",
              "      <td>0</td>\n",
              "      <td>0</td>\n",
              "      <td>NaN</td>\n",
              "      <td>NaN</td>\n",
              "    </tr>\n",
              "  </tbody>\n",
              "</table>\n",
              "</div>"
            ],
            "text/plain": [
              "         timestamp    company level  ... Race_Hispanic  Race Education\n",
              "0   6/7/2017 11:33     Oracle    L3  ...             0   NaN       NaN\n",
              "1  6/10/2017 17:11       eBay  SE 2  ...             0   NaN       NaN\n",
              "2  6/11/2017 14:53     Amazon    L7  ...             0   NaN       NaN\n",
              "3   6/17/2017 0:23      Apple    M1  ...             0   NaN       NaN\n",
              "4  6/20/2017 10:58  Microsoft    60  ...             0   NaN       NaN\n",
              "\n",
              "[5 rows x 29 columns]"
            ]
          },
          "metadata": {},
          "execution_count": 6
        }
      ]
    },
    {
      "cell_type": "markdown",
      "metadata": {
        "id": "yO3jsVG6a2GD"
      },
      "source": [
        "*Count the number of unique values in this company column*"
      ]
    },
    {
      "cell_type": "code",
      "metadata": {
        "colab": {
          "base_uri": "https://localhost:8080/"
        },
        "id": "Hb4EHQptOhMo",
        "outputId": "19b8daad-5872-4d90-fb29-21436079cd7f"
      },
      "source": [
        "salaries_df['company'].nunique()"
      ],
      "execution_count": null,
      "outputs": [
        {
          "output_type": "execute_result",
          "data": {
            "text/plain": [
              "1631"
            ]
          },
          "metadata": {},
          "execution_count": 7
        }
      ]
    },
    {
      "cell_type": "markdown",
      "metadata": {
        "id": "SBnuN6eaa9ol"
      },
      "source": [
        "*Count the number of unique values in this total yearly compensation column*"
      ]
    },
    {
      "cell_type": "code",
      "metadata": {
        "colab": {
          "base_uri": "https://localhost:8080/"
        },
        "id": "spz6SXoiOqIt",
        "outputId": "10fe0def-ef1a-498a-8eeb-5025e05b5dd1"
      },
      "source": [
        "salaries_df['totalyearlycompensation'].nunique()"
      ],
      "execution_count": null,
      "outputs": [
        {
          "output_type": "execute_result",
          "data": {
            "text/plain": [
              "893"
            ]
          },
          "metadata": {},
          "execution_count": 8
        }
      ]
    },
    {
      "cell_type": "markdown",
      "metadata": {
        "id": "vn1S6aWMbFfL"
      },
      "source": [
        "*Count the number of unique values in this title column*"
      ]
    },
    {
      "cell_type": "code",
      "metadata": {
        "colab": {
          "base_uri": "https://localhost:8080/"
        },
        "id": "yIU2uXzjO051",
        "outputId": "0cd2ca59-3288-44a5-e024-4abc789d19d6"
      },
      "source": [
        "salaries_df['title'].nunique()"
      ],
      "execution_count": null,
      "outputs": [
        {
          "output_type": "execute_result",
          "data": {
            "text/plain": [
              "15"
            ]
          },
          "metadata": {},
          "execution_count": 9
        }
      ]
    },
    {
      "cell_type": "markdown",
      "metadata": {
        "id": "E_ic2NpzbPGd"
      },
      "source": [
        "*Count the number of unique values in this gender column*"
      ]
    },
    {
      "cell_type": "code",
      "metadata": {
        "colab": {
          "base_uri": "https://localhost:8080/"
        },
        "id": "2cH_r_PkO554",
        "outputId": "9ad05bcf-1fab-46b9-ca4d-eacb94c7001c"
      },
      "source": [
        "salaries_df['gender'].nunique()"
      ],
      "execution_count": null,
      "outputs": [
        {
          "output_type": "execute_result",
          "data": {
            "text/plain": [
              "4"
            ]
          },
          "metadata": {},
          "execution_count": 10
        }
      ]
    },
    {
      "cell_type": "markdown",
      "metadata": {
        "id": "dF50CA-CbVYw"
      },
      "source": [
        "*Count the number of unique values in this location column*"
      ]
    },
    {
      "cell_type": "code",
      "metadata": {
        "colab": {
          "base_uri": "https://localhost:8080/"
        },
        "id": "MaYanDaRO_8J",
        "outputId": "c67d0b58-45dc-4362-be52-f9816bb23f96"
      },
      "source": [
        "salaries_df['location'].nunique()"
      ],
      "execution_count": null,
      "outputs": [
        {
          "output_type": "execute_result",
          "data": {
            "text/plain": [
              "1050"
            ]
          },
          "metadata": {},
          "execution_count": 11
        }
      ]
    },
    {
      "cell_type": "markdown",
      "metadata": {
        "id": "PiZ8U2pHb90k"
      },
      "source": [
        "*Find the frequency of each value in the total yearly compensation column and obtain a statistical description*"
      ]
    },
    {
      "cell_type": "code",
      "metadata": {
        "colab": {
          "base_uri": "https://localhost:8080/"
        },
        "id": "0mJf204PWfEb",
        "outputId": "454f6554-f09a-4ec9-c23b-12a412ff2c69"
      },
      "source": [
        "salary_counts = salaries_df['totalyearlycompensation'].value_counts()\n",
        "salary_counts.describe()"
      ],
      "execution_count": null,
      "outputs": [
        {
          "output_type": "execute_result",
          "data": {
            "text/plain": [
              "count     893.000000\n",
              "mean       70.147816\n",
              "std       134.498139\n",
              "min         1.000000\n",
              "25%         2.000000\n",
              "50%        15.000000\n",
              "75%        87.000000\n",
              "max      1196.000000\n",
              "Name: totalyearlycompensation, dtype: float64"
            ]
          },
          "metadata": {},
          "execution_count": 12
        }
      ]
    },
    {
      "cell_type": "markdown",
      "metadata": {
        "id": "gfy34zRjcagO"
      },
      "source": [
        "*Find the frequency of each value in the company column. Only pring the first 10, because there is a total of 1631.*"
      ]
    },
    {
      "cell_type": "code",
      "metadata": {
        "colab": {
          "base_uri": "https://localhost:8080/"
        },
        "id": "Mcid_wYDPOEQ",
        "outputId": "237131f1-ba2c-4e52-a816-05e665dae155"
      },
      "source": [
        "company_counts = salaries_df['company'].value_counts()\n",
        "company_counts.head(10)"
      ],
      "execution_count": null,
      "outputs": [
        {
          "output_type": "execute_result",
          "data": {
            "text/plain": [
              "Amazon        8126\n",
              "Microsoft     5216\n",
              "Google        4330\n",
              "Facebook      2990\n",
              "Apple         2028\n",
              "Oracle        1128\n",
              "Salesforce    1056\n",
              "Intel          949\n",
              "IBM            907\n",
              "Cisco          907\n",
              "Name: company, dtype: int64"
            ]
          },
          "metadata": {},
          "execution_count": 13
        }
      ]
    },
    {
      "cell_type": "markdown",
      "metadata": {
        "id": "rkByfQSrdJgk"
      },
      "source": [
        "*Find the frequency of each value in the title column. Print all 15 main categories.*"
      ]
    },
    {
      "cell_type": "code",
      "metadata": {
        "colab": {
          "base_uri": "https://localhost:8080/"
        },
        "id": "Z0zlcbg8PiXN",
        "outputId": "94c34b47-3956-4c00-a2a5-3e353e8079cb"
      },
      "source": [
        "title_counts = salaries_df['title'].value_counts()\n",
        "title_counts"
      ],
      "execution_count": null,
      "outputs": [
        {
          "output_type": "execute_result",
          "data": {
            "text/plain": [
              "Software Engineer               41231\n",
              "Product Manager                  4673\n",
              "Software Engineering Manager     3569\n",
              "Data Scientist                   2578\n",
              "Hardware Engineer                2200\n",
              "Product Designer                 1516\n",
              "Technical Program Manager        1381\n",
              "Solution Architect               1157\n",
              "Management Consultant             976\n",
              "Business Analyst                  885\n",
              "Marketing                         710\n",
              "Mechanical Engineer               490\n",
              "Sales                             461\n",
              "Recruiter                         451\n",
              "Human Resources                   364\n",
              "Name: title, dtype: int64"
            ]
          },
          "metadata": {},
          "execution_count": 14
        }
      ]
    },
    {
      "cell_type": "markdown",
      "metadata": {
        "id": "o3Z_OemJheYr"
      },
      "source": [
        "**Data Scientist Titles**"
      ]
    },
    {
      "cell_type": "markdown",
      "metadata": {
        "id": "0_Ph_kb1dnM-"
      },
      "source": [
        "*Find Data Scientist title counts in data set*"
      ]
    },
    {
      "cell_type": "code",
      "metadata": {
        "colab": {
          "base_uri": "https://localhost:8080/",
          "height": 317
        },
        "id": "HG2_8uyIhjeF",
        "outputId": "9ba84e86-97fb-4f2d-ca36-efe27a6e7554"
      },
      "source": [
        "ds_df = salaries_df[salaries_df['title']=='Data Scientist']\n",
        "ds_df.describe()"
      ],
      "execution_count": null,
      "outputs": [
        {
          "output_type": "execute_result",
          "data": {
            "text/html": [
              "<div>\n",
              "<style scoped>\n",
              "    .dataframe tbody tr th:only-of-type {\n",
              "        vertical-align: middle;\n",
              "    }\n",
              "\n",
              "    .dataframe tbody tr th {\n",
              "        vertical-align: top;\n",
              "    }\n",
              "\n",
              "    .dataframe thead th {\n",
              "        text-align: right;\n",
              "    }\n",
              "</style>\n",
              "<table border=\"1\" class=\"dataframe\">\n",
              "  <thead>\n",
              "    <tr style=\"text-align: right;\">\n",
              "      <th></th>\n",
              "      <th>totalyearlycompensation</th>\n",
              "      <th>yearsofexperience</th>\n",
              "      <th>yearsatcompany</th>\n",
              "      <th>basesalary</th>\n",
              "      <th>stockgrantvalue</th>\n",
              "      <th>bonus</th>\n",
              "      <th>cityid</th>\n",
              "      <th>dmaid</th>\n",
              "      <th>rowNumber</th>\n",
              "      <th>Masters_Degree</th>\n",
              "      <th>Bachelors_Degree</th>\n",
              "      <th>Doctorate_Degree</th>\n",
              "      <th>Highschool</th>\n",
              "      <th>Some_College</th>\n",
              "      <th>Race_Asian</th>\n",
              "      <th>Race_White</th>\n",
              "      <th>Race_Two_Or_More</th>\n",
              "      <th>Race_Black</th>\n",
              "      <th>Race_Hispanic</th>\n",
              "    </tr>\n",
              "  </thead>\n",
              "  <tbody>\n",
              "    <tr>\n",
              "      <th>count</th>\n",
              "      <td>2578.000000</td>\n",
              "      <td>2578.000000</td>\n",
              "      <td>2578.000000</td>\n",
              "      <td>2578.000000</td>\n",
              "      <td>2578.000000</td>\n",
              "      <td>2578.000000</td>\n",
              "      <td>2578.000000</td>\n",
              "      <td>2578.000000</td>\n",
              "      <td>2578.000000</td>\n",
              "      <td>2578.000000</td>\n",
              "      <td>2578.000000</td>\n",
              "      <td>2578.000000</td>\n",
              "      <td>2578.000000</td>\n",
              "      <td>2578.000000</td>\n",
              "      <td>2578.000000</td>\n",
              "      <td>2578.000000</td>\n",
              "      <td>2578.000000</td>\n",
              "      <td>2578.000000</td>\n",
              "      <td>2578.000000</td>\n",
              "    </tr>\n",
              "    <tr>\n",
              "      <th>mean</th>\n",
              "      <td>203656.710628</td>\n",
              "      <td>5.059348</td>\n",
              "      <td>2.057622</td>\n",
              "      <td>138054.693561</td>\n",
              "      <td>40867.339022</td>\n",
              "      <td>17617.145074</td>\n",
              "      <td>9986.732739</td>\n",
              "      <td>620.963150</td>\n",
              "      <td>43468.069822</td>\n",
              "      <td>0.309542</td>\n",
              "      <td>0.094259</td>\n",
              "      <td>0.147789</td>\n",
              "      <td>0.001552</td>\n",
              "      <td>0.000388</td>\n",
              "      <td>0.195888</td>\n",
              "      <td>0.122964</td>\n",
              "      <td>0.010861</td>\n",
              "      <td>0.005043</td>\n",
              "      <td>0.012413</td>\n",
              "    </tr>\n",
              "    <tr>\n",
              "      <th>std</th>\n",
              "      <td>109504.643967</td>\n",
              "      <td>4.103621</td>\n",
              "      <td>2.256803</td>\n",
              "      <td>64405.538993</td>\n",
              "      <td>62490.550717</td>\n",
              "      <td>22240.502215</td>\n",
              "      <td>6609.613358</td>\n",
              "      <td>275.901269</td>\n",
              "      <td>24508.271158</td>\n",
              "      <td>0.462395</td>\n",
              "      <td>0.292246</td>\n",
              "      <td>0.354960</td>\n",
              "      <td>0.039367</td>\n",
              "      <td>0.019695</td>\n",
              "      <td>0.396960</td>\n",
              "      <td>0.328459</td>\n",
              "      <td>0.103669</td>\n",
              "      <td>0.070846</td>\n",
              "      <td>0.110740</td>\n",
              "    </tr>\n",
              "    <tr>\n",
              "      <th>min</th>\n",
              "      <td>10000.000000</td>\n",
              "      <td>0.000000</td>\n",
              "      <td>0.000000</td>\n",
              "      <td>0.000000</td>\n",
              "      <td>0.000000</td>\n",
              "      <td>0.000000</td>\n",
              "      <td>1182.000000</td>\n",
              "      <td>0.000000</td>\n",
              "      <td>813.000000</td>\n",
              "      <td>0.000000</td>\n",
              "      <td>0.000000</td>\n",
              "      <td>0.000000</td>\n",
              "      <td>0.000000</td>\n",
              "      <td>0.000000</td>\n",
              "      <td>0.000000</td>\n",
              "      <td>0.000000</td>\n",
              "      <td>0.000000</td>\n",
              "      <td>0.000000</td>\n",
              "      <td>0.000000</td>\n",
              "    </tr>\n",
              "    <tr>\n",
              "      <th>25%</th>\n",
              "      <td>135000.000000</td>\n",
              "      <td>2.000000</td>\n",
              "      <td>1.000000</td>\n",
              "      <td>110000.000000</td>\n",
              "      <td>0.000000</td>\n",
              "      <td>1250.000000</td>\n",
              "      <td>7419.000000</td>\n",
              "      <td>505.000000</td>\n",
              "      <td>22799.250000</td>\n",
              "      <td>0.000000</td>\n",
              "      <td>0.000000</td>\n",
              "      <td>0.000000</td>\n",
              "      <td>0.000000</td>\n",
              "      <td>0.000000</td>\n",
              "      <td>0.000000</td>\n",
              "      <td>0.000000</td>\n",
              "      <td>0.000000</td>\n",
              "      <td>0.000000</td>\n",
              "      <td>0.000000</td>\n",
              "    </tr>\n",
              "    <tr>\n",
              "      <th>50%</th>\n",
              "      <td>185000.000000</td>\n",
              "      <td>4.000000</td>\n",
              "      <td>2.000000</td>\n",
              "      <td>140000.000000</td>\n",
              "      <td>20000.000000</td>\n",
              "      <td>14000.000000</td>\n",
              "      <td>8178.000000</td>\n",
              "      <td>807.000000</td>\n",
              "      <td>44403.000000</td>\n",
              "      <td>0.000000</td>\n",
              "      <td>0.000000</td>\n",
              "      <td>0.000000</td>\n",
              "      <td>0.000000</td>\n",
              "      <td>0.000000</td>\n",
              "      <td>0.000000</td>\n",
              "      <td>0.000000</td>\n",
              "      <td>0.000000</td>\n",
              "      <td>0.000000</td>\n",
              "      <td>0.000000</td>\n",
              "    </tr>\n",
              "    <tr>\n",
              "      <th>75%</th>\n",
              "      <td>250000.000000</td>\n",
              "      <td>7.000000</td>\n",
              "      <td>3.000000</td>\n",
              "      <td>165000.000000</td>\n",
              "      <td>51000.000000</td>\n",
              "      <td>25000.000000</td>\n",
              "      <td>11521.000000</td>\n",
              "      <td>807.000000</td>\n",
              "      <td>65561.750000</td>\n",
              "      <td>1.000000</td>\n",
              "      <td>0.000000</td>\n",
              "      <td>0.000000</td>\n",
              "      <td>0.000000</td>\n",
              "      <td>0.000000</td>\n",
              "      <td>0.000000</td>\n",
              "      <td>0.000000</td>\n",
              "      <td>0.000000</td>\n",
              "      <td>0.000000</td>\n",
              "      <td>0.000000</td>\n",
              "    </tr>\n",
              "    <tr>\n",
              "      <th>max</th>\n",
              "      <td>1000000.000000</td>\n",
              "      <td>34.000000</td>\n",
              "      <td>20.000000</td>\n",
              "      <td>700000.000000</td>\n",
              "      <td>700000.000000</td>\n",
              "      <td>350000.000000</td>\n",
              "      <td>47926.000000</td>\n",
              "      <td>862.000000</td>\n",
              "      <td>83867.000000</td>\n",
              "      <td>1.000000</td>\n",
              "      <td>1.000000</td>\n",
              "      <td>1.000000</td>\n",
              "      <td>1.000000</td>\n",
              "      <td>1.000000</td>\n",
              "      <td>1.000000</td>\n",
              "      <td>1.000000</td>\n",
              "      <td>1.000000</td>\n",
              "      <td>1.000000</td>\n",
              "      <td>1.000000</td>\n",
              "    </tr>\n",
              "  </tbody>\n",
              "</table>\n",
              "</div>"
            ],
            "text/plain": [
              "       totalyearlycompensation  yearsofexperience  ...   Race_Black  Race_Hispanic\n",
              "count              2578.000000        2578.000000  ...  2578.000000    2578.000000\n",
              "mean             203656.710628           5.059348  ...     0.005043       0.012413\n",
              "std              109504.643967           4.103621  ...     0.070846       0.110740\n",
              "min               10000.000000           0.000000  ...     0.000000       0.000000\n",
              "25%              135000.000000           2.000000  ...     0.000000       0.000000\n",
              "50%              185000.000000           4.000000  ...     0.000000       0.000000\n",
              "75%              250000.000000           7.000000  ...     0.000000       0.000000\n",
              "max             1000000.000000          34.000000  ...     1.000000       1.000000\n",
              "\n",
              "[8 rows x 19 columns]"
            ]
          },
          "metadata": {},
          "execution_count": 15
        }
      ]
    },
    {
      "cell_type": "markdown",
      "metadata": {
        "id": "JRicOdvfX7-j"
      },
      "source": [
        "**Data Scientists' Total Salary**"
      ]
    },
    {
      "cell_type": "markdown",
      "metadata": {
        "id": "sJ-JpsGZd3Dq"
      },
      "source": [
        "*Find the count and statistical calculations of Data Scientists' yearly total compensation.*"
      ]
    },
    {
      "cell_type": "code",
      "metadata": {
        "colab": {
          "base_uri": "https://localhost:8080/"
        },
        "id": "OlS5tIt_YAfX",
        "outputId": "542b70fb-ec78-4afd-cb21-c52bbd80554d"
      },
      "source": [
        "dssalary_df = ds_df['totalyearlycompensation']\n",
        "dssalary_df.describe()"
      ],
      "execution_count": null,
      "outputs": [
        {
          "output_type": "execute_result",
          "data": {
            "text/plain": [
              "count       2578.000000\n",
              "mean      203656.710628\n",
              "std       109504.643967\n",
              "min        10000.000000\n",
              "25%       135000.000000\n",
              "50%       185000.000000\n",
              "75%       250000.000000\n",
              "max      1000000.000000\n",
              "Name: totalyearlycompensation, dtype: float64"
            ]
          },
          "metadata": {},
          "execution_count": 16
        }
      ]
    },
    {
      "cell_type": "markdown",
      "metadata": {
        "id": "39T7xShCePAx"
      },
      "source": [
        "*Find the frequency of each value in the column. Print all 3 categories.*"
      ]
    },
    {
      "cell_type": "code",
      "metadata": {
        "colab": {
          "base_uri": "https://localhost:8080/"
        },
        "id": "Yq0fWFIbQDK6",
        "outputId": "c554ffbc-8ebd-43e0-bd1e-a927256aff70"
      },
      "source": [
        "gender_counts = salaries_df['gender'].value_counts()\n",
        "gender_counts"
      ],
      "execution_count": null,
      "outputs": [
        {
          "output_type": "execute_result",
          "data": {
            "text/plain": [
              "Male                               35702\n",
              "Female                              6999\n",
              "Other                                400\n",
              "Title: Senior Software Engineer        1\n",
              "Name: gender, dtype: int64"
            ]
          },
          "metadata": {},
          "execution_count": 17
        }
      ]
    },
    {
      "cell_type": "markdown",
      "metadata": {
        "id": "PyxUyzRFegD1"
      },
      "source": [
        "*Find male data scientists gender counts in data set*"
      ]
    },
    {
      "cell_type": "code",
      "metadata": {
        "colab": {
          "base_uri": "https://localhost:8080/",
          "height": 317
        },
        "id": "2zeHKOSISxJ5",
        "outputId": "21d990e0-b272-453b-b86b-b1f593d7a3c6"
      },
      "source": [
        "males_df = ds_df[ds_df['gender']=='Male']\n",
        "males_df.describe()"
      ],
      "execution_count": null,
      "outputs": [
        {
          "output_type": "execute_result",
          "data": {
            "text/html": [
              "<div>\n",
              "<style scoped>\n",
              "    .dataframe tbody tr th:only-of-type {\n",
              "        vertical-align: middle;\n",
              "    }\n",
              "\n",
              "    .dataframe tbody tr th {\n",
              "        vertical-align: top;\n",
              "    }\n",
              "\n",
              "    .dataframe thead th {\n",
              "        text-align: right;\n",
              "    }\n",
              "</style>\n",
              "<table border=\"1\" class=\"dataframe\">\n",
              "  <thead>\n",
              "    <tr style=\"text-align: right;\">\n",
              "      <th></th>\n",
              "      <th>totalyearlycompensation</th>\n",
              "      <th>yearsofexperience</th>\n",
              "      <th>yearsatcompany</th>\n",
              "      <th>basesalary</th>\n",
              "      <th>stockgrantvalue</th>\n",
              "      <th>bonus</th>\n",
              "      <th>cityid</th>\n",
              "      <th>dmaid</th>\n",
              "      <th>rowNumber</th>\n",
              "      <th>Masters_Degree</th>\n",
              "      <th>Bachelors_Degree</th>\n",
              "      <th>Doctorate_Degree</th>\n",
              "      <th>Highschool</th>\n",
              "      <th>Some_College</th>\n",
              "      <th>Race_Asian</th>\n",
              "      <th>Race_White</th>\n",
              "      <th>Race_Two_Or_More</th>\n",
              "      <th>Race_Black</th>\n",
              "      <th>Race_Hispanic</th>\n",
              "    </tr>\n",
              "  </thead>\n",
              "  <tbody>\n",
              "    <tr>\n",
              "      <th>count</th>\n",
              "      <td>1357.000000</td>\n",
              "      <td>1357.000000</td>\n",
              "      <td>1357.000000</td>\n",
              "      <td>1357.000000</td>\n",
              "      <td>1357.000000</td>\n",
              "      <td>1357.000000</td>\n",
              "      <td>1357.000000</td>\n",
              "      <td>1357.000000</td>\n",
              "      <td>1357.000000</td>\n",
              "      <td>1357.000000</td>\n",
              "      <td>1357.000000</td>\n",
              "      <td>1357.000000</td>\n",
              "      <td>1357.000000</td>\n",
              "      <td>1357.000000</td>\n",
              "      <td>1357.000000</td>\n",
              "      <td>1357.000000</td>\n",
              "      <td>1357.000000</td>\n",
              "      <td>1357.000000</td>\n",
              "      <td>1357.000000</td>\n",
              "    </tr>\n",
              "    <tr>\n",
              "      <th>mean</th>\n",
              "      <td>202107.590273</td>\n",
              "      <td>5.043478</td>\n",
              "      <td>2.023287</td>\n",
              "      <td>139061.164333</td>\n",
              "      <td>40952.837141</td>\n",
              "      <td>18056.005895</td>\n",
              "      <td>10029.946942</td>\n",
              "      <td>601.501105</td>\n",
              "      <td>41397.712601</td>\n",
              "      <td>0.398674</td>\n",
              "      <td>0.132646</td>\n",
              "      <td>0.200442</td>\n",
              "      <td>0.001474</td>\n",
              "      <td>0.000737</td>\n",
              "      <td>0.280766</td>\n",
              "      <td>0.184967</td>\n",
              "      <td>0.012528</td>\n",
              "      <td>0.006632</td>\n",
              "      <td>0.021371</td>\n",
              "    </tr>\n",
              "    <tr>\n",
              "      <th>std</th>\n",
              "      <td>112187.383715</td>\n",
              "      <td>4.283159</td>\n",
              "      <td>2.270639</td>\n",
              "      <td>67034.629382</td>\n",
              "      <td>60442.169767</td>\n",
              "      <td>23513.940878</td>\n",
              "      <td>6780.779305</td>\n",
              "      <td>286.674159</td>\n",
              "      <td>24361.831747</td>\n",
              "      <td>0.489806</td>\n",
              "      <td>0.339316</td>\n",
              "      <td>0.400479</td>\n",
              "      <td>0.038376</td>\n",
              "      <td>0.027146</td>\n",
              "      <td>0.449539</td>\n",
              "      <td>0.388414</td>\n",
              "      <td>0.111265</td>\n",
              "      <td>0.081198</td>\n",
              "      <td>0.144670</td>\n",
              "    </tr>\n",
              "    <tr>\n",
              "      <th>min</th>\n",
              "      <td>10000.000000</td>\n",
              "      <td>0.000000</td>\n",
              "      <td>0.000000</td>\n",
              "      <td>0.000000</td>\n",
              "      <td>0.000000</td>\n",
              "      <td>0.000000</td>\n",
              "      <td>1182.000000</td>\n",
              "      <td>0.000000</td>\n",
              "      <td>813.000000</td>\n",
              "      <td>0.000000</td>\n",
              "      <td>0.000000</td>\n",
              "      <td>0.000000</td>\n",
              "      <td>0.000000</td>\n",
              "      <td>0.000000</td>\n",
              "      <td>0.000000</td>\n",
              "      <td>0.000000</td>\n",
              "      <td>0.000000</td>\n",
              "      <td>0.000000</td>\n",
              "      <td>0.000000</td>\n",
              "    </tr>\n",
              "    <tr>\n",
              "      <th>25%</th>\n",
              "      <td>133000.000000</td>\n",
              "      <td>2.000000</td>\n",
              "      <td>0.000000</td>\n",
              "      <td>110000.000000</td>\n",
              "      <td>0.000000</td>\n",
              "      <td>3000.000000</td>\n",
              "      <td>7413.000000</td>\n",
              "      <td>501.000000</td>\n",
              "      <td>20244.000000</td>\n",
              "      <td>0.000000</td>\n",
              "      <td>0.000000</td>\n",
              "      <td>0.000000</td>\n",
              "      <td>0.000000</td>\n",
              "      <td>0.000000</td>\n",
              "      <td>0.000000</td>\n",
              "      <td>0.000000</td>\n",
              "      <td>0.000000</td>\n",
              "      <td>0.000000</td>\n",
              "      <td>0.000000</td>\n",
              "    </tr>\n",
              "    <tr>\n",
              "      <th>50%</th>\n",
              "      <td>183000.000000</td>\n",
              "      <td>4.000000</td>\n",
              "      <td>2.000000</td>\n",
              "      <td>140000.000000</td>\n",
              "      <td>20000.000000</td>\n",
              "      <td>14000.000000</td>\n",
              "      <td>8198.000000</td>\n",
              "      <td>807.000000</td>\n",
              "      <td>39079.000000</td>\n",
              "      <td>0.000000</td>\n",
              "      <td>0.000000</td>\n",
              "      <td>0.000000</td>\n",
              "      <td>0.000000</td>\n",
              "      <td>0.000000</td>\n",
              "      <td>0.000000</td>\n",
              "      <td>0.000000</td>\n",
              "      <td>0.000000</td>\n",
              "      <td>0.000000</td>\n",
              "      <td>0.000000</td>\n",
              "    </tr>\n",
              "    <tr>\n",
              "      <th>75%</th>\n",
              "      <td>248000.000000</td>\n",
              "      <td>7.000000</td>\n",
              "      <td>3.000000</td>\n",
              "      <td>165000.000000</td>\n",
              "      <td>54000.000000</td>\n",
              "      <td>25000.000000</td>\n",
              "      <td>11470.000000</td>\n",
              "      <td>807.000000</td>\n",
              "      <td>63187.000000</td>\n",
              "      <td>1.000000</td>\n",
              "      <td>0.000000</td>\n",
              "      <td>0.000000</td>\n",
              "      <td>0.000000</td>\n",
              "      <td>0.000000</td>\n",
              "      <td>1.000000</td>\n",
              "      <td>0.000000</td>\n",
              "      <td>0.000000</td>\n",
              "      <td>0.000000</td>\n",
              "      <td>0.000000</td>\n",
              "    </tr>\n",
              "    <tr>\n",
              "      <th>max</th>\n",
              "      <td>900000.000000</td>\n",
              "      <td>30.000000</td>\n",
              "      <td>19.000000</td>\n",
              "      <td>700000.000000</td>\n",
              "      <td>470000.000000</td>\n",
              "      <td>350000.000000</td>\n",
              "      <td>47926.000000</td>\n",
              "      <td>839.000000</td>\n",
              "      <td>83816.000000</td>\n",
              "      <td>1.000000</td>\n",
              "      <td>1.000000</td>\n",
              "      <td>1.000000</td>\n",
              "      <td>1.000000</td>\n",
              "      <td>1.000000</td>\n",
              "      <td>1.000000</td>\n",
              "      <td>1.000000</td>\n",
              "      <td>1.000000</td>\n",
              "      <td>1.000000</td>\n",
              "      <td>1.000000</td>\n",
              "    </tr>\n",
              "  </tbody>\n",
              "</table>\n",
              "</div>"
            ],
            "text/plain": [
              "       totalyearlycompensation  yearsofexperience  ...   Race_Black  Race_Hispanic\n",
              "count              1357.000000        1357.000000  ...  1357.000000    1357.000000\n",
              "mean             202107.590273           5.043478  ...     0.006632       0.021371\n",
              "std              112187.383715           4.283159  ...     0.081198       0.144670\n",
              "min               10000.000000           0.000000  ...     0.000000       0.000000\n",
              "25%              133000.000000           2.000000  ...     0.000000       0.000000\n",
              "50%              183000.000000           4.000000  ...     0.000000       0.000000\n",
              "75%              248000.000000           7.000000  ...     0.000000       0.000000\n",
              "max              900000.000000          30.000000  ...     1.000000       1.000000\n",
              "\n",
              "[8 rows x 19 columns]"
            ]
          },
          "metadata": {},
          "execution_count": 18
        }
      ]
    },
    {
      "cell_type": "markdown",
      "metadata": {
        "id": "M_HfIS-RerBq"
      },
      "source": [
        "*Find female data scientist gender counts in data set*"
      ]
    },
    {
      "cell_type": "code",
      "metadata": {
        "colab": {
          "base_uri": "https://localhost:8080/",
          "height": 317
        },
        "id": "NbF-9X7cgQpM",
        "outputId": "865a68e7-c8a1-470c-e555-d7a3946fd00d"
      },
      "source": [
        "females_df = ds_df[ds_df['gender']=='Female']\n",
        "females_df.describe()"
      ],
      "execution_count": null,
      "outputs": [
        {
          "output_type": "execute_result",
          "data": {
            "text/html": [
              "<div>\n",
              "<style scoped>\n",
              "    .dataframe tbody tr th:only-of-type {\n",
              "        vertical-align: middle;\n",
              "    }\n",
              "\n",
              "    .dataframe tbody tr th {\n",
              "        vertical-align: top;\n",
              "    }\n",
              "\n",
              "    .dataframe thead th {\n",
              "        text-align: right;\n",
              "    }\n",
              "</style>\n",
              "<table border=\"1\" class=\"dataframe\">\n",
              "  <thead>\n",
              "    <tr style=\"text-align: right;\">\n",
              "      <th></th>\n",
              "      <th>totalyearlycompensation</th>\n",
              "      <th>yearsofexperience</th>\n",
              "      <th>yearsatcompany</th>\n",
              "      <th>basesalary</th>\n",
              "      <th>stockgrantvalue</th>\n",
              "      <th>bonus</th>\n",
              "      <th>cityid</th>\n",
              "      <th>dmaid</th>\n",
              "      <th>rowNumber</th>\n",
              "      <th>Masters_Degree</th>\n",
              "      <th>Bachelors_Degree</th>\n",
              "      <th>Doctorate_Degree</th>\n",
              "      <th>Highschool</th>\n",
              "      <th>Some_College</th>\n",
              "      <th>Race_Asian</th>\n",
              "      <th>Race_White</th>\n",
              "      <th>Race_Two_Or_More</th>\n",
              "      <th>Race_Black</th>\n",
              "      <th>Race_Hispanic</th>\n",
              "    </tr>\n",
              "  </thead>\n",
              "  <tbody>\n",
              "    <tr>\n",
              "      <th>count</th>\n",
              "      <td>361.000000</td>\n",
              "      <td>361.000000</td>\n",
              "      <td>361.000000</td>\n",
              "      <td>361.000000</td>\n",
              "      <td>361.000000</td>\n",
              "      <td>361.000000</td>\n",
              "      <td>361.000000</td>\n",
              "      <td>361.000000</td>\n",
              "      <td>361.000000</td>\n",
              "      <td>361.000000</td>\n",
              "      <td>361.000000</td>\n",
              "      <td>361.000000</td>\n",
              "      <td>361.000000</td>\n",
              "      <td>361.0</td>\n",
              "      <td>361.00000</td>\n",
              "      <td>361.000000</td>\n",
              "      <td>361.000000</td>\n",
              "      <td>361.000000</td>\n",
              "      <td>361.000000</td>\n",
              "    </tr>\n",
              "    <tr>\n",
              "      <th>mean</th>\n",
              "      <td>190063.711911</td>\n",
              "      <td>4.379501</td>\n",
              "      <td>1.853186</td>\n",
              "      <td>136005.540166</td>\n",
              "      <td>34085.872576</td>\n",
              "      <td>15869.806094</td>\n",
              "      <td>9906.110803</td>\n",
              "      <td>656.462604</td>\n",
              "      <td>44926.332410</td>\n",
              "      <td>0.476454</td>\n",
              "      <td>0.141274</td>\n",
              "      <td>0.135734</td>\n",
              "      <td>0.002770</td>\n",
              "      <td>0.0</td>\n",
              "      <td>0.32687</td>\n",
              "      <td>0.174515</td>\n",
              "      <td>0.027701</td>\n",
              "      <td>0.011080</td>\n",
              "      <td>0.008310</td>\n",
              "    </tr>\n",
              "    <tr>\n",
              "      <th>std</th>\n",
              "      <td>80737.598542</td>\n",
              "      <td>3.208066</td>\n",
              "      <td>1.982979</td>\n",
              "      <td>49934.734875</td>\n",
              "      <td>43248.453343</td>\n",
              "      <td>15446.581866</td>\n",
              "      <td>6568.299913</td>\n",
              "      <td>255.084886</td>\n",
              "      <td>23777.102899</td>\n",
              "      <td>0.500138</td>\n",
              "      <td>0.348788</td>\n",
              "      <td>0.342981</td>\n",
              "      <td>0.052632</td>\n",
              "      <td>0.0</td>\n",
              "      <td>0.46972</td>\n",
              "      <td>0.380079</td>\n",
              "      <td>0.164342</td>\n",
              "      <td>0.104824</td>\n",
              "      <td>0.090907</td>\n",
              "    </tr>\n",
              "    <tr>\n",
              "      <th>min</th>\n",
              "      <td>13000.000000</td>\n",
              "      <td>0.000000</td>\n",
              "      <td>0.000000</td>\n",
              "      <td>0.000000</td>\n",
              "      <td>0.000000</td>\n",
              "      <td>0.000000</td>\n",
              "      <td>1182.000000</td>\n",
              "      <td>0.000000</td>\n",
              "      <td>855.000000</td>\n",
              "      <td>0.000000</td>\n",
              "      <td>0.000000</td>\n",
              "      <td>0.000000</td>\n",
              "      <td>0.000000</td>\n",
              "      <td>0.0</td>\n",
              "      <td>0.00000</td>\n",
              "      <td>0.000000</td>\n",
              "      <td>0.000000</td>\n",
              "      <td>0.000000</td>\n",
              "      <td>0.000000</td>\n",
              "    </tr>\n",
              "    <tr>\n",
              "      <th>25%</th>\n",
              "      <td>135000.000000</td>\n",
              "      <td>2.000000</td>\n",
              "      <td>0.000000</td>\n",
              "      <td>115000.000000</td>\n",
              "      <td>0.000000</td>\n",
              "      <td>5000.000000</td>\n",
              "      <td>7416.000000</td>\n",
              "      <td>511.000000</td>\n",
              "      <td>24856.000000</td>\n",
              "      <td>0.000000</td>\n",
              "      <td>0.000000</td>\n",
              "      <td>0.000000</td>\n",
              "      <td>0.000000</td>\n",
              "      <td>0.0</td>\n",
              "      <td>0.00000</td>\n",
              "      <td>0.000000</td>\n",
              "      <td>0.000000</td>\n",
              "      <td>0.000000</td>\n",
              "      <td>0.000000</td>\n",
              "    </tr>\n",
              "    <tr>\n",
              "      <th>50%</th>\n",
              "      <td>182000.000000</td>\n",
              "      <td>4.000000</td>\n",
              "      <td>1.000000</td>\n",
              "      <td>140000.000000</td>\n",
              "      <td>20000.000000</td>\n",
              "      <td>14000.000000</td>\n",
              "      <td>7472.000000</td>\n",
              "      <td>807.000000</td>\n",
              "      <td>46832.000000</td>\n",
              "      <td>0.000000</td>\n",
              "      <td>0.000000</td>\n",
              "      <td>0.000000</td>\n",
              "      <td>0.000000</td>\n",
              "      <td>0.0</td>\n",
              "      <td>0.00000</td>\n",
              "      <td>0.000000</td>\n",
              "      <td>0.000000</td>\n",
              "      <td>0.000000</td>\n",
              "      <td>0.000000</td>\n",
              "    </tr>\n",
              "    <tr>\n",
              "      <th>75%</th>\n",
              "      <td>228000.000000</td>\n",
              "      <td>6.000000</td>\n",
              "      <td>3.000000</td>\n",
              "      <td>160000.000000</td>\n",
              "      <td>50000.000000</td>\n",
              "      <td>21000.000000</td>\n",
              "      <td>11470.000000</td>\n",
              "      <td>807.000000</td>\n",
              "      <td>65488.000000</td>\n",
              "      <td>1.000000</td>\n",
              "      <td>0.000000</td>\n",
              "      <td>0.000000</td>\n",
              "      <td>0.000000</td>\n",
              "      <td>0.0</td>\n",
              "      <td>1.00000</td>\n",
              "      <td>0.000000</td>\n",
              "      <td>0.000000</td>\n",
              "      <td>0.000000</td>\n",
              "      <td>0.000000</td>\n",
              "    </tr>\n",
              "    <tr>\n",
              "      <th>max</th>\n",
              "      <td>634000.000000</td>\n",
              "      <td>20.000000</td>\n",
              "      <td>13.000000</td>\n",
              "      <td>400000.000000</td>\n",
              "      <td>353000.000000</td>\n",
              "      <td>120000.000000</td>\n",
              "      <td>47926.000000</td>\n",
              "      <td>825.000000</td>\n",
              "      <td>83623.000000</td>\n",
              "      <td>1.000000</td>\n",
              "      <td>1.000000</td>\n",
              "      <td>1.000000</td>\n",
              "      <td>1.000000</td>\n",
              "      <td>0.0</td>\n",
              "      <td>1.00000</td>\n",
              "      <td>1.000000</td>\n",
              "      <td>1.000000</td>\n",
              "      <td>1.000000</td>\n",
              "      <td>1.000000</td>\n",
              "    </tr>\n",
              "  </tbody>\n",
              "</table>\n",
              "</div>"
            ],
            "text/plain": [
              "       totalyearlycompensation  yearsofexperience  ...  Race_Black  Race_Hispanic\n",
              "count               361.000000         361.000000  ...  361.000000     361.000000\n",
              "mean             190063.711911           4.379501  ...    0.011080       0.008310\n",
              "std               80737.598542           3.208066  ...    0.104824       0.090907\n",
              "min               13000.000000           0.000000  ...    0.000000       0.000000\n",
              "25%              135000.000000           2.000000  ...    0.000000       0.000000\n",
              "50%              182000.000000           4.000000  ...    0.000000       0.000000\n",
              "75%              228000.000000           6.000000  ...    0.000000       0.000000\n",
              "max              634000.000000          20.000000  ...    1.000000       1.000000\n",
              "\n",
              "[8 rows x 19 columns]"
            ]
          },
          "metadata": {},
          "execution_count": 19
        }
      ]
    },
    {
      "cell_type": "markdown",
      "metadata": {
        "id": "liPPO4_Lez0I"
      },
      "source": [
        "*Find the frequency of each value in the location column for data scientists. Only print the first 10.*"
      ]
    },
    {
      "cell_type": "code",
      "metadata": {
        "colab": {
          "base_uri": "https://localhost:8080/"
        },
        "id": "_cJbo5-EPd6U",
        "outputId": "8293978a-2ef5-4c12-b034-0423b0a75fec"
      },
      "source": [
        "location_counts = ds_df['location'].value_counts()\n",
        "location_counts.head(10)"
      ],
      "execution_count": null,
      "outputs": [
        {
          "output_type": "execute_result",
          "data": {
            "text/plain": [
              "San Francisco, CA    373\n",
              "Seattle, WA          311\n",
              "New York, NY         245\n",
              "Redmond, WA          105\n",
              "Menlo Park, CA        94\n",
              "Sunnyvale, CA         84\n",
              "San Jose, CA          72\n",
              "Mountain View, CA     69\n",
              "Cupertino, CA         57\n",
              "Boston, MA            55\n",
              "Name: location, dtype: int64"
            ]
          },
          "metadata": {},
          "execution_count": 20
        }
      ]
    },
    {
      "cell_type": "markdown",
      "metadata": {
        "id": "FpyytZz3fHE4"
      },
      "source": [
        "*Find San Francisco, CA counts in data set for data scientists*"
      ]
    },
    {
      "cell_type": "code",
      "metadata": {
        "colab": {
          "base_uri": "https://localhost:8080/",
          "height": 317
        },
        "id": "jKcy2irigmBA",
        "outputId": "50e176f5-2d40-454a-ec0f-e1a3eca94c85"
      },
      "source": [
        "sf_df = ds_df[ds_df['location']=='San Francisco, CA']\n",
        "sf_df.describe()"
      ],
      "execution_count": null,
      "outputs": [
        {
          "output_type": "execute_result",
          "data": {
            "text/html": [
              "<div>\n",
              "<style scoped>\n",
              "    .dataframe tbody tr th:only-of-type {\n",
              "        vertical-align: middle;\n",
              "    }\n",
              "\n",
              "    .dataframe tbody tr th {\n",
              "        vertical-align: top;\n",
              "    }\n",
              "\n",
              "    .dataframe thead th {\n",
              "        text-align: right;\n",
              "    }\n",
              "</style>\n",
              "<table border=\"1\" class=\"dataframe\">\n",
              "  <thead>\n",
              "    <tr style=\"text-align: right;\">\n",
              "      <th></th>\n",
              "      <th>totalyearlycompensation</th>\n",
              "      <th>yearsofexperience</th>\n",
              "      <th>yearsatcompany</th>\n",
              "      <th>basesalary</th>\n",
              "      <th>stockgrantvalue</th>\n",
              "      <th>bonus</th>\n",
              "      <th>cityid</th>\n",
              "      <th>dmaid</th>\n",
              "      <th>rowNumber</th>\n",
              "      <th>Masters_Degree</th>\n",
              "      <th>Bachelors_Degree</th>\n",
              "      <th>Doctorate_Degree</th>\n",
              "      <th>Highschool</th>\n",
              "      <th>Some_College</th>\n",
              "      <th>Race_Asian</th>\n",
              "      <th>Race_White</th>\n",
              "      <th>Race_Two_Or_More</th>\n",
              "      <th>Race_Black</th>\n",
              "      <th>Race_Hispanic</th>\n",
              "    </tr>\n",
              "  </thead>\n",
              "  <tbody>\n",
              "    <tr>\n",
              "      <th>count</th>\n",
              "      <td>373.000000</td>\n",
              "      <td>373.000000</td>\n",
              "      <td>373.000000</td>\n",
              "      <td>373.000000</td>\n",
              "      <td>373.000000</td>\n",
              "      <td>373.000000</td>\n",
              "      <td>373.0</td>\n",
              "      <td>373.0</td>\n",
              "      <td>373.000000</td>\n",
              "      <td>373.000000</td>\n",
              "      <td>373.000000</td>\n",
              "      <td>373.000000</td>\n",
              "      <td>373.0</td>\n",
              "      <td>373.0</td>\n",
              "      <td>373.000000</td>\n",
              "      <td>373.000000</td>\n",
              "      <td>373.000000</td>\n",
              "      <td>373.0</td>\n",
              "      <td>373.000000</td>\n",
              "    </tr>\n",
              "    <tr>\n",
              "      <th>mean</th>\n",
              "      <td>271155.495979</td>\n",
              "      <td>5.018767</td>\n",
              "      <td>1.618633</td>\n",
              "      <td>162785.522788</td>\n",
              "      <td>79825.737265</td>\n",
              "      <td>18029.490617</td>\n",
              "      <td>7419.0</td>\n",
              "      <td>807.0</td>\n",
              "      <td>40472.705094</td>\n",
              "      <td>0.246649</td>\n",
              "      <td>0.080429</td>\n",
              "      <td>0.152815</td>\n",
              "      <td>0.0</td>\n",
              "      <td>0.0</td>\n",
              "      <td>0.176944</td>\n",
              "      <td>0.096515</td>\n",
              "      <td>0.008043</td>\n",
              "      <td>0.0</td>\n",
              "      <td>0.008043</td>\n",
              "    </tr>\n",
              "    <tr>\n",
              "      <th>std</th>\n",
              "      <td>113753.565243</td>\n",
              "      <td>3.744124</td>\n",
              "      <td>1.551831</td>\n",
              "      <td>52266.501788</td>\n",
              "      <td>85769.409429</td>\n",
              "      <td>20450.614235</td>\n",
              "      <td>0.0</td>\n",
              "      <td>0.0</td>\n",
              "      <td>23626.413382</td>\n",
              "      <td>0.431640</td>\n",
              "      <td>0.272321</td>\n",
              "      <td>0.360292</td>\n",
              "      <td>0.0</td>\n",
              "      <td>0.0</td>\n",
              "      <td>0.382134</td>\n",
              "      <td>0.295693</td>\n",
              "      <td>0.089441</td>\n",
              "      <td>0.0</td>\n",
              "      <td>0.089441</td>\n",
              "    </tr>\n",
              "    <tr>\n",
              "      <th>min</th>\n",
              "      <td>100000.000000</td>\n",
              "      <td>0.000000</td>\n",
              "      <td>0.000000</td>\n",
              "      <td>0.000000</td>\n",
              "      <td>0.000000</td>\n",
              "      <td>0.000000</td>\n",
              "      <td>7419.0</td>\n",
              "      <td>807.0</td>\n",
              "      <td>813.000000</td>\n",
              "      <td>0.000000</td>\n",
              "      <td>0.000000</td>\n",
              "      <td>0.000000</td>\n",
              "      <td>0.0</td>\n",
              "      <td>0.0</td>\n",
              "      <td>0.000000</td>\n",
              "      <td>0.000000</td>\n",
              "      <td>0.000000</td>\n",
              "      <td>0.0</td>\n",
              "      <td>0.000000</td>\n",
              "    </tr>\n",
              "    <tr>\n",
              "      <th>25%</th>\n",
              "      <td>195000.000000</td>\n",
              "      <td>2.000000</td>\n",
              "      <td>0.000000</td>\n",
              "      <td>143000.000000</td>\n",
              "      <td>25000.000000</td>\n",
              "      <td>0.000000</td>\n",
              "      <td>7419.0</td>\n",
              "      <td>807.0</td>\n",
              "      <td>21039.000000</td>\n",
              "      <td>0.000000</td>\n",
              "      <td>0.000000</td>\n",
              "      <td>0.000000</td>\n",
              "      <td>0.0</td>\n",
              "      <td>0.0</td>\n",
              "      <td>0.000000</td>\n",
              "      <td>0.000000</td>\n",
              "      <td>0.000000</td>\n",
              "      <td>0.0</td>\n",
              "      <td>0.000000</td>\n",
              "    </tr>\n",
              "    <tr>\n",
              "      <th>50%</th>\n",
              "      <td>250000.000000</td>\n",
              "      <td>4.000000</td>\n",
              "      <td>1.000000</td>\n",
              "      <td>164000.000000</td>\n",
              "      <td>55000.000000</td>\n",
              "      <td>15000.000000</td>\n",
              "      <td>7419.0</td>\n",
              "      <td>807.0</td>\n",
              "      <td>39341.000000</td>\n",
              "      <td>0.000000</td>\n",
              "      <td>0.000000</td>\n",
              "      <td>0.000000</td>\n",
              "      <td>0.0</td>\n",
              "      <td>0.0</td>\n",
              "      <td>0.000000</td>\n",
              "      <td>0.000000</td>\n",
              "      <td>0.000000</td>\n",
              "      <td>0.0</td>\n",
              "      <td>0.000000</td>\n",
              "    </tr>\n",
              "    <tr>\n",
              "      <th>75%</th>\n",
              "      <td>320000.000000</td>\n",
              "      <td>7.000000</td>\n",
              "      <td>2.000000</td>\n",
              "      <td>190000.000000</td>\n",
              "      <td>100000.000000</td>\n",
              "      <td>30000.000000</td>\n",
              "      <td>7419.0</td>\n",
              "      <td>807.0</td>\n",
              "      <td>61110.000000</td>\n",
              "      <td>0.000000</td>\n",
              "      <td>0.000000</td>\n",
              "      <td>0.000000</td>\n",
              "      <td>0.0</td>\n",
              "      <td>0.0</td>\n",
              "      <td>0.000000</td>\n",
              "      <td>0.000000</td>\n",
              "      <td>0.000000</td>\n",
              "      <td>0.0</td>\n",
              "      <td>0.000000</td>\n",
              "    </tr>\n",
              "    <tr>\n",
              "      <th>max</th>\n",
              "      <td>1000000.000000</td>\n",
              "      <td>20.000000</td>\n",
              "      <td>11.000000</td>\n",
              "      <td>400000.000000</td>\n",
              "      <td>700000.000000</td>\n",
              "      <td>153000.000000</td>\n",
              "      <td>7419.0</td>\n",
              "      <td>807.0</td>\n",
              "      <td>83044.000000</td>\n",
              "      <td>1.000000</td>\n",
              "      <td>1.000000</td>\n",
              "      <td>1.000000</td>\n",
              "      <td>0.0</td>\n",
              "      <td>0.0</td>\n",
              "      <td>1.000000</td>\n",
              "      <td>1.000000</td>\n",
              "      <td>1.000000</td>\n",
              "      <td>0.0</td>\n",
              "      <td>1.000000</td>\n",
              "    </tr>\n",
              "  </tbody>\n",
              "</table>\n",
              "</div>"
            ],
            "text/plain": [
              "       totalyearlycompensation  yearsofexperience  ...  Race_Black  Race_Hispanic\n",
              "count               373.000000         373.000000  ...       373.0     373.000000\n",
              "mean             271155.495979           5.018767  ...         0.0       0.008043\n",
              "std              113753.565243           3.744124  ...         0.0       0.089441\n",
              "min              100000.000000           0.000000  ...         0.0       0.000000\n",
              "25%              195000.000000           2.000000  ...         0.0       0.000000\n",
              "50%              250000.000000           4.000000  ...         0.0       0.000000\n",
              "75%              320000.000000           7.000000  ...         0.0       0.000000\n",
              "max             1000000.000000          20.000000  ...         0.0       1.000000\n",
              "\n",
              "[8 rows x 19 columns]"
            ]
          },
          "metadata": {},
          "execution_count": 21
        }
      ]
    },
    {
      "cell_type": "markdown",
      "metadata": {
        "id": "N-DpdxMXfPIU"
      },
      "source": [
        "*Find Seattle, WA counts in data set for data scientists*"
      ]
    },
    {
      "cell_type": "code",
      "metadata": {
        "colab": {
          "base_uri": "https://localhost:8080/",
          "height": 317
        },
        "id": "Jzh21y0zhCC2",
        "outputId": "c9fc09d4-4d4f-4378-912a-b490196d3390"
      },
      "source": [
        "sea_df = ds_df[ds_df['location']=='Seattle, WA']\n",
        "sea_df.describe()"
      ],
      "execution_count": null,
      "outputs": [
        {
          "output_type": "execute_result",
          "data": {
            "text/html": [
              "<div>\n",
              "<style scoped>\n",
              "    .dataframe tbody tr th:only-of-type {\n",
              "        vertical-align: middle;\n",
              "    }\n",
              "\n",
              "    .dataframe tbody tr th {\n",
              "        vertical-align: top;\n",
              "    }\n",
              "\n",
              "    .dataframe thead th {\n",
              "        text-align: right;\n",
              "    }\n",
              "</style>\n",
              "<table border=\"1\" class=\"dataframe\">\n",
              "  <thead>\n",
              "    <tr style=\"text-align: right;\">\n",
              "      <th></th>\n",
              "      <th>totalyearlycompensation</th>\n",
              "      <th>yearsofexperience</th>\n",
              "      <th>yearsatcompany</th>\n",
              "      <th>basesalary</th>\n",
              "      <th>stockgrantvalue</th>\n",
              "      <th>bonus</th>\n",
              "      <th>cityid</th>\n",
              "      <th>dmaid</th>\n",
              "      <th>rowNumber</th>\n",
              "      <th>Masters_Degree</th>\n",
              "      <th>Bachelors_Degree</th>\n",
              "      <th>Doctorate_Degree</th>\n",
              "      <th>Highschool</th>\n",
              "      <th>Some_College</th>\n",
              "      <th>Race_Asian</th>\n",
              "      <th>Race_White</th>\n",
              "      <th>Race_Two_Or_More</th>\n",
              "      <th>Race_Black</th>\n",
              "      <th>Race_Hispanic</th>\n",
              "    </tr>\n",
              "  </thead>\n",
              "  <tbody>\n",
              "    <tr>\n",
              "      <th>count</th>\n",
              "      <td>311.000000</td>\n",
              "      <td>311.000000</td>\n",
              "      <td>311.000000</td>\n",
              "      <td>311.000000</td>\n",
              "      <td>311.000000</td>\n",
              "      <td>311.000000</td>\n",
              "      <td>311.0</td>\n",
              "      <td>311.0</td>\n",
              "      <td>311.000000</td>\n",
              "      <td>311.000000</td>\n",
              "      <td>311.000000</td>\n",
              "      <td>311.000000</td>\n",
              "      <td>311.0</td>\n",
              "      <td>311.000000</td>\n",
              "      <td>311.000000</td>\n",
              "      <td>311.000000</td>\n",
              "      <td>311.000000</td>\n",
              "      <td>311.000000</td>\n",
              "      <td>311.000000</td>\n",
              "    </tr>\n",
              "    <tr>\n",
              "      <th>mean</th>\n",
              "      <td>233199.356913</td>\n",
              "      <td>5.643087</td>\n",
              "      <td>2.170096</td>\n",
              "      <td>140138.263666</td>\n",
              "      <td>60025.723473</td>\n",
              "      <td>19414.790997</td>\n",
              "      <td>11527.0</td>\n",
              "      <td>819.0</td>\n",
              "      <td>40578.096463</td>\n",
              "      <td>0.270096</td>\n",
              "      <td>0.077170</td>\n",
              "      <td>0.160772</td>\n",
              "      <td>0.0</td>\n",
              "      <td>0.003215</td>\n",
              "      <td>0.167203</td>\n",
              "      <td>0.090032</td>\n",
              "      <td>0.019293</td>\n",
              "      <td>0.003215</td>\n",
              "      <td>0.003215</td>\n",
              "    </tr>\n",
              "    <tr>\n",
              "      <th>std</th>\n",
              "      <td>100394.056499</td>\n",
              "      <td>4.075649</td>\n",
              "      <td>2.443181</td>\n",
              "      <td>46114.830539</td>\n",
              "      <td>74280.675084</td>\n",
              "      <td>22138.529540</td>\n",
              "      <td>0.0</td>\n",
              "      <td>0.0</td>\n",
              "      <td>25468.711567</td>\n",
              "      <td>0.444725</td>\n",
              "      <td>0.267292</td>\n",
              "      <td>0.367912</td>\n",
              "      <td>0.0</td>\n",
              "      <td>0.056705</td>\n",
              "      <td>0.373758</td>\n",
              "      <td>0.286689</td>\n",
              "      <td>0.137773</td>\n",
              "      <td>0.056705</td>\n",
              "      <td>0.056705</td>\n",
              "    </tr>\n",
              "    <tr>\n",
              "      <th>min</th>\n",
              "      <td>70000.000000</td>\n",
              "      <td>0.000000</td>\n",
              "      <td>0.000000</td>\n",
              "      <td>0.000000</td>\n",
              "      <td>0.000000</td>\n",
              "      <td>0.000000</td>\n",
              "      <td>11527.0</td>\n",
              "      <td>819.0</td>\n",
              "      <td>845.000000</td>\n",
              "      <td>0.000000</td>\n",
              "      <td>0.000000</td>\n",
              "      <td>0.000000</td>\n",
              "      <td>0.0</td>\n",
              "      <td>0.000000</td>\n",
              "      <td>0.000000</td>\n",
              "      <td>0.000000</td>\n",
              "      <td>0.000000</td>\n",
              "      <td>0.000000</td>\n",
              "      <td>0.000000</td>\n",
              "    </tr>\n",
              "    <tr>\n",
              "      <th>25%</th>\n",
              "      <td>170000.000000</td>\n",
              "      <td>3.000000</td>\n",
              "      <td>0.000000</td>\n",
              "      <td>127500.000000</td>\n",
              "      <td>15500.000000</td>\n",
              "      <td>0.000000</td>\n",
              "      <td>11527.0</td>\n",
              "      <td>819.0</td>\n",
              "      <td>17232.500000</td>\n",
              "      <td>0.000000</td>\n",
              "      <td>0.000000</td>\n",
              "      <td>0.000000</td>\n",
              "      <td>0.0</td>\n",
              "      <td>0.000000</td>\n",
              "      <td>0.000000</td>\n",
              "      <td>0.000000</td>\n",
              "      <td>0.000000</td>\n",
              "      <td>0.000000</td>\n",
              "      <td>0.000000</td>\n",
              "    </tr>\n",
              "    <tr>\n",
              "      <th>50%</th>\n",
              "      <td>212000.000000</td>\n",
              "      <td>5.000000</td>\n",
              "      <td>2.000000</td>\n",
              "      <td>147000.000000</td>\n",
              "      <td>40000.000000</td>\n",
              "      <td>15000.000000</td>\n",
              "      <td>11527.0</td>\n",
              "      <td>819.0</td>\n",
              "      <td>39724.000000</td>\n",
              "      <td>0.000000</td>\n",
              "      <td>0.000000</td>\n",
              "      <td>0.000000</td>\n",
              "      <td>0.0</td>\n",
              "      <td>0.000000</td>\n",
              "      <td>0.000000</td>\n",
              "      <td>0.000000</td>\n",
              "      <td>0.000000</td>\n",
              "      <td>0.000000</td>\n",
              "      <td>0.000000</td>\n",
              "    </tr>\n",
              "    <tr>\n",
              "      <th>75%</th>\n",
              "      <td>264000.000000</td>\n",
              "      <td>8.000000</td>\n",
              "      <td>3.000000</td>\n",
              "      <td>160000.000000</td>\n",
              "      <td>80000.000000</td>\n",
              "      <td>27000.000000</td>\n",
              "      <td>11527.0</td>\n",
              "      <td>819.0</td>\n",
              "      <td>64101.500000</td>\n",
              "      <td>1.000000</td>\n",
              "      <td>0.000000</td>\n",
              "      <td>0.000000</td>\n",
              "      <td>0.0</td>\n",
              "      <td>0.000000</td>\n",
              "      <td>0.000000</td>\n",
              "      <td>0.000000</td>\n",
              "      <td>0.000000</td>\n",
              "      <td>0.000000</td>\n",
              "      <td>0.000000</td>\n",
              "    </tr>\n",
              "    <tr>\n",
              "      <th>max</th>\n",
              "      <td>740000.000000</td>\n",
              "      <td>25.000000</td>\n",
              "      <td>19.000000</td>\n",
              "      <td>300000.000000</td>\n",
              "      <td>438000.000000</td>\n",
              "      <td>175000.000000</td>\n",
              "      <td>11527.0</td>\n",
              "      <td>819.0</td>\n",
              "      <td>83609.000000</td>\n",
              "      <td>1.000000</td>\n",
              "      <td>1.000000</td>\n",
              "      <td>1.000000</td>\n",
              "      <td>0.0</td>\n",
              "      <td>1.000000</td>\n",
              "      <td>1.000000</td>\n",
              "      <td>1.000000</td>\n",
              "      <td>1.000000</td>\n",
              "      <td>1.000000</td>\n",
              "      <td>1.000000</td>\n",
              "    </tr>\n",
              "  </tbody>\n",
              "</table>\n",
              "</div>"
            ],
            "text/plain": [
              "       totalyearlycompensation  yearsofexperience  ...  Race_Black  Race_Hispanic\n",
              "count               311.000000         311.000000  ...  311.000000     311.000000\n",
              "mean             233199.356913           5.643087  ...    0.003215       0.003215\n",
              "std              100394.056499           4.075649  ...    0.056705       0.056705\n",
              "min               70000.000000           0.000000  ...    0.000000       0.000000\n",
              "25%              170000.000000           3.000000  ...    0.000000       0.000000\n",
              "50%              212000.000000           5.000000  ...    0.000000       0.000000\n",
              "75%              264000.000000           8.000000  ...    0.000000       0.000000\n",
              "max              740000.000000          25.000000  ...    1.000000       1.000000\n",
              "\n",
              "[8 rows x 19 columns]"
            ]
          },
          "metadata": {},
          "execution_count": 22
        }
      ]
    },
    {
      "cell_type": "markdown",
      "metadata": {
        "id": "G3cCU0qkfZ06"
      },
      "source": [
        "*Find Austin, TX counts in data set for data scientists*"
      ]
    },
    {
      "cell_type": "code",
      "metadata": {
        "colab": {
          "base_uri": "https://localhost:8080/",
          "height": 317
        },
        "id": "gH8QQJaFhP9j",
        "outputId": "9c0e43cd-4910-41e9-e525-0a85cb3393a3"
      },
      "source": [
        "aus_df = ds_df[ds_df['location']=='Austin, TX']\n",
        "aus_df.describe()"
      ],
      "execution_count": null,
      "outputs": [
        {
          "output_type": "execute_result",
          "data": {
            "text/html": [
              "<div>\n",
              "<style scoped>\n",
              "    .dataframe tbody tr th:only-of-type {\n",
              "        vertical-align: middle;\n",
              "    }\n",
              "\n",
              "    .dataframe tbody tr th {\n",
              "        vertical-align: top;\n",
              "    }\n",
              "\n",
              "    .dataframe thead th {\n",
              "        text-align: right;\n",
              "    }\n",
              "</style>\n",
              "<table border=\"1\" class=\"dataframe\">\n",
              "  <thead>\n",
              "    <tr style=\"text-align: right;\">\n",
              "      <th></th>\n",
              "      <th>totalyearlycompensation</th>\n",
              "      <th>yearsofexperience</th>\n",
              "      <th>yearsatcompany</th>\n",
              "      <th>basesalary</th>\n",
              "      <th>stockgrantvalue</th>\n",
              "      <th>bonus</th>\n",
              "      <th>cityid</th>\n",
              "      <th>dmaid</th>\n",
              "      <th>rowNumber</th>\n",
              "      <th>Masters_Degree</th>\n",
              "      <th>Bachelors_Degree</th>\n",
              "      <th>Doctorate_Degree</th>\n",
              "      <th>Highschool</th>\n",
              "      <th>Some_College</th>\n",
              "      <th>Race_Asian</th>\n",
              "      <th>Race_White</th>\n",
              "      <th>Race_Two_Or_More</th>\n",
              "      <th>Race_Black</th>\n",
              "      <th>Race_Hispanic</th>\n",
              "    </tr>\n",
              "  </thead>\n",
              "  <tbody>\n",
              "    <tr>\n",
              "      <th>count</th>\n",
              "      <td>36.000000</td>\n",
              "      <td>36.000000</td>\n",
              "      <td>36.000000</td>\n",
              "      <td>36.000000</td>\n",
              "      <td>36.000000</td>\n",
              "      <td>36.000000</td>\n",
              "      <td>36.0</td>\n",
              "      <td>36.0</td>\n",
              "      <td>36.000000</td>\n",
              "      <td>36.000000</td>\n",
              "      <td>36.000000</td>\n",
              "      <td>36.000000</td>\n",
              "      <td>36.0</td>\n",
              "      <td>36.0</td>\n",
              "      <td>36.000000</td>\n",
              "      <td>36.000000</td>\n",
              "      <td>36.0</td>\n",
              "      <td>36.0</td>\n",
              "      <td>36.000000</td>\n",
              "    </tr>\n",
              "    <tr>\n",
              "      <th>mean</th>\n",
              "      <td>163472.222222</td>\n",
              "      <td>4.194444</td>\n",
              "      <td>1.583333</td>\n",
              "      <td>128222.222222</td>\n",
              "      <td>22083.333333</td>\n",
              "      <td>13333.333333</td>\n",
              "      <td>10965.0</td>\n",
              "      <td>635.0</td>\n",
              "      <td>54229.138889</td>\n",
              "      <td>0.416667</td>\n",
              "      <td>0.138889</td>\n",
              "      <td>0.111111</td>\n",
              "      <td>0.0</td>\n",
              "      <td>0.0</td>\n",
              "      <td>0.194444</td>\n",
              "      <td>0.277778</td>\n",
              "      <td>0.0</td>\n",
              "      <td>0.0</td>\n",
              "      <td>0.027778</td>\n",
              "    </tr>\n",
              "    <tr>\n",
              "      <th>std</th>\n",
              "      <td>51752.977063</td>\n",
              "      <td>3.133409</td>\n",
              "      <td>1.537623</td>\n",
              "      <td>28338.879009</td>\n",
              "      <td>22472.046127</td>\n",
              "      <td>8921.883209</td>\n",
              "      <td>0.0</td>\n",
              "      <td>0.0</td>\n",
              "      <td>20879.508674</td>\n",
              "      <td>0.500000</td>\n",
              "      <td>0.350736</td>\n",
              "      <td>0.318728</td>\n",
              "      <td>0.0</td>\n",
              "      <td>0.0</td>\n",
              "      <td>0.401386</td>\n",
              "      <td>0.454257</td>\n",
              "      <td>0.0</td>\n",
              "      <td>0.0</td>\n",
              "      <td>0.166667</td>\n",
              "    </tr>\n",
              "    <tr>\n",
              "      <th>min</th>\n",
              "      <td>95000.000000</td>\n",
              "      <td>0.000000</td>\n",
              "      <td>0.000000</td>\n",
              "      <td>85000.000000</td>\n",
              "      <td>0.000000</td>\n",
              "      <td>0.000000</td>\n",
              "      <td>10965.0</td>\n",
              "      <td>635.0</td>\n",
              "      <td>2962.000000</td>\n",
              "      <td>0.000000</td>\n",
              "      <td>0.000000</td>\n",
              "      <td>0.000000</td>\n",
              "      <td>0.0</td>\n",
              "      <td>0.0</td>\n",
              "      <td>0.000000</td>\n",
              "      <td>0.000000</td>\n",
              "      <td>0.0</td>\n",
              "      <td>0.0</td>\n",
              "      <td>0.000000</td>\n",
              "    </tr>\n",
              "    <tr>\n",
              "      <th>25%</th>\n",
              "      <td>121000.000000</td>\n",
              "      <td>2.000000</td>\n",
              "      <td>0.000000</td>\n",
              "      <td>105000.000000</td>\n",
              "      <td>3750.000000</td>\n",
              "      <td>8000.000000</td>\n",
              "      <td>10965.0</td>\n",
              "      <td>635.0</td>\n",
              "      <td>46367.000000</td>\n",
              "      <td>0.000000</td>\n",
              "      <td>0.000000</td>\n",
              "      <td>0.000000</td>\n",
              "      <td>0.0</td>\n",
              "      <td>0.0</td>\n",
              "      <td>0.000000</td>\n",
              "      <td>0.000000</td>\n",
              "      <td>0.0</td>\n",
              "      <td>0.0</td>\n",
              "      <td>0.000000</td>\n",
              "    </tr>\n",
              "    <tr>\n",
              "      <th>50%</th>\n",
              "      <td>146000.000000</td>\n",
              "      <td>3.000000</td>\n",
              "      <td>1.000000</td>\n",
              "      <td>124000.000000</td>\n",
              "      <td>17000.000000</td>\n",
              "      <td>12500.000000</td>\n",
              "      <td>10965.0</td>\n",
              "      <td>635.0</td>\n",
              "      <td>59242.500000</td>\n",
              "      <td>0.000000</td>\n",
              "      <td>0.000000</td>\n",
              "      <td>0.000000</td>\n",
              "      <td>0.0</td>\n",
              "      <td>0.0</td>\n",
              "      <td>0.000000</td>\n",
              "      <td>0.000000</td>\n",
              "      <td>0.0</td>\n",
              "      <td>0.0</td>\n",
              "      <td>0.000000</td>\n",
              "    </tr>\n",
              "    <tr>\n",
              "      <th>75%</th>\n",
              "      <td>201250.000000</td>\n",
              "      <td>5.250000</td>\n",
              "      <td>3.000000</td>\n",
              "      <td>155000.000000</td>\n",
              "      <td>38500.000000</td>\n",
              "      <td>15500.000000</td>\n",
              "      <td>10965.0</td>\n",
              "      <td>635.0</td>\n",
              "      <td>69322.500000</td>\n",
              "      <td>1.000000</td>\n",
              "      <td>0.000000</td>\n",
              "      <td>0.000000</td>\n",
              "      <td>0.0</td>\n",
              "      <td>0.0</td>\n",
              "      <td>0.000000</td>\n",
              "      <td>1.000000</td>\n",
              "      <td>0.0</td>\n",
              "      <td>0.0</td>\n",
              "      <td>0.000000</td>\n",
              "    </tr>\n",
              "    <tr>\n",
              "      <th>max</th>\n",
              "      <td>289000.000000</td>\n",
              "      <td>15.000000</td>\n",
              "      <td>5.000000</td>\n",
              "      <td>185000.000000</td>\n",
              "      <td>80000.000000</td>\n",
              "      <td>40000.000000</td>\n",
              "      <td>10965.0</td>\n",
              "      <td>635.0</td>\n",
              "      <td>80351.000000</td>\n",
              "      <td>1.000000</td>\n",
              "      <td>1.000000</td>\n",
              "      <td>1.000000</td>\n",
              "      <td>0.0</td>\n",
              "      <td>0.0</td>\n",
              "      <td>1.000000</td>\n",
              "      <td>1.000000</td>\n",
              "      <td>0.0</td>\n",
              "      <td>0.0</td>\n",
              "      <td>1.000000</td>\n",
              "    </tr>\n",
              "  </tbody>\n",
              "</table>\n",
              "</div>"
            ],
            "text/plain": [
              "       totalyearlycompensation  yearsofexperience  ...  Race_Black  Race_Hispanic\n",
              "count                36.000000          36.000000  ...        36.0      36.000000\n",
              "mean             163472.222222           4.194444  ...         0.0       0.027778\n",
              "std               51752.977063           3.133409  ...         0.0       0.166667\n",
              "min               95000.000000           0.000000  ...         0.0       0.000000\n",
              "25%              121000.000000           2.000000  ...         0.0       0.000000\n",
              "50%              146000.000000           3.000000  ...         0.0       0.000000\n",
              "75%              201250.000000           5.250000  ...         0.0       0.000000\n",
              "max              289000.000000          15.000000  ...         0.0       1.000000\n",
              "\n",
              "[8 rows x 19 columns]"
            ]
          },
          "metadata": {},
          "execution_count": 23
        }
      ]
    },
    {
      "cell_type": "markdown",
      "metadata": {
        "id": "N5gEx3JLQ2YC"
      },
      "source": [
        "***NULL Data***"
      ]
    },
    {
      "cell_type": "markdown",
      "metadata": {
        "id": "zk89embRfkwg"
      },
      "source": [
        "*Determine data with NULL (NaN) values for Data Scientists*"
      ]
    },
    {
      "cell_type": "code",
      "metadata": {
        "colab": {
          "base_uri": "https://localhost:8080/",
          "height": 619
        },
        "id": "x_4GGfAQRU6h",
        "outputId": "f15da0ce-6713-49ad-fe68-6e3f881fca86"
      },
      "source": [
        "null_rows = ds_df[ds_df.isnull().any(axis=1)]\n",
        "null_rows.head(10)"
      ],
      "execution_count": null,
      "outputs": [
        {
          "output_type": "execute_result",
          "data": {
            "text/html": [
              "<div>\n",
              "<style scoped>\n",
              "    .dataframe tbody tr th:only-of-type {\n",
              "        vertical-align: middle;\n",
              "    }\n",
              "\n",
              "    .dataframe tbody tr th {\n",
              "        vertical-align: top;\n",
              "    }\n",
              "\n",
              "    .dataframe thead th {\n",
              "        text-align: right;\n",
              "    }\n",
              "</style>\n",
              "<table border=\"1\" class=\"dataframe\">\n",
              "  <thead>\n",
              "    <tr style=\"text-align: right;\">\n",
              "      <th></th>\n",
              "      <th>timestamp</th>\n",
              "      <th>company</th>\n",
              "      <th>level</th>\n",
              "      <th>title</th>\n",
              "      <th>totalyearlycompensation</th>\n",
              "      <th>location</th>\n",
              "      <th>yearsofexperience</th>\n",
              "      <th>yearsatcompany</th>\n",
              "      <th>tag</th>\n",
              "      <th>basesalary</th>\n",
              "      <th>stockgrantvalue</th>\n",
              "      <th>bonus</th>\n",
              "      <th>gender</th>\n",
              "      <th>otherdetails</th>\n",
              "      <th>cityid</th>\n",
              "      <th>dmaid</th>\n",
              "      <th>rowNumber</th>\n",
              "      <th>Masters_Degree</th>\n",
              "      <th>Bachelors_Degree</th>\n",
              "      <th>Doctorate_Degree</th>\n",
              "      <th>Highschool</th>\n",
              "      <th>Some_College</th>\n",
              "      <th>Race_Asian</th>\n",
              "      <th>Race_White</th>\n",
              "      <th>Race_Two_Or_More</th>\n",
              "      <th>Race_Black</th>\n",
              "      <th>Race_Hispanic</th>\n",
              "      <th>Race</th>\n",
              "      <th>Education</th>\n",
              "    </tr>\n",
              "  </thead>\n",
              "  <tbody>\n",
              "    <tr>\n",
              "      <th>419</th>\n",
              "      <td>6/5/2018 14:06</td>\n",
              "      <td>LinkedIn</td>\n",
              "      <td>Senior</td>\n",
              "      <td>Data Scientist</td>\n",
              "      <td>233000</td>\n",
              "      <td>San Francisco, CA</td>\n",
              "      <td>4.0</td>\n",
              "      <td>0.0</td>\n",
              "      <td>Data Analysis</td>\n",
              "      <td>162000</td>\n",
              "      <td>220000.0</td>\n",
              "      <td>10000.0</td>\n",
              "      <td>Male</td>\n",
              "      <td>NaN</td>\n",
              "      <td>7419</td>\n",
              "      <td>807.0</td>\n",
              "      <td>813</td>\n",
              "      <td>0</td>\n",
              "      <td>0</td>\n",
              "      <td>0</td>\n",
              "      <td>0</td>\n",
              "      <td>0</td>\n",
              "      <td>0</td>\n",
              "      <td>0</td>\n",
              "      <td>0</td>\n",
              "      <td>0</td>\n",
              "      <td>0</td>\n",
              "      <td>NaN</td>\n",
              "      <td>NaN</td>\n",
              "    </tr>\n",
              "    <tr>\n",
              "      <th>440</th>\n",
              "      <td>6/8/2018 9:49</td>\n",
              "      <td>Microsoft</td>\n",
              "      <td>64</td>\n",
              "      <td>Data Scientist</td>\n",
              "      <td>218000</td>\n",
              "      <td>Seattle, WA</td>\n",
              "      <td>11.0</td>\n",
              "      <td>11.0</td>\n",
              "      <td>ML / AI</td>\n",
              "      <td>165000</td>\n",
              "      <td>28000.0</td>\n",
              "      <td>23000.0</td>\n",
              "      <td>Male</td>\n",
              "      <td>NaN</td>\n",
              "      <td>11527</td>\n",
              "      <td>819.0</td>\n",
              "      <td>849</td>\n",
              "      <td>0</td>\n",
              "      <td>0</td>\n",
              "      <td>0</td>\n",
              "      <td>0</td>\n",
              "      <td>0</td>\n",
              "      <td>0</td>\n",
              "      <td>0</td>\n",
              "      <td>0</td>\n",
              "      <td>0</td>\n",
              "      <td>0</td>\n",
              "      <td>NaN</td>\n",
              "      <td>NaN</td>\n",
              "    </tr>\n",
              "    <tr>\n",
              "      <th>444</th>\n",
              "      <td>6/8/2018 17:55</td>\n",
              "      <td>ebay</td>\n",
              "      <td>26</td>\n",
              "      <td>Data Scientist</td>\n",
              "      <td>180000</td>\n",
              "      <td>San Jose, CA</td>\n",
              "      <td>10.0</td>\n",
              "      <td>5.0</td>\n",
              "      <td>NaN</td>\n",
              "      <td>0</td>\n",
              "      <td>0.0</td>\n",
              "      <td>0.0</td>\n",
              "      <td>Female</td>\n",
              "      <td>NaN</td>\n",
              "      <td>7422</td>\n",
              "      <td>807.0</td>\n",
              "      <td>855</td>\n",
              "      <td>0</td>\n",
              "      <td>0</td>\n",
              "      <td>0</td>\n",
              "      <td>0</td>\n",
              "      <td>0</td>\n",
              "      <td>0</td>\n",
              "      <td>0</td>\n",
              "      <td>0</td>\n",
              "      <td>0</td>\n",
              "      <td>0</td>\n",
              "      <td>NaN</td>\n",
              "      <td>NaN</td>\n",
              "    </tr>\n",
              "    <tr>\n",
              "      <th>454</th>\n",
              "      <td>6/10/2018 19:39</td>\n",
              "      <td>Twitter</td>\n",
              "      <td>Staff</td>\n",
              "      <td>Data Scientist</td>\n",
              "      <td>500000</td>\n",
              "      <td>San Francisco, CA</td>\n",
              "      <td>4.0</td>\n",
              "      <td>4.0</td>\n",
              "      <td>ML / AI</td>\n",
              "      <td>200000</td>\n",
              "      <td>280000.0</td>\n",
              "      <td>20000.0</td>\n",
              "      <td>Male</td>\n",
              "      <td>NaN</td>\n",
              "      <td>7419</td>\n",
              "      <td>807.0</td>\n",
              "      <td>870</td>\n",
              "      <td>0</td>\n",
              "      <td>0</td>\n",
              "      <td>0</td>\n",
              "      <td>0</td>\n",
              "      <td>0</td>\n",
              "      <td>0</td>\n",
              "      <td>0</td>\n",
              "      <td>0</td>\n",
              "      <td>0</td>\n",
              "      <td>0</td>\n",
              "      <td>NaN</td>\n",
              "      <td>NaN</td>\n",
              "    </tr>\n",
              "    <tr>\n",
              "      <th>495</th>\n",
              "      <td>6/17/2018 11:39</td>\n",
              "      <td>Facebook</td>\n",
              "      <td>5</td>\n",
              "      <td>Data Scientist</td>\n",
              "      <td>370000</td>\n",
              "      <td>Seattle, WA</td>\n",
              "      <td>8.0</td>\n",
              "      <td>3.0</td>\n",
              "      <td>NaN</td>\n",
              "      <td>190000</td>\n",
              "      <td>140000.0</td>\n",
              "      <td>40000.0</td>\n",
              "      <td>Male</td>\n",
              "      <td>NaN</td>\n",
              "      <td>11527</td>\n",
              "      <td>819.0</td>\n",
              "      <td>938</td>\n",
              "      <td>0</td>\n",
              "      <td>0</td>\n",
              "      <td>0</td>\n",
              "      <td>0</td>\n",
              "      <td>0</td>\n",
              "      <td>0</td>\n",
              "      <td>0</td>\n",
              "      <td>0</td>\n",
              "      <td>0</td>\n",
              "      <td>0</td>\n",
              "      <td>NaN</td>\n",
              "      <td>NaN</td>\n",
              "    </tr>\n",
              "    <tr>\n",
              "      <th>499</th>\n",
              "      <td>6/17/2018 19:02</td>\n",
              "      <td>Amazon</td>\n",
              "      <td>L5</td>\n",
              "      <td>Data Scientist</td>\n",
              "      <td>200000</td>\n",
              "      <td>Seattle, WA</td>\n",
              "      <td>3.0</td>\n",
              "      <td>0.0</td>\n",
              "      <td>ML / AI</td>\n",
              "      <td>150000</td>\n",
              "      <td>105000.0</td>\n",
              "      <td>81000.0</td>\n",
              "      <td>Male</td>\n",
              "      <td>NaN</td>\n",
              "      <td>11527</td>\n",
              "      <td>819.0</td>\n",
              "      <td>942</td>\n",
              "      <td>0</td>\n",
              "      <td>0</td>\n",
              "      <td>0</td>\n",
              "      <td>0</td>\n",
              "      <td>0</td>\n",
              "      <td>0</td>\n",
              "      <td>0</td>\n",
              "      <td>0</td>\n",
              "      <td>0</td>\n",
              "      <td>0</td>\n",
              "      <td>NaN</td>\n",
              "      <td>NaN</td>\n",
              "    </tr>\n",
              "    <tr>\n",
              "      <th>509</th>\n",
              "      <td>6/20/2018 0:47</td>\n",
              "      <td>Microsoft</td>\n",
              "      <td>65</td>\n",
              "      <td>Data Scientist</td>\n",
              "      <td>340000</td>\n",
              "      <td>Bellevue, WA</td>\n",
              "      <td>11.0</td>\n",
              "      <td>11.0</td>\n",
              "      <td>ML / AI</td>\n",
              "      <td>200000</td>\n",
              "      <td>80000.0</td>\n",
              "      <td>60000.0</td>\n",
              "      <td>Male</td>\n",
              "      <td>NaN</td>\n",
              "      <td>11470</td>\n",
              "      <td>819.0</td>\n",
              "      <td>957</td>\n",
              "      <td>0</td>\n",
              "      <td>0</td>\n",
              "      <td>0</td>\n",
              "      <td>0</td>\n",
              "      <td>0</td>\n",
              "      <td>0</td>\n",
              "      <td>0</td>\n",
              "      <td>0</td>\n",
              "      <td>0</td>\n",
              "      <td>0</td>\n",
              "      <td>NaN</td>\n",
              "      <td>NaN</td>\n",
              "    </tr>\n",
              "    <tr>\n",
              "      <th>510</th>\n",
              "      <td>6/20/2018 0:49</td>\n",
              "      <td>Google</td>\n",
              "      <td>L6</td>\n",
              "      <td>Data Scientist</td>\n",
              "      <td>690000</td>\n",
              "      <td>Kirkland, WA</td>\n",
              "      <td>10.0</td>\n",
              "      <td>0.0</td>\n",
              "      <td>ML / AI</td>\n",
              "      <td>240000</td>\n",
              "      <td>298000.0</td>\n",
              "      <td>72000.0</td>\n",
              "      <td>Male</td>\n",
              "      <td>NaN</td>\n",
              "      <td>11497</td>\n",
              "      <td>819.0</td>\n",
              "      <td>958</td>\n",
              "      <td>0</td>\n",
              "      <td>0</td>\n",
              "      <td>0</td>\n",
              "      <td>0</td>\n",
              "      <td>0</td>\n",
              "      <td>0</td>\n",
              "      <td>0</td>\n",
              "      <td>0</td>\n",
              "      <td>0</td>\n",
              "      <td>0</td>\n",
              "      <td>NaN</td>\n",
              "      <td>NaN</td>\n",
              "    </tr>\n",
              "    <tr>\n",
              "      <th>513</th>\n",
              "      <td>6/21/2018 10:54</td>\n",
              "      <td>Netflix</td>\n",
              "      <td>Senior</td>\n",
              "      <td>Data Scientist</td>\n",
              "      <td>600000</td>\n",
              "      <td>Los Gatos, CA</td>\n",
              "      <td>3.0</td>\n",
              "      <td>1.0</td>\n",
              "      <td>ML / AI</td>\n",
              "      <td>600000</td>\n",
              "      <td>0.0</td>\n",
              "      <td>0.0</td>\n",
              "      <td>Male</td>\n",
              "      <td>NaN</td>\n",
              "      <td>7277</td>\n",
              "      <td>807.0</td>\n",
              "      <td>966</td>\n",
              "      <td>0</td>\n",
              "      <td>0</td>\n",
              "      <td>0</td>\n",
              "      <td>0</td>\n",
              "      <td>0</td>\n",
              "      <td>0</td>\n",
              "      <td>0</td>\n",
              "      <td>0</td>\n",
              "      <td>0</td>\n",
              "      <td>0</td>\n",
              "      <td>NaN</td>\n",
              "      <td>NaN</td>\n",
              "    </tr>\n",
              "    <tr>\n",
              "      <th>523</th>\n",
              "      <td>6/25/2018 8:45</td>\n",
              "      <td>Tesla</td>\n",
              "      <td>Senior Engineer</td>\n",
              "      <td>Data Scientist</td>\n",
              "      <td>168000</td>\n",
              "      <td>Palo Alto, CA</td>\n",
              "      <td>8.0</td>\n",
              "      <td>3.0</td>\n",
              "      <td>Mechanical Engineering</td>\n",
              "      <td>118000</td>\n",
              "      <td>50000.0</td>\n",
              "      <td>0.0</td>\n",
              "      <td>Male</td>\n",
              "      <td>Disregard the Data Scientist. I'm a Mechanical...</td>\n",
              "      <td>7351</td>\n",
              "      <td>807.0</td>\n",
              "      <td>981</td>\n",
              "      <td>0</td>\n",
              "      <td>0</td>\n",
              "      <td>0</td>\n",
              "      <td>0</td>\n",
              "      <td>0</td>\n",
              "      <td>0</td>\n",
              "      <td>0</td>\n",
              "      <td>0</td>\n",
              "      <td>0</td>\n",
              "      <td>0</td>\n",
              "      <td>NaN</td>\n",
              "      <td>NaN</td>\n",
              "    </tr>\n",
              "  </tbody>\n",
              "</table>\n",
              "</div>"
            ],
            "text/plain": [
              "           timestamp    company            level  ... Race_Hispanic  Race Education\n",
              "419   6/5/2018 14:06   LinkedIn           Senior  ...             0   NaN       NaN\n",
              "440    6/8/2018 9:49  Microsoft               64  ...             0   NaN       NaN\n",
              "444   6/8/2018 17:55       ebay               26  ...             0   NaN       NaN\n",
              "454  6/10/2018 19:39    Twitter            Staff  ...             0   NaN       NaN\n",
              "495  6/17/2018 11:39   Facebook                5  ...             0   NaN       NaN\n",
              "499  6/17/2018 19:02     Amazon               L5  ...             0   NaN       NaN\n",
              "509   6/20/2018 0:47  Microsoft               65  ...             0   NaN       NaN\n",
              "510   6/20/2018 0:49     Google               L6  ...             0   NaN       NaN\n",
              "513  6/21/2018 10:54    Netflix           Senior  ...             0   NaN       NaN\n",
              "523   6/25/2018 8:45      Tesla  Senior Engineer  ...             0   NaN       NaN\n",
              "\n",
              "[10 rows x 29 columns]"
            ]
          },
          "metadata": {},
          "execution_count": 24
        }
      ]
    },
    {
      "cell_type": "markdown",
      "metadata": {
        "id": "GDHg62bFf1hQ"
      },
      "source": [
        "*Determine the Null Count of each column and their data type from the data set.*"
      ]
    },
    {
      "cell_type": "code",
      "metadata": {
        "colab": {
          "base_uri": "https://localhost:8080/"
        },
        "id": "0bpV7FrsRBNx",
        "outputId": "59ff0305-6143-4e34-e654-318291754d34"
      },
      "source": [
        "null_rows.info()"
      ],
      "execution_count": null,
      "outputs": [
        {
          "output_type": "stream",
          "name": "stdout",
          "text": [
            "<class 'pandas.core.frame.DataFrame'>\n",
            "Int64Index: 1705 entries, 419 to 62623\n",
            "Data columns (total 29 columns):\n",
            " #   Column                   Non-Null Count  Dtype  \n",
            "---  ------                   --------------  -----  \n",
            " 0   timestamp                1705 non-null   object \n",
            " 1   company                  1705 non-null   object \n",
            " 2   level                    1699 non-null   object \n",
            " 3   title                    1705 non-null   object \n",
            " 4   totalyearlycompensation  1705 non-null   int64  \n",
            " 5   location                 1705 non-null   object \n",
            " 6   yearsofexperience        1705 non-null   float64\n",
            " 7   yearsatcompany           1705 non-null   float64\n",
            " 8   tag                      1700 non-null   object \n",
            " 9   basesalary               1705 non-null   int64  \n",
            " 10  stockgrantvalue          1705 non-null   float64\n",
            " 11  bonus                    1705 non-null   float64\n",
            " 12  gender                   867 non-null    object \n",
            " 13  otherdetails             942 non-null    object \n",
            " 14  cityid                   1705 non-null   int64  \n",
            " 15  dmaid                    1705 non-null   float64\n",
            " 16  rowNumber                1705 non-null   int64  \n",
            " 17  Masters_Degree           1705 non-null   int64  \n",
            " 18  Bachelors_Degree         1705 non-null   int64  \n",
            " 19  Doctorate_Degree         1705 non-null   int64  \n",
            " 20  Highschool               1705 non-null   int64  \n",
            " 21  Some_College             1705 non-null   int64  \n",
            " 22  Race_Asian               1705 non-null   int64  \n",
            " 23  Race_White               1705 non-null   int64  \n",
            " 24  Race_Two_Or_More         1705 non-null   int64  \n",
            " 25  Race_Black               1705 non-null   int64  \n",
            " 26  Race_Hispanic            1705 non-null   int64  \n",
            " 27  Race                     22 non-null     object \n",
            " 28  Education                537 non-null    object \n",
            "dtypes: float64(5), int64(14), object(10)\n",
            "memory usage: 399.6+ KB\n"
          ]
        }
      ]
    },
    {
      "cell_type": "markdown",
      "metadata": {
        "id": "YNNg_kGWgI1N"
      },
      "source": [
        "*Substitute NaN values with zeroes for Data Scientist data set.*"
      ]
    },
    {
      "cell_type": "code",
      "metadata": {
        "colab": {
          "base_uri": "https://localhost:8080/",
          "height": 619
        },
        "id": "M2Mto95nRfno",
        "outputId": "781633e3-191f-4d6a-b321-e853dc62e8fb"
      },
      "source": [
        "zero_filled = null_rows.fillna(0)\n",
        "zero_filled.head(10)"
      ],
      "execution_count": null,
      "outputs": [
        {
          "output_type": "execute_result",
          "data": {
            "text/html": [
              "<div>\n",
              "<style scoped>\n",
              "    .dataframe tbody tr th:only-of-type {\n",
              "        vertical-align: middle;\n",
              "    }\n",
              "\n",
              "    .dataframe tbody tr th {\n",
              "        vertical-align: top;\n",
              "    }\n",
              "\n",
              "    .dataframe thead th {\n",
              "        text-align: right;\n",
              "    }\n",
              "</style>\n",
              "<table border=\"1\" class=\"dataframe\">\n",
              "  <thead>\n",
              "    <tr style=\"text-align: right;\">\n",
              "      <th></th>\n",
              "      <th>timestamp</th>\n",
              "      <th>company</th>\n",
              "      <th>level</th>\n",
              "      <th>title</th>\n",
              "      <th>totalyearlycompensation</th>\n",
              "      <th>location</th>\n",
              "      <th>yearsofexperience</th>\n",
              "      <th>yearsatcompany</th>\n",
              "      <th>tag</th>\n",
              "      <th>basesalary</th>\n",
              "      <th>stockgrantvalue</th>\n",
              "      <th>bonus</th>\n",
              "      <th>gender</th>\n",
              "      <th>otherdetails</th>\n",
              "      <th>cityid</th>\n",
              "      <th>dmaid</th>\n",
              "      <th>rowNumber</th>\n",
              "      <th>Masters_Degree</th>\n",
              "      <th>Bachelors_Degree</th>\n",
              "      <th>Doctorate_Degree</th>\n",
              "      <th>Highschool</th>\n",
              "      <th>Some_College</th>\n",
              "      <th>Race_Asian</th>\n",
              "      <th>Race_White</th>\n",
              "      <th>Race_Two_Or_More</th>\n",
              "      <th>Race_Black</th>\n",
              "      <th>Race_Hispanic</th>\n",
              "      <th>Race</th>\n",
              "      <th>Education</th>\n",
              "    </tr>\n",
              "  </thead>\n",
              "  <tbody>\n",
              "    <tr>\n",
              "      <th>419</th>\n",
              "      <td>6/5/2018 14:06</td>\n",
              "      <td>LinkedIn</td>\n",
              "      <td>Senior</td>\n",
              "      <td>Data Scientist</td>\n",
              "      <td>233000</td>\n",
              "      <td>San Francisco, CA</td>\n",
              "      <td>4.0</td>\n",
              "      <td>0.0</td>\n",
              "      <td>Data Analysis</td>\n",
              "      <td>162000</td>\n",
              "      <td>220000.0</td>\n",
              "      <td>10000.0</td>\n",
              "      <td>Male</td>\n",
              "      <td>0</td>\n",
              "      <td>7419</td>\n",
              "      <td>807.0</td>\n",
              "      <td>813</td>\n",
              "      <td>0</td>\n",
              "      <td>0</td>\n",
              "      <td>0</td>\n",
              "      <td>0</td>\n",
              "      <td>0</td>\n",
              "      <td>0</td>\n",
              "      <td>0</td>\n",
              "      <td>0</td>\n",
              "      <td>0</td>\n",
              "      <td>0</td>\n",
              "      <td>0</td>\n",
              "      <td>0</td>\n",
              "    </tr>\n",
              "    <tr>\n",
              "      <th>440</th>\n",
              "      <td>6/8/2018 9:49</td>\n",
              "      <td>Microsoft</td>\n",
              "      <td>64</td>\n",
              "      <td>Data Scientist</td>\n",
              "      <td>218000</td>\n",
              "      <td>Seattle, WA</td>\n",
              "      <td>11.0</td>\n",
              "      <td>11.0</td>\n",
              "      <td>ML / AI</td>\n",
              "      <td>165000</td>\n",
              "      <td>28000.0</td>\n",
              "      <td>23000.0</td>\n",
              "      <td>Male</td>\n",
              "      <td>0</td>\n",
              "      <td>11527</td>\n",
              "      <td>819.0</td>\n",
              "      <td>849</td>\n",
              "      <td>0</td>\n",
              "      <td>0</td>\n",
              "      <td>0</td>\n",
              "      <td>0</td>\n",
              "      <td>0</td>\n",
              "      <td>0</td>\n",
              "      <td>0</td>\n",
              "      <td>0</td>\n",
              "      <td>0</td>\n",
              "      <td>0</td>\n",
              "      <td>0</td>\n",
              "      <td>0</td>\n",
              "    </tr>\n",
              "    <tr>\n",
              "      <th>444</th>\n",
              "      <td>6/8/2018 17:55</td>\n",
              "      <td>ebay</td>\n",
              "      <td>26</td>\n",
              "      <td>Data Scientist</td>\n",
              "      <td>180000</td>\n",
              "      <td>San Jose, CA</td>\n",
              "      <td>10.0</td>\n",
              "      <td>5.0</td>\n",
              "      <td>0</td>\n",
              "      <td>0</td>\n",
              "      <td>0.0</td>\n",
              "      <td>0.0</td>\n",
              "      <td>Female</td>\n",
              "      <td>0</td>\n",
              "      <td>7422</td>\n",
              "      <td>807.0</td>\n",
              "      <td>855</td>\n",
              "      <td>0</td>\n",
              "      <td>0</td>\n",
              "      <td>0</td>\n",
              "      <td>0</td>\n",
              "      <td>0</td>\n",
              "      <td>0</td>\n",
              "      <td>0</td>\n",
              "      <td>0</td>\n",
              "      <td>0</td>\n",
              "      <td>0</td>\n",
              "      <td>0</td>\n",
              "      <td>0</td>\n",
              "    </tr>\n",
              "    <tr>\n",
              "      <th>454</th>\n",
              "      <td>6/10/2018 19:39</td>\n",
              "      <td>Twitter</td>\n",
              "      <td>Staff</td>\n",
              "      <td>Data Scientist</td>\n",
              "      <td>500000</td>\n",
              "      <td>San Francisco, CA</td>\n",
              "      <td>4.0</td>\n",
              "      <td>4.0</td>\n",
              "      <td>ML / AI</td>\n",
              "      <td>200000</td>\n",
              "      <td>280000.0</td>\n",
              "      <td>20000.0</td>\n",
              "      <td>Male</td>\n",
              "      <td>0</td>\n",
              "      <td>7419</td>\n",
              "      <td>807.0</td>\n",
              "      <td>870</td>\n",
              "      <td>0</td>\n",
              "      <td>0</td>\n",
              "      <td>0</td>\n",
              "      <td>0</td>\n",
              "      <td>0</td>\n",
              "      <td>0</td>\n",
              "      <td>0</td>\n",
              "      <td>0</td>\n",
              "      <td>0</td>\n",
              "      <td>0</td>\n",
              "      <td>0</td>\n",
              "      <td>0</td>\n",
              "    </tr>\n",
              "    <tr>\n",
              "      <th>495</th>\n",
              "      <td>6/17/2018 11:39</td>\n",
              "      <td>Facebook</td>\n",
              "      <td>5</td>\n",
              "      <td>Data Scientist</td>\n",
              "      <td>370000</td>\n",
              "      <td>Seattle, WA</td>\n",
              "      <td>8.0</td>\n",
              "      <td>3.0</td>\n",
              "      <td>0</td>\n",
              "      <td>190000</td>\n",
              "      <td>140000.0</td>\n",
              "      <td>40000.0</td>\n",
              "      <td>Male</td>\n",
              "      <td>0</td>\n",
              "      <td>11527</td>\n",
              "      <td>819.0</td>\n",
              "      <td>938</td>\n",
              "      <td>0</td>\n",
              "      <td>0</td>\n",
              "      <td>0</td>\n",
              "      <td>0</td>\n",
              "      <td>0</td>\n",
              "      <td>0</td>\n",
              "      <td>0</td>\n",
              "      <td>0</td>\n",
              "      <td>0</td>\n",
              "      <td>0</td>\n",
              "      <td>0</td>\n",
              "      <td>0</td>\n",
              "    </tr>\n",
              "    <tr>\n",
              "      <th>499</th>\n",
              "      <td>6/17/2018 19:02</td>\n",
              "      <td>Amazon</td>\n",
              "      <td>L5</td>\n",
              "      <td>Data Scientist</td>\n",
              "      <td>200000</td>\n",
              "      <td>Seattle, WA</td>\n",
              "      <td>3.0</td>\n",
              "      <td>0.0</td>\n",
              "      <td>ML / AI</td>\n",
              "      <td>150000</td>\n",
              "      <td>105000.0</td>\n",
              "      <td>81000.0</td>\n",
              "      <td>Male</td>\n",
              "      <td>0</td>\n",
              "      <td>11527</td>\n",
              "      <td>819.0</td>\n",
              "      <td>942</td>\n",
              "      <td>0</td>\n",
              "      <td>0</td>\n",
              "      <td>0</td>\n",
              "      <td>0</td>\n",
              "      <td>0</td>\n",
              "      <td>0</td>\n",
              "      <td>0</td>\n",
              "      <td>0</td>\n",
              "      <td>0</td>\n",
              "      <td>0</td>\n",
              "      <td>0</td>\n",
              "      <td>0</td>\n",
              "    </tr>\n",
              "    <tr>\n",
              "      <th>509</th>\n",
              "      <td>6/20/2018 0:47</td>\n",
              "      <td>Microsoft</td>\n",
              "      <td>65</td>\n",
              "      <td>Data Scientist</td>\n",
              "      <td>340000</td>\n",
              "      <td>Bellevue, WA</td>\n",
              "      <td>11.0</td>\n",
              "      <td>11.0</td>\n",
              "      <td>ML / AI</td>\n",
              "      <td>200000</td>\n",
              "      <td>80000.0</td>\n",
              "      <td>60000.0</td>\n",
              "      <td>Male</td>\n",
              "      <td>0</td>\n",
              "      <td>11470</td>\n",
              "      <td>819.0</td>\n",
              "      <td>957</td>\n",
              "      <td>0</td>\n",
              "      <td>0</td>\n",
              "      <td>0</td>\n",
              "      <td>0</td>\n",
              "      <td>0</td>\n",
              "      <td>0</td>\n",
              "      <td>0</td>\n",
              "      <td>0</td>\n",
              "      <td>0</td>\n",
              "      <td>0</td>\n",
              "      <td>0</td>\n",
              "      <td>0</td>\n",
              "    </tr>\n",
              "    <tr>\n",
              "      <th>510</th>\n",
              "      <td>6/20/2018 0:49</td>\n",
              "      <td>Google</td>\n",
              "      <td>L6</td>\n",
              "      <td>Data Scientist</td>\n",
              "      <td>690000</td>\n",
              "      <td>Kirkland, WA</td>\n",
              "      <td>10.0</td>\n",
              "      <td>0.0</td>\n",
              "      <td>ML / AI</td>\n",
              "      <td>240000</td>\n",
              "      <td>298000.0</td>\n",
              "      <td>72000.0</td>\n",
              "      <td>Male</td>\n",
              "      <td>0</td>\n",
              "      <td>11497</td>\n",
              "      <td>819.0</td>\n",
              "      <td>958</td>\n",
              "      <td>0</td>\n",
              "      <td>0</td>\n",
              "      <td>0</td>\n",
              "      <td>0</td>\n",
              "      <td>0</td>\n",
              "      <td>0</td>\n",
              "      <td>0</td>\n",
              "      <td>0</td>\n",
              "      <td>0</td>\n",
              "      <td>0</td>\n",
              "      <td>0</td>\n",
              "      <td>0</td>\n",
              "    </tr>\n",
              "    <tr>\n",
              "      <th>513</th>\n",
              "      <td>6/21/2018 10:54</td>\n",
              "      <td>Netflix</td>\n",
              "      <td>Senior</td>\n",
              "      <td>Data Scientist</td>\n",
              "      <td>600000</td>\n",
              "      <td>Los Gatos, CA</td>\n",
              "      <td>3.0</td>\n",
              "      <td>1.0</td>\n",
              "      <td>ML / AI</td>\n",
              "      <td>600000</td>\n",
              "      <td>0.0</td>\n",
              "      <td>0.0</td>\n",
              "      <td>Male</td>\n",
              "      <td>0</td>\n",
              "      <td>7277</td>\n",
              "      <td>807.0</td>\n",
              "      <td>966</td>\n",
              "      <td>0</td>\n",
              "      <td>0</td>\n",
              "      <td>0</td>\n",
              "      <td>0</td>\n",
              "      <td>0</td>\n",
              "      <td>0</td>\n",
              "      <td>0</td>\n",
              "      <td>0</td>\n",
              "      <td>0</td>\n",
              "      <td>0</td>\n",
              "      <td>0</td>\n",
              "      <td>0</td>\n",
              "    </tr>\n",
              "    <tr>\n",
              "      <th>523</th>\n",
              "      <td>6/25/2018 8:45</td>\n",
              "      <td>Tesla</td>\n",
              "      <td>Senior Engineer</td>\n",
              "      <td>Data Scientist</td>\n",
              "      <td>168000</td>\n",
              "      <td>Palo Alto, CA</td>\n",
              "      <td>8.0</td>\n",
              "      <td>3.0</td>\n",
              "      <td>Mechanical Engineering</td>\n",
              "      <td>118000</td>\n",
              "      <td>50000.0</td>\n",
              "      <td>0.0</td>\n",
              "      <td>Male</td>\n",
              "      <td>Disregard the Data Scientist. I'm a Mechanical...</td>\n",
              "      <td>7351</td>\n",
              "      <td>807.0</td>\n",
              "      <td>981</td>\n",
              "      <td>0</td>\n",
              "      <td>0</td>\n",
              "      <td>0</td>\n",
              "      <td>0</td>\n",
              "      <td>0</td>\n",
              "      <td>0</td>\n",
              "      <td>0</td>\n",
              "      <td>0</td>\n",
              "      <td>0</td>\n",
              "      <td>0</td>\n",
              "      <td>0</td>\n",
              "      <td>0</td>\n",
              "    </tr>\n",
              "  </tbody>\n",
              "</table>\n",
              "</div>"
            ],
            "text/plain": [
              "           timestamp    company            level  ... Race_Hispanic  Race Education\n",
              "419   6/5/2018 14:06   LinkedIn           Senior  ...             0     0         0\n",
              "440    6/8/2018 9:49  Microsoft               64  ...             0     0         0\n",
              "444   6/8/2018 17:55       ebay               26  ...             0     0         0\n",
              "454  6/10/2018 19:39    Twitter            Staff  ...             0     0         0\n",
              "495  6/17/2018 11:39   Facebook                5  ...             0     0         0\n",
              "499  6/17/2018 19:02     Amazon               L5  ...             0     0         0\n",
              "509   6/20/2018 0:47  Microsoft               65  ...             0     0         0\n",
              "510   6/20/2018 0:49     Google               L6  ...             0     0         0\n",
              "513  6/21/2018 10:54    Netflix           Senior  ...             0     0         0\n",
              "523   6/25/2018 8:45      Tesla  Senior Engineer  ...             0     0         0\n",
              "\n",
              "[10 rows x 29 columns]"
            ]
          },
          "metadata": {},
          "execution_count": 26
        }
      ]
    },
    {
      "cell_type": "markdown",
      "metadata": {
        "id": "IPrQ7kfdgcTR"
      },
      "source": [
        "*Print the original size of the Data Scientists DataFrame | Then drop `NaN` rows | Lastly, print the size of the modified Data Scientist DataFrame*"
      ]
    },
    {
      "cell_type": "code",
      "metadata": {
        "colab": {
          "base_uri": "https://localhost:8080/"
        },
        "id": "B1xBphVrRsRv",
        "outputId": "5a3760f4-a6b8-4bcd-b390-b587aa69f402"
      },
      "source": [
        "print(ds_df.size)\n",
        "clean_salaries = ds_df.dropna()\n",
        "print(clean_salaries.size)"
      ],
      "execution_count": null,
      "outputs": [
        {
          "output_type": "stream",
          "name": "stdout",
          "text": [
            "74762\n",
            "25317\n"
          ]
        }
      ]
    },
    {
      "cell_type": "markdown",
      "metadata": {
        "id": "qmfW-4qKhKdy"
      },
      "source": [
        "_______________________________________________________________________________"
      ]
    },
    {
      "cell_type": "markdown",
      "metadata": {
        "id": "Cty7DUmaCj4D"
      },
      "source": [
        "# **Preparation for Hypotheses**"
      ]
    },
    {
      "cell_type": "markdown",
      "metadata": {
        "id": "6fdQM62UU9c3"
      },
      "source": [
        "This section will analyze relevant data in preparation for statistical analysis."
      ]
    },
    {
      "cell_type": "markdown",
      "metadata": {
        "id": "2BrBmgd_htHo"
      },
      "source": [
        "*Find value for Data Scientists total yearly salary at Google in a dataframe table*"
      ]
    },
    {
      "cell_type": "code",
      "metadata": {
        "colab": {
          "base_uri": "https://localhost:8080/",
          "height": 565
        },
        "id": "TfuldWjyCxM7",
        "outputId": "05d9fb44-7980-40af-f951-e774f3f7e932"
      },
      "source": [
        "dsgoogle_df = clean_salaries[clean_salaries['company']=='Google']\n",
        "dsgoogle_df.head()"
      ],
      "execution_count": null,
      "outputs": [
        {
          "output_type": "execute_result",
          "data": {
            "text/html": [
              "<div>\n",
              "<style scoped>\n",
              "    .dataframe tbody tr th:only-of-type {\n",
              "        vertical-align: middle;\n",
              "    }\n",
              "\n",
              "    .dataframe tbody tr th {\n",
              "        vertical-align: top;\n",
              "    }\n",
              "\n",
              "    .dataframe thead th {\n",
              "        text-align: right;\n",
              "    }\n",
              "</style>\n",
              "<table border=\"1\" class=\"dataframe\">\n",
              "  <thead>\n",
              "    <tr style=\"text-align: right;\">\n",
              "      <th></th>\n",
              "      <th>timestamp</th>\n",
              "      <th>company</th>\n",
              "      <th>level</th>\n",
              "      <th>title</th>\n",
              "      <th>totalyearlycompensation</th>\n",
              "      <th>location</th>\n",
              "      <th>yearsofexperience</th>\n",
              "      <th>yearsatcompany</th>\n",
              "      <th>tag</th>\n",
              "      <th>basesalary</th>\n",
              "      <th>stockgrantvalue</th>\n",
              "      <th>bonus</th>\n",
              "      <th>gender</th>\n",
              "      <th>otherdetails</th>\n",
              "      <th>cityid</th>\n",
              "      <th>dmaid</th>\n",
              "      <th>rowNumber</th>\n",
              "      <th>Masters_Degree</th>\n",
              "      <th>Bachelors_Degree</th>\n",
              "      <th>Doctorate_Degree</th>\n",
              "      <th>Highschool</th>\n",
              "      <th>Some_College</th>\n",
              "      <th>Race_Asian</th>\n",
              "      <th>Race_White</th>\n",
              "      <th>Race_Two_Or_More</th>\n",
              "      <th>Race_Black</th>\n",
              "      <th>Race_Hispanic</th>\n",
              "      <th>Race</th>\n",
              "      <th>Education</th>\n",
              "    </tr>\n",
              "  </thead>\n",
              "  <tbody>\n",
              "    <tr>\n",
              "      <th>23679</th>\n",
              "      <td>7/6/2020 17:16</td>\n",
              "      <td>Google</td>\n",
              "      <td>L3</td>\n",
              "      <td>Data Scientist</td>\n",
              "      <td>170000</td>\n",
              "      <td>San Francisco, CA</td>\n",
              "      <td>3.0</td>\n",
              "      <td>3.0</td>\n",
              "      <td>ML / AI</td>\n",
              "      <td>170000</td>\n",
              "      <td>0.0</td>\n",
              "      <td>0.0</td>\n",
              "      <td>Male</td>\n",
              "      <td>Race: White, Academic Level: Bachelor’s degree</td>\n",
              "      <td>7419</td>\n",
              "      <td>807.0</td>\n",
              "      <td>32433</td>\n",
              "      <td>0</td>\n",
              "      <td>1</td>\n",
              "      <td>0</td>\n",
              "      <td>0</td>\n",
              "      <td>0</td>\n",
              "      <td>0</td>\n",
              "      <td>1</td>\n",
              "      <td>0</td>\n",
              "      <td>0</td>\n",
              "      <td>0</td>\n",
              "      <td>White</td>\n",
              "      <td>Bachelor's Degree</td>\n",
              "    </tr>\n",
              "    <tr>\n",
              "      <th>24547</th>\n",
              "      <td>7/20/2020 15:52</td>\n",
              "      <td>Google</td>\n",
              "      <td>L6</td>\n",
              "      <td>Data Scientist</td>\n",
              "      <td>289000</td>\n",
              "      <td>Austin, TX</td>\n",
              "      <td>15.0</td>\n",
              "      <td>3.0</td>\n",
              "      <td>ML / AI</td>\n",
              "      <td>172000</td>\n",
              "      <td>80000.0</td>\n",
              "      <td>40000.0</td>\n",
              "      <td>Male</td>\n",
              "      <td>Race: White, Academic Level: Doctorate (PhD)</td>\n",
              "      <td>10965</td>\n",
              "      <td>635.0</td>\n",
              "      <td>33652</td>\n",
              "      <td>0</td>\n",
              "      <td>0</td>\n",
              "      <td>1</td>\n",
              "      <td>0</td>\n",
              "      <td>0</td>\n",
              "      <td>0</td>\n",
              "      <td>1</td>\n",
              "      <td>0</td>\n",
              "      <td>0</td>\n",
              "      <td>0</td>\n",
              "      <td>White</td>\n",
              "      <td>PhD</td>\n",
              "    </tr>\n",
              "    <tr>\n",
              "      <th>26673</th>\n",
              "      <td>8/16/2020 1:32</td>\n",
              "      <td>Google</td>\n",
              "      <td>L4</td>\n",
              "      <td>Data Scientist</td>\n",
              "      <td>277000</td>\n",
              "      <td>Mountain View, CA</td>\n",
              "      <td>9.0</td>\n",
              "      <td>2.0</td>\n",
              "      <td>Product Analyst</td>\n",
              "      <td>172000</td>\n",
              "      <td>75000.0</td>\n",
              "      <td>30000.0</td>\n",
              "      <td>Male</td>\n",
              "      <td>Race: Asian, Academic Level: Doctorate (PhD)</td>\n",
              "      <td>7322</td>\n",
              "      <td>807.0</td>\n",
              "      <td>36677</td>\n",
              "      <td>0</td>\n",
              "      <td>0</td>\n",
              "      <td>1</td>\n",
              "      <td>0</td>\n",
              "      <td>0</td>\n",
              "      <td>1</td>\n",
              "      <td>0</td>\n",
              "      <td>0</td>\n",
              "      <td>0</td>\n",
              "      <td>0</td>\n",
              "      <td>Asian</td>\n",
              "      <td>PhD</td>\n",
              "    </tr>\n",
              "    <tr>\n",
              "      <th>27850</th>\n",
              "      <td>8/26/2020 22:42</td>\n",
              "      <td>Google</td>\n",
              "      <td>L4</td>\n",
              "      <td>Data Scientist</td>\n",
              "      <td>195000</td>\n",
              "      <td>San Francisco, CA</td>\n",
              "      <td>1.0</td>\n",
              "      <td>1.0</td>\n",
              "      <td>Data</td>\n",
              "      <td>143000</td>\n",
              "      <td>30000.0</td>\n",
              "      <td>22000.0</td>\n",
              "      <td>Male</td>\n",
              "      <td>Race: Hispanic / Latino, Academic Level: Docto...</td>\n",
              "      <td>7419</td>\n",
              "      <td>807.0</td>\n",
              "      <td>38265</td>\n",
              "      <td>0</td>\n",
              "      <td>0</td>\n",
              "      <td>1</td>\n",
              "      <td>0</td>\n",
              "      <td>0</td>\n",
              "      <td>0</td>\n",
              "      <td>0</td>\n",
              "      <td>0</td>\n",
              "      <td>0</td>\n",
              "      <td>1</td>\n",
              "      <td>Hispanic</td>\n",
              "      <td>PhD</td>\n",
              "    </tr>\n",
              "    <tr>\n",
              "      <th>27987</th>\n",
              "      <td>8/28/2020 8:14</td>\n",
              "      <td>Google</td>\n",
              "      <td>L4</td>\n",
              "      <td>Data Scientist</td>\n",
              "      <td>208000</td>\n",
              "      <td>Sunnyvale, CA</td>\n",
              "      <td>7.0</td>\n",
              "      <td>5.0</td>\n",
              "      <td>Trust safety</td>\n",
              "      <td>137000</td>\n",
              "      <td>50000.0</td>\n",
              "      <td>21000.0</td>\n",
              "      <td>Male</td>\n",
              "      <td>Race: Asian, Academic Level: Bachelor’s degree</td>\n",
              "      <td>7472</td>\n",
              "      <td>807.0</td>\n",
              "      <td>38473</td>\n",
              "      <td>0</td>\n",
              "      <td>1</td>\n",
              "      <td>0</td>\n",
              "      <td>0</td>\n",
              "      <td>0</td>\n",
              "      <td>1</td>\n",
              "      <td>0</td>\n",
              "      <td>0</td>\n",
              "      <td>0</td>\n",
              "      <td>0</td>\n",
              "      <td>Asian</td>\n",
              "      <td>Bachelor's Degree</td>\n",
              "    </tr>\n",
              "  </tbody>\n",
              "</table>\n",
              "</div>"
            ],
            "text/plain": [
              "             timestamp company  ...      Race          Education\n",
              "23679   7/6/2020 17:16  Google  ...     White  Bachelor's Degree\n",
              "24547  7/20/2020 15:52  Google  ...     White                PhD\n",
              "26673   8/16/2020 1:32  Google  ...     Asian                PhD\n",
              "27850  8/26/2020 22:42  Google  ...  Hispanic                PhD\n",
              "27987   8/28/2020 8:14  Google  ...     Asian  Bachelor's Degree\n",
              "\n",
              "[5 rows x 29 columns]"
            ]
          },
          "metadata": {},
          "execution_count": 28
        }
      ]
    },
    {
      "cell_type": "markdown",
      "metadata": {
        "id": "QuVUC2QWiQnW"
      },
      "source": [
        "*Determine the total salaries of Data Scientists at Google*"
      ]
    },
    {
      "cell_type": "code",
      "metadata": {
        "colab": {
          "base_uri": "https://localhost:8080/"
        },
        "id": "dCy7pi9L0e7a",
        "outputId": "9ae0cdac-a9c6-4869-9939-91b6d13493e0"
      },
      "source": [
        "salarygoogle_df = dsgoogle_df['totalyearlycompensation']\n",
        "salarygoogle_df"
      ],
      "execution_count": null,
      "outputs": [
        {
          "output_type": "execute_result",
          "data": {
            "text/plain": [
              "23679    170000\n",
              "24547    289000\n",
              "26673    277000\n",
              "27850    195000\n",
              "27987    208000\n",
              "29094    175000\n",
              "30958    345000\n",
              "31196    500000\n",
              "31357    274000\n",
              "33053    220000\n",
              "37254    291000\n",
              "38018    345000\n",
              "38131    236000\n",
              "38654    264000\n",
              "38687    262000\n",
              "39016    308000\n",
              "39227    282000\n",
              "39651    283000\n",
              "39969    216000\n",
              "41749    455000\n",
              "43700    199000\n",
              "48229    266000\n",
              "49648    336000\n",
              "50411    252000\n",
              "53194    332000\n",
              "55685    197000\n",
              "58532    225000\n",
              "59021    219000\n",
              "Name: totalyearlycompensation, dtype: int64"
            ]
          },
          "metadata": {},
          "execution_count": 29
        }
      ]
    },
    {
      "cell_type": "markdown",
      "metadata": {
        "id": "PjbtriX9icqi"
      },
      "source": [
        "*Find statistical references for Data Scientists' salary at Google*"
      ]
    },
    {
      "cell_type": "code",
      "metadata": {
        "colab": {
          "base_uri": "https://localhost:8080/"
        },
        "id": "laVW-KAZ1L0_",
        "outputId": "82da1617-199a-423e-b2d6-cf67ba46978e"
      },
      "source": [
        "salarygoogle_df.describe()"
      ],
      "execution_count": null,
      "outputs": [
        {
          "output_type": "execute_result",
          "data": {
            "text/plain": [
              "count        28.000000\n",
              "mean     272178.571429\n",
              "std       76876.068410\n",
              "min      170000.000000\n",
              "25%      218250.000000\n",
              "50%      265000.000000\n",
              "75%      295250.000000\n",
              "max      500000.000000\n",
              "Name: totalyearlycompensation, dtype: float64"
            ]
          },
          "metadata": {},
          "execution_count": 30
        }
      ]
    },
    {
      "cell_type": "markdown",
      "metadata": {
        "id": "fJtc4F8oiu0c"
      },
      "source": [
        "*Find value for Data Scientists total yearly salary at Microsoft in a dataframe table*"
      ]
    },
    {
      "cell_type": "code",
      "metadata": {
        "colab": {
          "base_uri": "https://localhost:8080/",
          "height": 565
        },
        "id": "OmK-dsoIC5nS",
        "outputId": "29a8a300-e0fc-4f93-dcbe-2a87996b5b51"
      },
      "source": [
        "dsmicrosoft_df = clean_salaries[clean_salaries['company']=='Microsoft']\n",
        "dsmicrosoft_df.head()"
      ],
      "execution_count": null,
      "outputs": [
        {
          "output_type": "execute_result",
          "data": {
            "text/html": [
              "<div>\n",
              "<style scoped>\n",
              "    .dataframe tbody tr th:only-of-type {\n",
              "        vertical-align: middle;\n",
              "    }\n",
              "\n",
              "    .dataframe tbody tr th {\n",
              "        vertical-align: top;\n",
              "    }\n",
              "\n",
              "    .dataframe thead th {\n",
              "        text-align: right;\n",
              "    }\n",
              "</style>\n",
              "<table border=\"1\" class=\"dataframe\">\n",
              "  <thead>\n",
              "    <tr style=\"text-align: right;\">\n",
              "      <th></th>\n",
              "      <th>timestamp</th>\n",
              "      <th>company</th>\n",
              "      <th>level</th>\n",
              "      <th>title</th>\n",
              "      <th>totalyearlycompensation</th>\n",
              "      <th>location</th>\n",
              "      <th>yearsofexperience</th>\n",
              "      <th>yearsatcompany</th>\n",
              "      <th>tag</th>\n",
              "      <th>basesalary</th>\n",
              "      <th>stockgrantvalue</th>\n",
              "      <th>bonus</th>\n",
              "      <th>gender</th>\n",
              "      <th>otherdetails</th>\n",
              "      <th>cityid</th>\n",
              "      <th>dmaid</th>\n",
              "      <th>rowNumber</th>\n",
              "      <th>Masters_Degree</th>\n",
              "      <th>Bachelors_Degree</th>\n",
              "      <th>Doctorate_Degree</th>\n",
              "      <th>Highschool</th>\n",
              "      <th>Some_College</th>\n",
              "      <th>Race_Asian</th>\n",
              "      <th>Race_White</th>\n",
              "      <th>Race_Two_Or_More</th>\n",
              "      <th>Race_Black</th>\n",
              "      <th>Race_Hispanic</th>\n",
              "      <th>Race</th>\n",
              "      <th>Education</th>\n",
              "    </tr>\n",
              "  </thead>\n",
              "  <tbody>\n",
              "    <tr>\n",
              "      <th>23699</th>\n",
              "      <td>7/6/2020 22:10</td>\n",
              "      <td>Microsoft</td>\n",
              "      <td>62</td>\n",
              "      <td>Data Scientist</td>\n",
              "      <td>220000</td>\n",
              "      <td>Bellevue, WA</td>\n",
              "      <td>4.0</td>\n",
              "      <td>2.0</td>\n",
              "      <td>Data science</td>\n",
              "      <td>150000</td>\n",
              "      <td>60000.0</td>\n",
              "      <td>10000.0</td>\n",
              "      <td>Male</td>\n",
              "      <td>Race: White, Academic Level: Doctorate (PhD)</td>\n",
              "      <td>11470</td>\n",
              "      <td>819.0</td>\n",
              "      <td>32454</td>\n",
              "      <td>0</td>\n",
              "      <td>0</td>\n",
              "      <td>1</td>\n",
              "      <td>0</td>\n",
              "      <td>0</td>\n",
              "      <td>0</td>\n",
              "      <td>1</td>\n",
              "      <td>0</td>\n",
              "      <td>0</td>\n",
              "      <td>0</td>\n",
              "      <td>White</td>\n",
              "      <td>PhD</td>\n",
              "    </tr>\n",
              "    <tr>\n",
              "      <th>27884</th>\n",
              "      <td>8/27/2020 11:08</td>\n",
              "      <td>Microsoft</td>\n",
              "      <td>64</td>\n",
              "      <td>Data Scientist</td>\n",
              "      <td>257000</td>\n",
              "      <td>Seattle, WA</td>\n",
              "      <td>15.0</td>\n",
              "      <td>9.0</td>\n",
              "      <td>ML / AI</td>\n",
              "      <td>187000</td>\n",
              "      <td>33000.0</td>\n",
              "      <td>37000.0</td>\n",
              "      <td>Male</td>\n",
              "      <td>Race: Asian, Academic Level: Bachelor’s degree</td>\n",
              "      <td>11527</td>\n",
              "      <td>819.0</td>\n",
              "      <td>38324</td>\n",
              "      <td>0</td>\n",
              "      <td>1</td>\n",
              "      <td>0</td>\n",
              "      <td>0</td>\n",
              "      <td>0</td>\n",
              "      <td>1</td>\n",
              "      <td>0</td>\n",
              "      <td>0</td>\n",
              "      <td>0</td>\n",
              "      <td>0</td>\n",
              "      <td>Asian</td>\n",
              "      <td>Bachelor's Degree</td>\n",
              "    </tr>\n",
              "    <tr>\n",
              "      <th>28621</th>\n",
              "      <td>9/2/2020 20:45</td>\n",
              "      <td>Microsoft</td>\n",
              "      <td>62</td>\n",
              "      <td>Data Scientist</td>\n",
              "      <td>209000</td>\n",
              "      <td>Redmond, WA</td>\n",
              "      <td>2.0</td>\n",
              "      <td>2.0</td>\n",
              "      <td>ML / AI</td>\n",
              "      <td>152000</td>\n",
              "      <td>44000.0</td>\n",
              "      <td>13000.0</td>\n",
              "      <td>Male</td>\n",
              "      <td>Race: White, Academic Level: Doctorate (PhD)</td>\n",
              "      <td>11521</td>\n",
              "      <td>819.0</td>\n",
              "      <td>39355</td>\n",
              "      <td>0</td>\n",
              "      <td>0</td>\n",
              "      <td>1</td>\n",
              "      <td>0</td>\n",
              "      <td>0</td>\n",
              "      <td>0</td>\n",
              "      <td>1</td>\n",
              "      <td>0</td>\n",
              "      <td>0</td>\n",
              "      <td>0</td>\n",
              "      <td>White</td>\n",
              "      <td>PhD</td>\n",
              "    </tr>\n",
              "    <tr>\n",
              "      <th>28624</th>\n",
              "      <td>9/2/2020 20:54</td>\n",
              "      <td>Microsoft</td>\n",
              "      <td>62</td>\n",
              "      <td>Data Scientist</td>\n",
              "      <td>209000</td>\n",
              "      <td>Redmond, WA</td>\n",
              "      <td>5.0</td>\n",
              "      <td>5.0</td>\n",
              "      <td>ML / AI</td>\n",
              "      <td>156000</td>\n",
              "      <td>39000.0</td>\n",
              "      <td>14000.0</td>\n",
              "      <td>Male</td>\n",
              "      <td>Race: Asian, Academic Level: Master’s degree</td>\n",
              "      <td>11521</td>\n",
              "      <td>819.0</td>\n",
              "      <td>39360</td>\n",
              "      <td>1</td>\n",
              "      <td>0</td>\n",
              "      <td>0</td>\n",
              "      <td>0</td>\n",
              "      <td>0</td>\n",
              "      <td>1</td>\n",
              "      <td>0</td>\n",
              "      <td>0</td>\n",
              "      <td>0</td>\n",
              "      <td>0</td>\n",
              "      <td>Asian</td>\n",
              "      <td>Master's Degree</td>\n",
              "    </tr>\n",
              "    <tr>\n",
              "      <th>28726</th>\n",
              "      <td>9/3/2020 10:50</td>\n",
              "      <td>Microsoft</td>\n",
              "      <td>64</td>\n",
              "      <td>Data Scientist</td>\n",
              "      <td>248000</td>\n",
              "      <td>Redmond, WA</td>\n",
              "      <td>15.0</td>\n",
              "      <td>5.0</td>\n",
              "      <td>Data</td>\n",
              "      <td>179000</td>\n",
              "      <td>34000.0</td>\n",
              "      <td>35000.0</td>\n",
              "      <td>Male</td>\n",
              "      <td>Race: Asian, Academic Level: Master’s degree</td>\n",
              "      <td>11521</td>\n",
              "      <td>819.0</td>\n",
              "      <td>39503</td>\n",
              "      <td>1</td>\n",
              "      <td>0</td>\n",
              "      <td>0</td>\n",
              "      <td>0</td>\n",
              "      <td>0</td>\n",
              "      <td>1</td>\n",
              "      <td>0</td>\n",
              "      <td>0</td>\n",
              "      <td>0</td>\n",
              "      <td>0</td>\n",
              "      <td>Asian</td>\n",
              "      <td>Master's Degree</td>\n",
              "    </tr>\n",
              "  </tbody>\n",
              "</table>\n",
              "</div>"
            ],
            "text/plain": [
              "             timestamp    company  ...   Race          Education\n",
              "23699   7/6/2020 22:10  Microsoft  ...  White                PhD\n",
              "27884  8/27/2020 11:08  Microsoft  ...  Asian  Bachelor's Degree\n",
              "28621   9/2/2020 20:45  Microsoft  ...  White                PhD\n",
              "28624   9/2/2020 20:54  Microsoft  ...  Asian    Master's Degree\n",
              "28726   9/3/2020 10:50  Microsoft  ...  Asian    Master's Degree\n",
              "\n",
              "[5 rows x 29 columns]"
            ]
          },
          "metadata": {},
          "execution_count": 31
        }
      ]
    },
    {
      "cell_type": "markdown",
      "metadata": {
        "id": "Cn7YsG90i8dx"
      },
      "source": [
        "*Determine the total salaries of Data Scientists at Microsoft*"
      ]
    },
    {
      "cell_type": "code",
      "metadata": {
        "colab": {
          "base_uri": "https://localhost:8080/"
        },
        "id": "dFFdL8ng1Y87",
        "outputId": "adaa5a35-6b46-47c8-d613-f444d93381b3"
      },
      "source": [
        "salarymicrosoft_df = dsmicrosoft_df['totalyearlycompensation']\n",
        "salarymicrosoft_df"
      ],
      "execution_count": null,
      "outputs": [
        {
          "output_type": "execute_result",
          "data": {
            "text/plain": [
              "23699    220000\n",
              "27884    257000\n",
              "28621    209000\n",
              "28624    209000\n",
              "28726    248000\n",
              "28921    234000\n",
              "29042    194000\n",
              "30021    194000\n",
              "30106    227000\n",
              "30195    168000\n",
              "30700    122000\n",
              "31449    156000\n",
              "32039    159000\n",
              "33258    182000\n",
              "33279    230000\n",
              "33991    159000\n",
              "34511    185000\n",
              "34942    292000\n",
              "35300    350000\n",
              "36996    182000\n",
              "37519    280000\n",
              "39075    240000\n",
              "40321    173000\n",
              "40488    163000\n",
              "41107     69000\n",
              "41650    202000\n",
              "41728    153000\n",
              "42481    510000\n",
              "42639    225000\n",
              "42946    283000\n",
              "43578    182000\n",
              "44443    100000\n",
              "44717    273000\n",
              "45501    193000\n",
              "46139    345000\n",
              "46475    166000\n",
              "48722    105000\n",
              "49276    194000\n",
              "49814    209000\n",
              "50083    248000\n",
              "53632    400000\n",
              "55217    160000\n",
              "56636    165000\n",
              "56692    190000\n",
              "56909    181000\n",
              "57058    212000\n",
              "57486    143000\n",
              "57863    206000\n",
              "60487    162000\n",
              "61284    205000\n",
              "Name: totalyearlycompensation, dtype: int64"
            ]
          },
          "metadata": {},
          "execution_count": 32
        }
      ]
    },
    {
      "cell_type": "markdown",
      "metadata": {
        "id": "GiSA7YQ8jFEL"
      },
      "source": [
        "*Find statistical references for Data Scientists' salary at Microsoft*"
      ]
    },
    {
      "cell_type": "code",
      "metadata": {
        "colab": {
          "base_uri": "https://localhost:8080/"
        },
        "id": "uOGmJXw-1rw8",
        "outputId": "db0e5184-7c0c-4a2f-bc40-00dd02a4cd33"
      },
      "source": [
        "salarymicrosoft_df.describe()"
      ],
      "execution_count": null,
      "outputs": [
        {
          "output_type": "execute_result",
          "data": {
            "text/plain": [
              "count        50.000000\n",
              "mean     210280.000000\n",
              "std       75394.212954\n",
              "min       69000.000000\n",
              "25%      165250.000000\n",
              "50%      194000.000000\n",
              "75%      233000.000000\n",
              "max      510000.000000\n",
              "Name: totalyearlycompensation, dtype: float64"
            ]
          },
          "metadata": {},
          "execution_count": 33
        }
      ]
    },
    {
      "cell_type": "markdown",
      "metadata": {
        "id": "0FFl2I16rTvZ"
      },
      "source": [
        "*Combine Google dataset and Microsoft dataset for Data Scientists*"
      ]
    },
    {
      "cell_type": "code",
      "metadata": {
        "colab": {
          "base_uri": "https://localhost:8080/"
        },
        "id": "xrXyBJpJrcSc",
        "outputId": "729ff859-16d2-486c-c4e6-7c2d04d0029a"
      },
      "source": [
        "d1 = dsgoogle_df\n",
        "d2 = dsmicrosoft_df\n",
        "\n",
        "df1 = pd.DataFrame(d1, columns=['company','title','totalyearlycompensation','location'])\n",
        "df2 = pd.DataFrame(d2, columns=['company','title','totalyearlycompensation','location'])\n",
        "\n",
        "gm_df = pd.concat([df1,df2])\n",
        "print(gm_df)"
      ],
      "execution_count": null,
      "outputs": [
        {
          "output_type": "stream",
          "name": "stdout",
          "text": [
            "         company  ...                    location\n",
            "23679     Google  ...           San Francisco, CA\n",
            "24547     Google  ...                  Austin, TX\n",
            "26673     Google  ...           Mountain View, CA\n",
            "27850     Google  ...           San Francisco, CA\n",
            "27987     Google  ...               Sunnyvale, CA\n",
            "...          ...  ...                         ...\n",
            "57058  Microsoft  ...                 Redmond, WA\n",
            "57486  Microsoft  ...  London, EN, United Kingdom\n",
            "57863  Microsoft  ...                 Redmond, WA\n",
            "60487  Microsoft  ...                 Redmond, WA\n",
            "61284  Microsoft  ...                  Boston, MA\n",
            "\n",
            "[78 rows x 4 columns]\n"
          ]
        }
      ]
    },
    {
      "cell_type": "markdown",
      "metadata": {
        "id": "U7SrVldQjyBe"
      },
      "source": [
        "*Find male data scientists gender counts in clean data set*"
      ]
    },
    {
      "cell_type": "code",
      "metadata": {
        "colab": {
          "base_uri": "https://localhost:8080/",
          "height": 565
        },
        "id": "0V8IjraGj_W4",
        "outputId": "d35aa8de-9e88-41b2-9926-f3999efbc157"
      },
      "source": [
        "males_df = clean_salaries[clean_salaries['gender']=='Male']\n",
        "males_df.head()"
      ],
      "execution_count": null,
      "outputs": [
        {
          "output_type": "execute_result",
          "data": {
            "text/html": [
              "<div>\n",
              "<style scoped>\n",
              "    .dataframe tbody tr th:only-of-type {\n",
              "        vertical-align: middle;\n",
              "    }\n",
              "\n",
              "    .dataframe tbody tr th {\n",
              "        vertical-align: top;\n",
              "    }\n",
              "\n",
              "    .dataframe thead th {\n",
              "        text-align: right;\n",
              "    }\n",
              "</style>\n",
              "<table border=\"1\" class=\"dataframe\">\n",
              "  <thead>\n",
              "    <tr style=\"text-align: right;\">\n",
              "      <th></th>\n",
              "      <th>timestamp</th>\n",
              "      <th>company</th>\n",
              "      <th>level</th>\n",
              "      <th>title</th>\n",
              "      <th>totalyearlycompensation</th>\n",
              "      <th>location</th>\n",
              "      <th>yearsofexperience</th>\n",
              "      <th>yearsatcompany</th>\n",
              "      <th>tag</th>\n",
              "      <th>basesalary</th>\n",
              "      <th>stockgrantvalue</th>\n",
              "      <th>bonus</th>\n",
              "      <th>gender</th>\n",
              "      <th>otherdetails</th>\n",
              "      <th>cityid</th>\n",
              "      <th>dmaid</th>\n",
              "      <th>rowNumber</th>\n",
              "      <th>Masters_Degree</th>\n",
              "      <th>Bachelors_Degree</th>\n",
              "      <th>Doctorate_Degree</th>\n",
              "      <th>Highschool</th>\n",
              "      <th>Some_College</th>\n",
              "      <th>Race_Asian</th>\n",
              "      <th>Race_White</th>\n",
              "      <th>Race_Two_Or_More</th>\n",
              "      <th>Race_Black</th>\n",
              "      <th>Race_Hispanic</th>\n",
              "      <th>Race</th>\n",
              "      <th>Education</th>\n",
              "    </tr>\n",
              "  </thead>\n",
              "  <tbody>\n",
              "    <tr>\n",
              "      <th>23679</th>\n",
              "      <td>7/6/2020 17:16</td>\n",
              "      <td>Google</td>\n",
              "      <td>L3</td>\n",
              "      <td>Data Scientist</td>\n",
              "      <td>170000</td>\n",
              "      <td>San Francisco, CA</td>\n",
              "      <td>3.0</td>\n",
              "      <td>3.0</td>\n",
              "      <td>ML / AI</td>\n",
              "      <td>170000</td>\n",
              "      <td>0.0</td>\n",
              "      <td>0.0</td>\n",
              "      <td>Male</td>\n",
              "      <td>Race: White, Academic Level: Bachelor’s degree</td>\n",
              "      <td>7419</td>\n",
              "      <td>807.0</td>\n",
              "      <td>32433</td>\n",
              "      <td>0</td>\n",
              "      <td>1</td>\n",
              "      <td>0</td>\n",
              "      <td>0</td>\n",
              "      <td>0</td>\n",
              "      <td>0</td>\n",
              "      <td>1</td>\n",
              "      <td>0</td>\n",
              "      <td>0</td>\n",
              "      <td>0</td>\n",
              "      <td>White</td>\n",
              "      <td>Bachelor's Degree</td>\n",
              "    </tr>\n",
              "    <tr>\n",
              "      <th>23699</th>\n",
              "      <td>7/6/2020 22:10</td>\n",
              "      <td>Microsoft</td>\n",
              "      <td>62</td>\n",
              "      <td>Data Scientist</td>\n",
              "      <td>220000</td>\n",
              "      <td>Bellevue, WA</td>\n",
              "      <td>4.0</td>\n",
              "      <td>2.0</td>\n",
              "      <td>Data science</td>\n",
              "      <td>150000</td>\n",
              "      <td>60000.0</td>\n",
              "      <td>10000.0</td>\n",
              "      <td>Male</td>\n",
              "      <td>Race: White, Academic Level: Doctorate (PhD)</td>\n",
              "      <td>11470</td>\n",
              "      <td>819.0</td>\n",
              "      <td>32454</td>\n",
              "      <td>0</td>\n",
              "      <td>0</td>\n",
              "      <td>1</td>\n",
              "      <td>0</td>\n",
              "      <td>0</td>\n",
              "      <td>0</td>\n",
              "      <td>1</td>\n",
              "      <td>0</td>\n",
              "      <td>0</td>\n",
              "      <td>0</td>\n",
              "      <td>White</td>\n",
              "      <td>PhD</td>\n",
              "    </tr>\n",
              "    <tr>\n",
              "      <th>23702</th>\n",
              "      <td>7/6/2020 22:31</td>\n",
              "      <td>PayPal</td>\n",
              "      <td>T24</td>\n",
              "      <td>Data Scientist</td>\n",
              "      <td>216000</td>\n",
              "      <td>San Jose, CA</td>\n",
              "      <td>2.0</td>\n",
              "      <td>0.0</td>\n",
              "      <td>ML / AI</td>\n",
              "      <td>160000</td>\n",
              "      <td>40000.0</td>\n",
              "      <td>16000.0</td>\n",
              "      <td>Male</td>\n",
              "      <td>Race: Asian, Academic Level: Master’s degree</td>\n",
              "      <td>7422</td>\n",
              "      <td>807.0</td>\n",
              "      <td>32460</td>\n",
              "      <td>1</td>\n",
              "      <td>0</td>\n",
              "      <td>0</td>\n",
              "      <td>0</td>\n",
              "      <td>0</td>\n",
              "      <td>1</td>\n",
              "      <td>0</td>\n",
              "      <td>0</td>\n",
              "      <td>0</td>\n",
              "      <td>0</td>\n",
              "      <td>Asian</td>\n",
              "      <td>Master's Degree</td>\n",
              "    </tr>\n",
              "    <tr>\n",
              "      <th>23724</th>\n",
              "      <td>7/7/2020 8:03</td>\n",
              "      <td>Amazon</td>\n",
              "      <td>Senior</td>\n",
              "      <td>Data Scientist</td>\n",
              "      <td>185000</td>\n",
              "      <td>Cambridge, MA</td>\n",
              "      <td>25.0</td>\n",
              "      <td>0.0</td>\n",
              "      <td>Distributed Systems (Back-End)</td>\n",
              "      <td>185000</td>\n",
              "      <td>5000.0</td>\n",
              "      <td>0.0</td>\n",
              "      <td>Male</td>\n",
              "      <td>Race: White, Academic Level: Bachelor’s degree</td>\n",
              "      <td>8821</td>\n",
              "      <td>506.0</td>\n",
              "      <td>32494</td>\n",
              "      <td>0</td>\n",
              "      <td>1</td>\n",
              "      <td>0</td>\n",
              "      <td>0</td>\n",
              "      <td>0</td>\n",
              "      <td>0</td>\n",
              "      <td>1</td>\n",
              "      <td>0</td>\n",
              "      <td>0</td>\n",
              "      <td>0</td>\n",
              "      <td>White</td>\n",
              "      <td>Bachelor's Degree</td>\n",
              "    </tr>\n",
              "    <tr>\n",
              "      <th>23733</th>\n",
              "      <td>7/7/2020 9:18</td>\n",
              "      <td>AT&amp;T</td>\n",
              "      <td>L1</td>\n",
              "      <td>Data Scientist</td>\n",
              "      <td>98000</td>\n",
              "      <td>Dallas, TX</td>\n",
              "      <td>0.0</td>\n",
              "      <td>0.0</td>\n",
              "      <td>ML / AI</td>\n",
              "      <td>83000</td>\n",
              "      <td>0.0</td>\n",
              "      <td>15000.0</td>\n",
              "      <td>Male</td>\n",
              "      <td>Race: White, Academic Level: Bachelor’s degree</td>\n",
              "      <td>11039</td>\n",
              "      <td>623.0</td>\n",
              "      <td>32507</td>\n",
              "      <td>0</td>\n",
              "      <td>1</td>\n",
              "      <td>0</td>\n",
              "      <td>0</td>\n",
              "      <td>0</td>\n",
              "      <td>0</td>\n",
              "      <td>1</td>\n",
              "      <td>0</td>\n",
              "      <td>0</td>\n",
              "      <td>0</td>\n",
              "      <td>White</td>\n",
              "      <td>Bachelor's Degree</td>\n",
              "    </tr>\n",
              "  </tbody>\n",
              "</table>\n",
              "</div>"
            ],
            "text/plain": [
              "            timestamp    company  ...   Race          Education\n",
              "23679  7/6/2020 17:16     Google  ...  White  Bachelor's Degree\n",
              "23699  7/6/2020 22:10  Microsoft  ...  White                PhD\n",
              "23702  7/6/2020 22:31     PayPal  ...  Asian    Master's Degree\n",
              "23724   7/7/2020 8:03     Amazon  ...  White  Bachelor's Degree\n",
              "23733   7/7/2020 9:18       AT&T  ...  White  Bachelor's Degree\n",
              "\n",
              "[5 rows x 29 columns]"
            ]
          },
          "metadata": {},
          "execution_count": 41
        }
      ]
    },
    {
      "cell_type": "markdown",
      "metadata": {
        "id": "V6QnVDGxkg7N"
      },
      "source": [
        "*Find value for male Data Scientists salary in San Francisco, CA*"
      ]
    },
    {
      "cell_type": "code",
      "metadata": {
        "colab": {
          "base_uri": "https://localhost:8080/",
          "height": 565
        },
        "id": "spNmjuedszjY",
        "outputId": "6615396c-6cc1-494a-a2d2-f05e57afb449"
      },
      "source": [
        "malesf_df = males_df[males_df['location'] == 'San Francisco, CA']\n",
        "malesf_df.head()"
      ],
      "execution_count": null,
      "outputs": [
        {
          "output_type": "execute_result",
          "data": {
            "text/html": [
              "<div>\n",
              "<style scoped>\n",
              "    .dataframe tbody tr th:only-of-type {\n",
              "        vertical-align: middle;\n",
              "    }\n",
              "\n",
              "    .dataframe tbody tr th {\n",
              "        vertical-align: top;\n",
              "    }\n",
              "\n",
              "    .dataframe thead th {\n",
              "        text-align: right;\n",
              "    }\n",
              "</style>\n",
              "<table border=\"1\" class=\"dataframe\">\n",
              "  <thead>\n",
              "    <tr style=\"text-align: right;\">\n",
              "      <th></th>\n",
              "      <th>timestamp</th>\n",
              "      <th>company</th>\n",
              "      <th>level</th>\n",
              "      <th>title</th>\n",
              "      <th>totalyearlycompensation</th>\n",
              "      <th>location</th>\n",
              "      <th>yearsofexperience</th>\n",
              "      <th>yearsatcompany</th>\n",
              "      <th>tag</th>\n",
              "      <th>basesalary</th>\n",
              "      <th>stockgrantvalue</th>\n",
              "      <th>bonus</th>\n",
              "      <th>gender</th>\n",
              "      <th>otherdetails</th>\n",
              "      <th>cityid</th>\n",
              "      <th>dmaid</th>\n",
              "      <th>rowNumber</th>\n",
              "      <th>Masters_Degree</th>\n",
              "      <th>Bachelors_Degree</th>\n",
              "      <th>Doctorate_Degree</th>\n",
              "      <th>Highschool</th>\n",
              "      <th>Some_College</th>\n",
              "      <th>Race_Asian</th>\n",
              "      <th>Race_White</th>\n",
              "      <th>Race_Two_Or_More</th>\n",
              "      <th>Race_Black</th>\n",
              "      <th>Race_Hispanic</th>\n",
              "      <th>Race</th>\n",
              "      <th>Education</th>\n",
              "    </tr>\n",
              "  </thead>\n",
              "  <tbody>\n",
              "    <tr>\n",
              "      <th>23679</th>\n",
              "      <td>7/6/2020 17:16</td>\n",
              "      <td>Google</td>\n",
              "      <td>L3</td>\n",
              "      <td>Data Scientist</td>\n",
              "      <td>170000</td>\n",
              "      <td>San Francisco, CA</td>\n",
              "      <td>3.0</td>\n",
              "      <td>3.0</td>\n",
              "      <td>ML / AI</td>\n",
              "      <td>170000</td>\n",
              "      <td>0.0</td>\n",
              "      <td>0.0</td>\n",
              "      <td>Male</td>\n",
              "      <td>Race: White, Academic Level: Bachelor’s degree</td>\n",
              "      <td>7419</td>\n",
              "      <td>807.0</td>\n",
              "      <td>32433</td>\n",
              "      <td>0</td>\n",
              "      <td>1</td>\n",
              "      <td>0</td>\n",
              "      <td>0</td>\n",
              "      <td>0</td>\n",
              "      <td>0</td>\n",
              "      <td>1</td>\n",
              "      <td>0</td>\n",
              "      <td>0</td>\n",
              "      <td>0</td>\n",
              "      <td>White</td>\n",
              "      <td>Bachelor's Degree</td>\n",
              "    </tr>\n",
              "    <tr>\n",
              "      <th>24900</th>\n",
              "      <td>7/24/2020 19:56</td>\n",
              "      <td>Nextdoor</td>\n",
              "      <td>L2</td>\n",
              "      <td>Data Scientist</td>\n",
              "      <td>203000</td>\n",
              "      <td>San Francisco, CA</td>\n",
              "      <td>1.0</td>\n",
              "      <td>1.0</td>\n",
              "      <td>ML / AI</td>\n",
              "      <td>143000</td>\n",
              "      <td>60000.0</td>\n",
              "      <td>0.0</td>\n",
              "      <td>Male</td>\n",
              "      <td>Race: White, Academic Level: Master’s degree</td>\n",
              "      <td>7419</td>\n",
              "      <td>807.0</td>\n",
              "      <td>34151</td>\n",
              "      <td>1</td>\n",
              "      <td>0</td>\n",
              "      <td>0</td>\n",
              "      <td>0</td>\n",
              "      <td>0</td>\n",
              "      <td>0</td>\n",
              "      <td>1</td>\n",
              "      <td>0</td>\n",
              "      <td>0</td>\n",
              "      <td>0</td>\n",
              "      <td>White</td>\n",
              "      <td>Master's Degree</td>\n",
              "    </tr>\n",
              "    <tr>\n",
              "      <th>25182</th>\n",
              "      <td>7/28/2020 19:27</td>\n",
              "      <td>Ernst and Young</td>\n",
              "      <td>Senior Consultant</td>\n",
              "      <td>Data Scientist</td>\n",
              "      <td>104000</td>\n",
              "      <td>San Francisco, CA</td>\n",
              "      <td>2.0</td>\n",
              "      <td>2.0</td>\n",
              "      <td>ML, Program Manager</td>\n",
              "      <td>98000</td>\n",
              "      <td>0.0</td>\n",
              "      <td>6000.0</td>\n",
              "      <td>Male</td>\n",
              "      <td>Race: Asian, Academic Level: Bachelor’s degree</td>\n",
              "      <td>7419</td>\n",
              "      <td>807.0</td>\n",
              "      <td>34559</td>\n",
              "      <td>0</td>\n",
              "      <td>1</td>\n",
              "      <td>0</td>\n",
              "      <td>0</td>\n",
              "      <td>0</td>\n",
              "      <td>1</td>\n",
              "      <td>0</td>\n",
              "      <td>0</td>\n",
              "      <td>0</td>\n",
              "      <td>0</td>\n",
              "      <td>Asian</td>\n",
              "      <td>Bachelor's Degree</td>\n",
              "    </tr>\n",
              "    <tr>\n",
              "      <th>25607</th>\n",
              "      <td>8/3/2020 16:54</td>\n",
              "      <td>Amazon</td>\n",
              "      <td>L5</td>\n",
              "      <td>Data Scientist</td>\n",
              "      <td>325000</td>\n",
              "      <td>San Francisco, CA</td>\n",
              "      <td>5.0</td>\n",
              "      <td>0.0</td>\n",
              "      <td>ML / AI</td>\n",
              "      <td>200000</td>\n",
              "      <td>100000.0</td>\n",
              "      <td>25000.0</td>\n",
              "      <td>Male</td>\n",
              "      <td>Race: Asian, Academic Level: Master’s degree</td>\n",
              "      <td>7419</td>\n",
              "      <td>807.0</td>\n",
              "      <td>35170</td>\n",
              "      <td>1</td>\n",
              "      <td>0</td>\n",
              "      <td>0</td>\n",
              "      <td>0</td>\n",
              "      <td>0</td>\n",
              "      <td>1</td>\n",
              "      <td>0</td>\n",
              "      <td>0</td>\n",
              "      <td>0</td>\n",
              "      <td>0</td>\n",
              "      <td>Asian</td>\n",
              "      <td>Master's Degree</td>\n",
              "    </tr>\n",
              "    <tr>\n",
              "      <th>26946</th>\n",
              "      <td>8/18/2020 16:37</td>\n",
              "      <td>Wish</td>\n",
              "      <td>L5</td>\n",
              "      <td>Data Scientist</td>\n",
              "      <td>212000</td>\n",
              "      <td>San Francisco, CA</td>\n",
              "      <td>5.0</td>\n",
              "      <td>3.0</td>\n",
              "      <td>Data</td>\n",
              "      <td>202000</td>\n",
              "      <td>10000.0</td>\n",
              "      <td>0.0</td>\n",
              "      <td>Male</td>\n",
              "      <td>Race: Asian, Academic Level: Master’s degree</td>\n",
              "      <td>7419</td>\n",
              "      <td>807.0</td>\n",
              "      <td>37030</td>\n",
              "      <td>1</td>\n",
              "      <td>0</td>\n",
              "      <td>0</td>\n",
              "      <td>0</td>\n",
              "      <td>0</td>\n",
              "      <td>1</td>\n",
              "      <td>0</td>\n",
              "      <td>0</td>\n",
              "      <td>0</td>\n",
              "      <td>0</td>\n",
              "      <td>Asian</td>\n",
              "      <td>Master's Degree</td>\n",
              "    </tr>\n",
              "  </tbody>\n",
              "</table>\n",
              "</div>"
            ],
            "text/plain": [
              "             timestamp          company  ...   Race          Education\n",
              "23679   7/6/2020 17:16           Google  ...  White  Bachelor's Degree\n",
              "24900  7/24/2020 19:56         Nextdoor  ...  White    Master's Degree\n",
              "25182  7/28/2020 19:27  Ernst and Young  ...  Asian  Bachelor's Degree\n",
              "25607   8/3/2020 16:54           Amazon  ...  Asian    Master's Degree\n",
              "26946  8/18/2020 16:37             Wish  ...  Asian    Master's Degree\n",
              "\n",
              "[5 rows x 29 columns]"
            ]
          },
          "metadata": {},
          "execution_count": 42
        }
      ]
    },
    {
      "cell_type": "markdown",
      "metadata": {
        "id": "nltIN_05kqcf"
      },
      "source": [
        "*Find total salary of male Data Scientists in San Francisco, CA*"
      ]
    },
    {
      "cell_type": "code",
      "metadata": {
        "colab": {
          "base_uri": "https://localhost:8080/"
        },
        "id": "_Y7jzkJN17Rg",
        "outputId": "e5ace310-198f-4a7c-a2cf-8ba74dd6fa69"
      },
      "source": [
        "malesalarysf_df = malesf_df['totalyearlycompensation']\n",
        "malesalarysf_df"
      ],
      "execution_count": null,
      "outputs": [
        {
          "output_type": "execute_result",
          "data": {
            "text/plain": [
              "23679    170000\n",
              "24900    203000\n",
              "25182    104000\n",
              "25607    325000\n",
              "26946    212000\n",
              "          ...  \n",
              "58797    268000\n",
              "58802    275000\n",
              "59349    250000\n",
              "59379    209000\n",
              "59703    148000\n",
              "Name: totalyearlycompensation, Length: 77, dtype: int64"
            ]
          },
          "metadata": {},
          "execution_count": 43
        }
      ]
    },
    {
      "cell_type": "markdown",
      "metadata": {
        "id": "wuXle8Rckx9h"
      },
      "source": [
        "*Find statistical references for male Data Scientists' in San Francisco, CA*"
      ]
    },
    {
      "cell_type": "code",
      "metadata": {
        "colab": {
          "base_uri": "https://localhost:8080/"
        },
        "id": "o0XdmRMq2Pa6",
        "outputId": "117e58ef-aecc-408f-a2af-7dc7d2799836"
      },
      "source": [
        "malesalarysf_df.describe()"
      ],
      "execution_count": null,
      "outputs": [
        {
          "output_type": "execute_result",
          "data": {
            "text/plain": [
              "count        77.000000\n",
              "mean     277311.688312\n",
              "std      113206.990176\n",
              "min      104000.000000\n",
              "25%      198000.000000\n",
              "50%      250000.000000\n",
              "75%      323000.000000\n",
              "max      650000.000000\n",
              "Name: totalyearlycompensation, dtype: float64"
            ]
          },
          "metadata": {},
          "execution_count": 44
        }
      ]
    },
    {
      "cell_type": "markdown",
      "metadata": {
        "id": "vLSkf8J8lFlq"
      },
      "source": [
        "*Find female data scientists gender counts in clean data set*"
      ]
    },
    {
      "cell_type": "code",
      "metadata": {
        "colab": {
          "base_uri": "https://localhost:8080/",
          "height": 565
        },
        "id": "UKT4acDOlI7r",
        "outputId": "3ebf2406-100b-423e-b19e-78079395764d"
      },
      "source": [
        "females_df = clean_salaries[clean_salaries['gender']=='Female']\n",
        "females_df.head()"
      ],
      "execution_count": null,
      "outputs": [
        {
          "output_type": "execute_result",
          "data": {
            "text/html": [
              "<div>\n",
              "<style scoped>\n",
              "    .dataframe tbody tr th:only-of-type {\n",
              "        vertical-align: middle;\n",
              "    }\n",
              "\n",
              "    .dataframe tbody tr th {\n",
              "        vertical-align: top;\n",
              "    }\n",
              "\n",
              "    .dataframe thead th {\n",
              "        text-align: right;\n",
              "    }\n",
              "</style>\n",
              "<table border=\"1\" class=\"dataframe\">\n",
              "  <thead>\n",
              "    <tr style=\"text-align: right;\">\n",
              "      <th></th>\n",
              "      <th>timestamp</th>\n",
              "      <th>company</th>\n",
              "      <th>level</th>\n",
              "      <th>title</th>\n",
              "      <th>totalyearlycompensation</th>\n",
              "      <th>location</th>\n",
              "      <th>yearsofexperience</th>\n",
              "      <th>yearsatcompany</th>\n",
              "      <th>tag</th>\n",
              "      <th>basesalary</th>\n",
              "      <th>stockgrantvalue</th>\n",
              "      <th>bonus</th>\n",
              "      <th>gender</th>\n",
              "      <th>otherdetails</th>\n",
              "      <th>cityid</th>\n",
              "      <th>dmaid</th>\n",
              "      <th>rowNumber</th>\n",
              "      <th>Masters_Degree</th>\n",
              "      <th>Bachelors_Degree</th>\n",
              "      <th>Doctorate_Degree</th>\n",
              "      <th>Highschool</th>\n",
              "      <th>Some_College</th>\n",
              "      <th>Race_Asian</th>\n",
              "      <th>Race_White</th>\n",
              "      <th>Race_Two_Or_More</th>\n",
              "      <th>Race_Black</th>\n",
              "      <th>Race_Hispanic</th>\n",
              "      <th>Race</th>\n",
              "      <th>Education</th>\n",
              "    </tr>\n",
              "  </thead>\n",
              "  <tbody>\n",
              "    <tr>\n",
              "      <th>23685</th>\n",
              "      <td>7/6/2020 18:03</td>\n",
              "      <td>Facebook</td>\n",
              "      <td>IC4</td>\n",
              "      <td>Data Scientist</td>\n",
              "      <td>205000</td>\n",
              "      <td>Menlo Park, CA</td>\n",
              "      <td>0.0</td>\n",
              "      <td>0.0</td>\n",
              "      <td>Product analytics</td>\n",
              "      <td>150000</td>\n",
              "      <td>40000.0</td>\n",
              "      <td>15000.0</td>\n",
              "      <td>Female</td>\n",
              "      <td>Race: Asian, Academic Level: Doctorate (PhD)</td>\n",
              "      <td>7300</td>\n",
              "      <td>807.0</td>\n",
              "      <td>32439</td>\n",
              "      <td>0</td>\n",
              "      <td>0</td>\n",
              "      <td>1</td>\n",
              "      <td>0</td>\n",
              "      <td>0</td>\n",
              "      <td>1</td>\n",
              "      <td>0</td>\n",
              "      <td>0</td>\n",
              "      <td>0</td>\n",
              "      <td>0</td>\n",
              "      <td>Asian</td>\n",
              "      <td>PhD</td>\n",
              "    </tr>\n",
              "    <tr>\n",
              "      <th>23764</th>\n",
              "      <td>7/7/2020 13:59</td>\n",
              "      <td>Expedia</td>\n",
              "      <td>Data Scientist I</td>\n",
              "      <td>Data Scientist</td>\n",
              "      <td>131000</td>\n",
              "      <td>Seattle, WA</td>\n",
              "      <td>1.0</td>\n",
              "      <td>1.0</td>\n",
              "      <td>ML / AI</td>\n",
              "      <td>115000</td>\n",
              "      <td>3000.0</td>\n",
              "      <td>14000.0</td>\n",
              "      <td>Female</td>\n",
              "      <td>Remote, Race: Asian, Academic Level: Doctorate...</td>\n",
              "      <td>11527</td>\n",
              "      <td>819.0</td>\n",
              "      <td>32558</td>\n",
              "      <td>0</td>\n",
              "      <td>0</td>\n",
              "      <td>1</td>\n",
              "      <td>0</td>\n",
              "      <td>0</td>\n",
              "      <td>1</td>\n",
              "      <td>0</td>\n",
              "      <td>0</td>\n",
              "      <td>0</td>\n",
              "      <td>0</td>\n",
              "      <td>Asian</td>\n",
              "      <td>PhD</td>\n",
              "    </tr>\n",
              "    <tr>\n",
              "      <th>23789</th>\n",
              "      <td>7/7/2020 19:06</td>\n",
              "      <td>PayPal</td>\n",
              "      <td>26</td>\n",
              "      <td>Data Scientist</td>\n",
              "      <td>297000</td>\n",
              "      <td>San Jose, CA</td>\n",
              "      <td>13.0</td>\n",
              "      <td>2.0</td>\n",
              "      <td>Data Science</td>\n",
              "      <td>207000</td>\n",
              "      <td>60000.0</td>\n",
              "      <td>30000.0</td>\n",
              "      <td>Female</td>\n",
              "      <td>Race: Asian, Academic Level: Master’s degree</td>\n",
              "      <td>7422</td>\n",
              "      <td>807.0</td>\n",
              "      <td>32593</td>\n",
              "      <td>1</td>\n",
              "      <td>0</td>\n",
              "      <td>0</td>\n",
              "      <td>0</td>\n",
              "      <td>0</td>\n",
              "      <td>1</td>\n",
              "      <td>0</td>\n",
              "      <td>0</td>\n",
              "      <td>0</td>\n",
              "      <td>0</td>\n",
              "      <td>Asian</td>\n",
              "      <td>Master's Degree</td>\n",
              "    </tr>\n",
              "    <tr>\n",
              "      <th>24126</th>\n",
              "      <td>7/13/2020 14:00</td>\n",
              "      <td>Grab</td>\n",
              "      <td>G3</td>\n",
              "      <td>Data Scientist</td>\n",
              "      <td>57000</td>\n",
              "      <td>Singapore, SG, Singapore</td>\n",
              "      <td>2.0</td>\n",
              "      <td>2.0</td>\n",
              "      <td>ML / AI</td>\n",
              "      <td>45000</td>\n",
              "      <td>5000.0</td>\n",
              "      <td>7000.0</td>\n",
              "      <td>Female</td>\n",
              "      <td>Race: Asian, Academic Level: Bachelor’s degree</td>\n",
              "      <td>17912</td>\n",
              "      <td>0.0</td>\n",
              "      <td>33050</td>\n",
              "      <td>0</td>\n",
              "      <td>1</td>\n",
              "      <td>0</td>\n",
              "      <td>0</td>\n",
              "      <td>0</td>\n",
              "      <td>1</td>\n",
              "      <td>0</td>\n",
              "      <td>0</td>\n",
              "      <td>0</td>\n",
              "      <td>0</td>\n",
              "      <td>Asian</td>\n",
              "      <td>Bachelor's Degree</td>\n",
              "    </tr>\n",
              "    <tr>\n",
              "      <th>24323</th>\n",
              "      <td>7/16/2020 16:39</td>\n",
              "      <td>Dropbox</td>\n",
              "      <td>IC2</td>\n",
              "      <td>Data Scientist</td>\n",
              "      <td>147000</td>\n",
              "      <td>San Francisco, CA</td>\n",
              "      <td>3.0</td>\n",
              "      <td>2.0</td>\n",
              "      <td>Analytics</td>\n",
              "      <td>120000</td>\n",
              "      <td>15000.0</td>\n",
              "      <td>12000.0</td>\n",
              "      <td>Female</td>\n",
              "      <td>Race: Asian, Academic Level: Master’s degree</td>\n",
              "      <td>7419</td>\n",
              "      <td>807.0</td>\n",
              "      <td>33310</td>\n",
              "      <td>1</td>\n",
              "      <td>0</td>\n",
              "      <td>0</td>\n",
              "      <td>0</td>\n",
              "      <td>0</td>\n",
              "      <td>1</td>\n",
              "      <td>0</td>\n",
              "      <td>0</td>\n",
              "      <td>0</td>\n",
              "      <td>0</td>\n",
              "      <td>Asian</td>\n",
              "      <td>Master's Degree</td>\n",
              "    </tr>\n",
              "  </tbody>\n",
              "</table>\n",
              "</div>"
            ],
            "text/plain": [
              "             timestamp   company  ...   Race          Education\n",
              "23685   7/6/2020 18:03  Facebook  ...  Asian                PhD\n",
              "23764   7/7/2020 13:59   Expedia  ...  Asian                PhD\n",
              "23789   7/7/2020 19:06    PayPal  ...  Asian    Master's Degree\n",
              "24126  7/13/2020 14:00      Grab  ...  Asian  Bachelor's Degree\n",
              "24323  7/16/2020 16:39   Dropbox  ...  Asian    Master's Degree\n",
              "\n",
              "[5 rows x 29 columns]"
            ]
          },
          "metadata": {},
          "execution_count": 45
        }
      ]
    },
    {
      "cell_type": "markdown",
      "metadata": {
        "id": "xE1_TL4nlg44"
      },
      "source": [
        "*Find value for female Data Scientists salary in San Francisco, CA.*\n"
      ]
    },
    {
      "cell_type": "code",
      "metadata": {
        "colab": {
          "base_uri": "https://localhost:8080/",
          "height": 565
        },
        "id": "q-B8mTostwgL",
        "outputId": "154abaea-a6ac-4807-f776-aac7cded6c4b"
      },
      "source": [
        "femalesf_df = females_df[females_df['location'] == 'San Francisco, CA']\n",
        "femalesf_df.head()"
      ],
      "execution_count": null,
      "outputs": [
        {
          "output_type": "execute_result",
          "data": {
            "text/html": [
              "<div>\n",
              "<style scoped>\n",
              "    .dataframe tbody tr th:only-of-type {\n",
              "        vertical-align: middle;\n",
              "    }\n",
              "\n",
              "    .dataframe tbody tr th {\n",
              "        vertical-align: top;\n",
              "    }\n",
              "\n",
              "    .dataframe thead th {\n",
              "        text-align: right;\n",
              "    }\n",
              "</style>\n",
              "<table border=\"1\" class=\"dataframe\">\n",
              "  <thead>\n",
              "    <tr style=\"text-align: right;\">\n",
              "      <th></th>\n",
              "      <th>timestamp</th>\n",
              "      <th>company</th>\n",
              "      <th>level</th>\n",
              "      <th>title</th>\n",
              "      <th>totalyearlycompensation</th>\n",
              "      <th>location</th>\n",
              "      <th>yearsofexperience</th>\n",
              "      <th>yearsatcompany</th>\n",
              "      <th>tag</th>\n",
              "      <th>basesalary</th>\n",
              "      <th>stockgrantvalue</th>\n",
              "      <th>bonus</th>\n",
              "      <th>gender</th>\n",
              "      <th>otherdetails</th>\n",
              "      <th>cityid</th>\n",
              "      <th>dmaid</th>\n",
              "      <th>rowNumber</th>\n",
              "      <th>Masters_Degree</th>\n",
              "      <th>Bachelors_Degree</th>\n",
              "      <th>Doctorate_Degree</th>\n",
              "      <th>Highschool</th>\n",
              "      <th>Some_College</th>\n",
              "      <th>Race_Asian</th>\n",
              "      <th>Race_White</th>\n",
              "      <th>Race_Two_Or_More</th>\n",
              "      <th>Race_Black</th>\n",
              "      <th>Race_Hispanic</th>\n",
              "      <th>Race</th>\n",
              "      <th>Education</th>\n",
              "    </tr>\n",
              "  </thead>\n",
              "  <tbody>\n",
              "    <tr>\n",
              "      <th>24323</th>\n",
              "      <td>7/16/2020 16:39</td>\n",
              "      <td>Dropbox</td>\n",
              "      <td>IC2</td>\n",
              "      <td>Data Scientist</td>\n",
              "      <td>147000</td>\n",
              "      <td>San Francisco, CA</td>\n",
              "      <td>3.0</td>\n",
              "      <td>2.0</td>\n",
              "      <td>Analytics</td>\n",
              "      <td>120000</td>\n",
              "      <td>15000.0</td>\n",
              "      <td>12000.0</td>\n",
              "      <td>Female</td>\n",
              "      <td>Race: Asian, Academic Level: Master’s degree</td>\n",
              "      <td>7419</td>\n",
              "      <td>807.0</td>\n",
              "      <td>33310</td>\n",
              "      <td>1</td>\n",
              "      <td>0</td>\n",
              "      <td>0</td>\n",
              "      <td>0</td>\n",
              "      <td>0</td>\n",
              "      <td>1</td>\n",
              "      <td>0</td>\n",
              "      <td>0</td>\n",
              "      <td>0</td>\n",
              "      <td>0</td>\n",
              "      <td>Asian</td>\n",
              "      <td>Master's Degree</td>\n",
              "    </tr>\n",
              "    <tr>\n",
              "      <th>24881</th>\n",
              "      <td>7/24/2020 14:19</td>\n",
              "      <td>JUUL Labs</td>\n",
              "      <td>L3</td>\n",
              "      <td>Data Scientist</td>\n",
              "      <td>160000</td>\n",
              "      <td>San Francisco, CA</td>\n",
              "      <td>4.0</td>\n",
              "      <td>1.0</td>\n",
              "      <td>Distributed Systems (Back-End)</td>\n",
              "      <td>160000</td>\n",
              "      <td>0.0</td>\n",
              "      <td>0.0</td>\n",
              "      <td>Female</td>\n",
              "      <td>Race: Asian, Academic Level: Master’s degree</td>\n",
              "      <td>7419</td>\n",
              "      <td>807.0</td>\n",
              "      <td>34129</td>\n",
              "      <td>1</td>\n",
              "      <td>0</td>\n",
              "      <td>0</td>\n",
              "      <td>0</td>\n",
              "      <td>0</td>\n",
              "      <td>1</td>\n",
              "      <td>0</td>\n",
              "      <td>0</td>\n",
              "      <td>0</td>\n",
              "      <td>0</td>\n",
              "      <td>Asian</td>\n",
              "      <td>Master's Degree</td>\n",
              "    </tr>\n",
              "    <tr>\n",
              "      <th>26751</th>\n",
              "      <td>8/17/2020 7:11</td>\n",
              "      <td>Airbnb</td>\n",
              "      <td>L3</td>\n",
              "      <td>Data Scientist</td>\n",
              "      <td>210000</td>\n",
              "      <td>San Francisco, CA</td>\n",
              "      <td>2.0</td>\n",
              "      <td>0.0</td>\n",
              "      <td>Analytics</td>\n",
              "      <td>145000</td>\n",
              "      <td>45000.0</td>\n",
              "      <td>20000.0</td>\n",
              "      <td>Female</td>\n",
              "      <td>Race: Asian, Academic Level: Master’s degree</td>\n",
              "      <td>7419</td>\n",
              "      <td>807.0</td>\n",
              "      <td>36782</td>\n",
              "      <td>1</td>\n",
              "      <td>0</td>\n",
              "      <td>0</td>\n",
              "      <td>0</td>\n",
              "      <td>0</td>\n",
              "      <td>1</td>\n",
              "      <td>0</td>\n",
              "      <td>0</td>\n",
              "      <td>0</td>\n",
              "      <td>0</td>\n",
              "      <td>Asian</td>\n",
              "      <td>Master's Degree</td>\n",
              "    </tr>\n",
              "    <tr>\n",
              "      <th>28319</th>\n",
              "      <td>8/31/2020 15:55</td>\n",
              "      <td>Adobe</td>\n",
              "      <td>L4</td>\n",
              "      <td>Data Scientist</td>\n",
              "      <td>210000</td>\n",
              "      <td>San Francisco, CA</td>\n",
              "      <td>4.0</td>\n",
              "      <td>1.0</td>\n",
              "      <td>Analytics</td>\n",
              "      <td>175000</td>\n",
              "      <td>18000.0</td>\n",
              "      <td>18000.0</td>\n",
              "      <td>Female</td>\n",
              "      <td>Race: Asian, Academic Level: Bachelor’s degree</td>\n",
              "      <td>7419</td>\n",
              "      <td>807.0</td>\n",
              "      <td>38931</td>\n",
              "      <td>0</td>\n",
              "      <td>1</td>\n",
              "      <td>0</td>\n",
              "      <td>0</td>\n",
              "      <td>0</td>\n",
              "      <td>1</td>\n",
              "      <td>0</td>\n",
              "      <td>0</td>\n",
              "      <td>0</td>\n",
              "      <td>0</td>\n",
              "      <td>Asian</td>\n",
              "      <td>Bachelor's Degree</td>\n",
              "    </tr>\n",
              "    <tr>\n",
              "      <th>28910</th>\n",
              "      <td>9/4/2020 13:20</td>\n",
              "      <td>Instacart</td>\n",
              "      <td>5</td>\n",
              "      <td>Data Scientist</td>\n",
              "      <td>305000</td>\n",
              "      <td>San Francisco, CA</td>\n",
              "      <td>6.0</td>\n",
              "      <td>2.0</td>\n",
              "      <td>Data</td>\n",
              "      <td>167000</td>\n",
              "      <td>138000.0</td>\n",
              "      <td>0.0</td>\n",
              "      <td>Female</td>\n",
              "      <td>Race: White, Academic Level: Doctorate (PhD)</td>\n",
              "      <td>7419</td>\n",
              "      <td>807.0</td>\n",
              "      <td>39746</td>\n",
              "      <td>0</td>\n",
              "      <td>0</td>\n",
              "      <td>1</td>\n",
              "      <td>0</td>\n",
              "      <td>0</td>\n",
              "      <td>0</td>\n",
              "      <td>1</td>\n",
              "      <td>0</td>\n",
              "      <td>0</td>\n",
              "      <td>0</td>\n",
              "      <td>White</td>\n",
              "      <td>PhD</td>\n",
              "    </tr>\n",
              "  </tbody>\n",
              "</table>\n",
              "</div>"
            ],
            "text/plain": [
              "             timestamp    company  ...   Race          Education\n",
              "24323  7/16/2020 16:39    Dropbox  ...  Asian    Master's Degree\n",
              "24881  7/24/2020 14:19  JUUL Labs  ...  Asian    Master's Degree\n",
              "26751   8/17/2020 7:11     Airbnb  ...  Asian    Master's Degree\n",
              "28319  8/31/2020 15:55      Adobe  ...  Asian  Bachelor's Degree\n",
              "28910   9/4/2020 13:20  Instacart  ...  White                PhD\n",
              "\n",
              "[5 rows x 29 columns]"
            ]
          },
          "metadata": {},
          "execution_count": 46
        }
      ]
    },
    {
      "cell_type": "markdown",
      "metadata": {
        "id": "0LrLjl0ilqNg"
      },
      "source": [
        "*Find salary of female Data Scientists in San Francisco, CA*"
      ]
    },
    {
      "cell_type": "code",
      "metadata": {
        "colab": {
          "base_uri": "https://localhost:8080/"
        },
        "id": "uFFmbBYa2gF-",
        "outputId": "c3982cb8-0796-42d8-a824-6845f3bad0f0"
      },
      "source": [
        "femalesalarysf_df = femalesf_df['totalyearlycompensation']\n",
        "femalesalarysf_df.head()"
      ],
      "execution_count": null,
      "outputs": [
        {
          "output_type": "execute_result",
          "data": {
            "text/plain": [
              "24323    147000\n",
              "24881    160000\n",
              "26751    210000\n",
              "28319    210000\n",
              "28910    305000\n",
              "Name: totalyearlycompensation, dtype: int64"
            ]
          },
          "metadata": {},
          "execution_count": 47
        }
      ]
    },
    {
      "cell_type": "markdown",
      "metadata": {
        "id": "sdrqj8I0lyNG"
      },
      "source": [
        "*Find statistical references for female Data Scientists' in San Francisco, CA*"
      ]
    },
    {
      "cell_type": "code",
      "metadata": {
        "colab": {
          "base_uri": "https://localhost:8080/"
        },
        "id": "iV8z5Q6_2-Xe",
        "outputId": "c8e688fa-7bb9-49b1-dd79-a866d77a6399"
      },
      "source": [
        "femalesalarysf_df.describe()"
      ],
      "execution_count": null,
      "outputs": [
        {
          "output_type": "execute_result",
          "data": {
            "text/plain": [
              "count        28.000000\n",
              "mean     221928.571429\n",
              "std       91935.133562\n",
              "min      106000.000000\n",
              "25%      151500.000000\n",
              "50%      210000.000000\n",
              "75%      250250.000000\n",
              "max      520000.000000\n",
              "Name: totalyearlycompensation, dtype: float64"
            ]
          },
          "metadata": {},
          "execution_count": 48
        }
      ]
    },
    {
      "cell_type": "markdown",
      "metadata": {
        "id": "6p7pdcwtmDwK"
      },
      "source": [
        "*Combine Female and Male Data Scientists Data Sets*"
      ]
    },
    {
      "cell_type": "code",
      "metadata": {
        "colab": {
          "base_uri": "https://localhost:8080/"
        },
        "id": "avjM8s4cXPy8",
        "outputId": "87703e5b-a53e-4b4b-cded-d685f1ea5dca"
      },
      "source": [
        "d1 = malesf_df\n",
        "d2 = femalesf_df\n",
        "\n",
        "df1 = pd.DataFrame(d1, columns=['gender','title','totalyearlycompensation','location'])\n",
        "df2 = pd.DataFrame(d2, columns=['gender','title','totalyearlycompensation','location'])\n",
        "\n",
        "mf_df = pd.concat([df1,df2])\n",
        "print(mf_df)"
      ],
      "execution_count": null,
      "outputs": [
        {
          "output_type": "stream",
          "name": "stdout",
          "text": [
            "       gender           title  totalyearlycompensation           location\n",
            "23679    Male  Data Scientist                   170000  San Francisco, CA\n",
            "24900    Male  Data Scientist                   203000  San Francisco, CA\n",
            "25182    Male  Data Scientist                   104000  San Francisco, CA\n",
            "25607    Male  Data Scientist                   325000  San Francisco, CA\n",
            "26946    Male  Data Scientist                   212000  San Francisco, CA\n",
            "...       ...             ...                      ...                ...\n",
            "48420  Female  Data Scientist                   235000  San Francisco, CA\n",
            "49901  Female  Data Scientist                   185000  San Francisco, CA\n",
            "50967  Female  Data Scientist                   116000  San Francisco, CA\n",
            "57441  Female  Data Scientist                   140000  San Francisco, CA\n",
            "61270  Female  Data Scientist                   133000  San Francisco, CA\n",
            "\n",
            "[105 rows x 4 columns]\n"
          ]
        }
      ]
    },
    {
      "cell_type": "markdown",
      "metadata": {
        "id": "dIAW5xGlmvni"
      },
      "source": [
        "*Find value for Data Scientists salary who reside in Seattle, WA.*"
      ]
    },
    {
      "cell_type": "code",
      "metadata": {
        "colab": {
          "base_uri": "https://localhost:8080/",
          "height": 565
        },
        "id": "5Wbrc2uFsBvR",
        "outputId": "87a411fd-2efe-4eca-8dbc-74fb17a33a51"
      },
      "source": [
        "sea_df = clean_salaries[clean_salaries['location'] == 'Seattle, WA']\n",
        "sea_df.head()"
      ],
      "execution_count": null,
      "outputs": [
        {
          "output_type": "execute_result",
          "data": {
            "text/html": [
              "<div>\n",
              "<style scoped>\n",
              "    .dataframe tbody tr th:only-of-type {\n",
              "        vertical-align: middle;\n",
              "    }\n",
              "\n",
              "    .dataframe tbody tr th {\n",
              "        vertical-align: top;\n",
              "    }\n",
              "\n",
              "    .dataframe thead th {\n",
              "        text-align: right;\n",
              "    }\n",
              "</style>\n",
              "<table border=\"1\" class=\"dataframe\">\n",
              "  <thead>\n",
              "    <tr style=\"text-align: right;\">\n",
              "      <th></th>\n",
              "      <th>timestamp</th>\n",
              "      <th>company</th>\n",
              "      <th>level</th>\n",
              "      <th>title</th>\n",
              "      <th>totalyearlycompensation</th>\n",
              "      <th>location</th>\n",
              "      <th>yearsofexperience</th>\n",
              "      <th>yearsatcompany</th>\n",
              "      <th>tag</th>\n",
              "      <th>basesalary</th>\n",
              "      <th>stockgrantvalue</th>\n",
              "      <th>bonus</th>\n",
              "      <th>gender</th>\n",
              "      <th>otherdetails</th>\n",
              "      <th>cityid</th>\n",
              "      <th>dmaid</th>\n",
              "      <th>rowNumber</th>\n",
              "      <th>Masters_Degree</th>\n",
              "      <th>Bachelors_Degree</th>\n",
              "      <th>Doctorate_Degree</th>\n",
              "      <th>Highschool</th>\n",
              "      <th>Some_College</th>\n",
              "      <th>Race_Asian</th>\n",
              "      <th>Race_White</th>\n",
              "      <th>Race_Two_Or_More</th>\n",
              "      <th>Race_Black</th>\n",
              "      <th>Race_Hispanic</th>\n",
              "      <th>Race</th>\n",
              "      <th>Education</th>\n",
              "    </tr>\n",
              "  </thead>\n",
              "  <tbody>\n",
              "    <tr>\n",
              "      <th>23764</th>\n",
              "      <td>7/7/2020 13:59</td>\n",
              "      <td>Expedia</td>\n",
              "      <td>Data Scientist I</td>\n",
              "      <td>Data Scientist</td>\n",
              "      <td>131000</td>\n",
              "      <td>Seattle, WA</td>\n",
              "      <td>1.0</td>\n",
              "      <td>1.0</td>\n",
              "      <td>ML / AI</td>\n",
              "      <td>115000</td>\n",
              "      <td>3000.0</td>\n",
              "      <td>14000.0</td>\n",
              "      <td>Female</td>\n",
              "      <td>Remote, Race: Asian, Academic Level: Doctorate...</td>\n",
              "      <td>11527</td>\n",
              "      <td>819.0</td>\n",
              "      <td>32558</td>\n",
              "      <td>0</td>\n",
              "      <td>0</td>\n",
              "      <td>1</td>\n",
              "      <td>0</td>\n",
              "      <td>0</td>\n",
              "      <td>1</td>\n",
              "      <td>0</td>\n",
              "      <td>0</td>\n",
              "      <td>0</td>\n",
              "      <td>0</td>\n",
              "      <td>Asian</td>\n",
              "      <td>PhD</td>\n",
              "    </tr>\n",
              "    <tr>\n",
              "      <th>24628</th>\n",
              "      <td>7/21/2020 16:39</td>\n",
              "      <td>Amazon</td>\n",
              "      <td>L4</td>\n",
              "      <td>Data Scientist</td>\n",
              "      <td>165000</td>\n",
              "      <td>Seattle, WA</td>\n",
              "      <td>1.0</td>\n",
              "      <td>0.0</td>\n",
              "      <td>ML / AI</td>\n",
              "      <td>140000</td>\n",
              "      <td>10000.0</td>\n",
              "      <td>15000.0</td>\n",
              "      <td>Male</td>\n",
              "      <td>Race: White, Academic Level: Doctorate (PhD)</td>\n",
              "      <td>11527</td>\n",
              "      <td>819.0</td>\n",
              "      <td>33769</td>\n",
              "      <td>0</td>\n",
              "      <td>0</td>\n",
              "      <td>1</td>\n",
              "      <td>0</td>\n",
              "      <td>0</td>\n",
              "      <td>0</td>\n",
              "      <td>1</td>\n",
              "      <td>0</td>\n",
              "      <td>0</td>\n",
              "      <td>0</td>\n",
              "      <td>White</td>\n",
              "      <td>PhD</td>\n",
              "    </tr>\n",
              "    <tr>\n",
              "      <th>25602</th>\n",
              "      <td>8/3/2020 15:09</td>\n",
              "      <td>Boeing</td>\n",
              "      <td>L1</td>\n",
              "      <td>Data Scientist</td>\n",
              "      <td>85000</td>\n",
              "      <td>Seattle, WA</td>\n",
              "      <td>1.0</td>\n",
              "      <td>1.0</td>\n",
              "      <td>ML / AI</td>\n",
              "      <td>80000</td>\n",
              "      <td>0.0</td>\n",
              "      <td>0.0</td>\n",
              "      <td>Female</td>\n",
              "      <td>Race: Asian, Academic Level: Bachelor’s degree</td>\n",
              "      <td>11527</td>\n",
              "      <td>819.0</td>\n",
              "      <td>35162</td>\n",
              "      <td>0</td>\n",
              "      <td>1</td>\n",
              "      <td>0</td>\n",
              "      <td>0</td>\n",
              "      <td>0</td>\n",
              "      <td>1</td>\n",
              "      <td>0</td>\n",
              "      <td>0</td>\n",
              "      <td>0</td>\n",
              "      <td>0</td>\n",
              "      <td>Asian</td>\n",
              "      <td>Bachelor's Degree</td>\n",
              "    </tr>\n",
              "    <tr>\n",
              "      <th>27884</th>\n",
              "      <td>8/27/2020 11:08</td>\n",
              "      <td>Microsoft</td>\n",
              "      <td>64</td>\n",
              "      <td>Data Scientist</td>\n",
              "      <td>257000</td>\n",
              "      <td>Seattle, WA</td>\n",
              "      <td>15.0</td>\n",
              "      <td>9.0</td>\n",
              "      <td>ML / AI</td>\n",
              "      <td>187000</td>\n",
              "      <td>33000.0</td>\n",
              "      <td>37000.0</td>\n",
              "      <td>Male</td>\n",
              "      <td>Race: Asian, Academic Level: Bachelor’s degree</td>\n",
              "      <td>11527</td>\n",
              "      <td>819.0</td>\n",
              "      <td>38324</td>\n",
              "      <td>0</td>\n",
              "      <td>1</td>\n",
              "      <td>0</td>\n",
              "      <td>0</td>\n",
              "      <td>0</td>\n",
              "      <td>1</td>\n",
              "      <td>0</td>\n",
              "      <td>0</td>\n",
              "      <td>0</td>\n",
              "      <td>0</td>\n",
              "      <td>Asian</td>\n",
              "      <td>Bachelor's Degree</td>\n",
              "    </tr>\n",
              "    <tr>\n",
              "      <th>28283</th>\n",
              "      <td>8/31/2020 10:21</td>\n",
              "      <td>Hulu</td>\n",
              "      <td>IC4</td>\n",
              "      <td>Data Scientist</td>\n",
              "      <td>222000</td>\n",
              "      <td>Seattle, WA</td>\n",
              "      <td>10.0</td>\n",
              "      <td>2.0</td>\n",
              "      <td>Data</td>\n",
              "      <td>172000</td>\n",
              "      <td>0.0</td>\n",
              "      <td>50000.0</td>\n",
              "      <td>Male</td>\n",
              "      <td>Race: White, Academic Level: Doctorate (PhD)</td>\n",
              "      <td>11527</td>\n",
              "      <td>819.0</td>\n",
              "      <td>38882</td>\n",
              "      <td>0</td>\n",
              "      <td>0</td>\n",
              "      <td>1</td>\n",
              "      <td>0</td>\n",
              "      <td>0</td>\n",
              "      <td>0</td>\n",
              "      <td>1</td>\n",
              "      <td>0</td>\n",
              "      <td>0</td>\n",
              "      <td>0</td>\n",
              "      <td>White</td>\n",
              "      <td>PhD</td>\n",
              "    </tr>\n",
              "  </tbody>\n",
              "</table>\n",
              "</div>"
            ],
            "text/plain": [
              "             timestamp    company  ...   Race          Education\n",
              "23764   7/7/2020 13:59    Expedia  ...  Asian                PhD\n",
              "24628  7/21/2020 16:39     Amazon  ...  White                PhD\n",
              "25602   8/3/2020 15:09     Boeing  ...  Asian  Bachelor's Degree\n",
              "27884  8/27/2020 11:08  Microsoft  ...  Asian  Bachelor's Degree\n",
              "28283  8/31/2020 10:21       Hulu  ...  White                PhD\n",
              "\n",
              "[5 rows x 29 columns]"
            ]
          },
          "metadata": {},
          "execution_count": 50
        }
      ]
    },
    {
      "cell_type": "markdown",
      "metadata": {
        "id": "mMHdRiqhm3EJ"
      },
      "source": [
        "*Find salary of Data Scientists in Seattle, WA.*"
      ]
    },
    {
      "cell_type": "code",
      "metadata": {
        "colab": {
          "base_uri": "https://localhost:8080/"
        },
        "id": "gUT8g72F3FgR",
        "outputId": "d6a61fc5-1348-4d59-c0e8-d71fe0383bfb"
      },
      "source": [
        "salarysea_df = sea_df['totalyearlycompensation']\n",
        "salarysea_df"
      ],
      "execution_count": null,
      "outputs": [
        {
          "output_type": "execute_result",
          "data": {
            "text/plain": [
              "23764    131000\n",
              "24628    165000\n",
              "25602     85000\n",
              "27884    257000\n",
              "28283    222000\n",
              "          ...  \n",
              "60261    163000\n",
              "61123    153000\n",
              "61144    193000\n",
              "61174    223000\n",
              "61235    250000\n",
              "Name: totalyearlycompensation, Length: 86, dtype: int64"
            ]
          },
          "metadata": {},
          "execution_count": 51
        }
      ]
    },
    {
      "cell_type": "markdown",
      "metadata": {
        "id": "SVCirkVrm-ay"
      },
      "source": [
        "*Find statistical references for Data Scientists' in Seattle, WA.*"
      ]
    },
    {
      "cell_type": "code",
      "metadata": {
        "colab": {
          "base_uri": "https://localhost:8080/"
        },
        "id": "Om_Br9s63ftz",
        "outputId": "958e1a8b-24c6-49a0-b089-058b4358c304"
      },
      "source": [
        "salarysea_df.describe()"
      ],
      "execution_count": null,
      "outputs": [
        {
          "output_type": "execute_result",
          "data": {
            "text/plain": [
              "count        86.000000\n",
              "mean     231383.720930\n",
              "std       91733.138358\n",
              "min       85000.000000\n",
              "25%      175250.000000\n",
              "50%      214500.000000\n",
              "75%      255250.000000\n",
              "max      690000.000000\n",
              "Name: totalyearlycompensation, dtype: float64"
            ]
          },
          "metadata": {},
          "execution_count": 52
        }
      ]
    },
    {
      "cell_type": "markdown",
      "metadata": {
        "id": "kIYJPXOGnKO4"
      },
      "source": [
        "*Find value for Data Scientists salary who reside in Austin, TX.*"
      ]
    },
    {
      "cell_type": "code",
      "metadata": {
        "colab": {
          "base_uri": "https://localhost:8080/",
          "height": 548
        },
        "id": "F0mN1lIYDX1i",
        "outputId": "2d110fa7-70ac-4190-ef3d-e8183fe7782a"
      },
      "source": [
        "aus_df = clean_salaries[clean_salaries['location'] == 'Austin, TX']\n",
        "aus_df.head()"
      ],
      "execution_count": null,
      "outputs": [
        {
          "output_type": "execute_result",
          "data": {
            "text/html": [
              "<div>\n",
              "<style scoped>\n",
              "    .dataframe tbody tr th:only-of-type {\n",
              "        vertical-align: middle;\n",
              "    }\n",
              "\n",
              "    .dataframe tbody tr th {\n",
              "        vertical-align: top;\n",
              "    }\n",
              "\n",
              "    .dataframe thead th {\n",
              "        text-align: right;\n",
              "    }\n",
              "</style>\n",
              "<table border=\"1\" class=\"dataframe\">\n",
              "  <thead>\n",
              "    <tr style=\"text-align: right;\">\n",
              "      <th></th>\n",
              "      <th>timestamp</th>\n",
              "      <th>company</th>\n",
              "      <th>level</th>\n",
              "      <th>title</th>\n",
              "      <th>totalyearlycompensation</th>\n",
              "      <th>location</th>\n",
              "      <th>yearsofexperience</th>\n",
              "      <th>yearsatcompany</th>\n",
              "      <th>tag</th>\n",
              "      <th>basesalary</th>\n",
              "      <th>stockgrantvalue</th>\n",
              "      <th>bonus</th>\n",
              "      <th>gender</th>\n",
              "      <th>otherdetails</th>\n",
              "      <th>cityid</th>\n",
              "      <th>dmaid</th>\n",
              "      <th>rowNumber</th>\n",
              "      <th>Masters_Degree</th>\n",
              "      <th>Bachelors_Degree</th>\n",
              "      <th>Doctorate_Degree</th>\n",
              "      <th>Highschool</th>\n",
              "      <th>Some_College</th>\n",
              "      <th>Race_Asian</th>\n",
              "      <th>Race_White</th>\n",
              "      <th>Race_Two_Or_More</th>\n",
              "      <th>Race_Black</th>\n",
              "      <th>Race_Hispanic</th>\n",
              "      <th>Race</th>\n",
              "      <th>Education</th>\n",
              "    </tr>\n",
              "  </thead>\n",
              "  <tbody>\n",
              "    <tr>\n",
              "      <th>24547</th>\n",
              "      <td>7/20/2020 15:52</td>\n",
              "      <td>Google</td>\n",
              "      <td>L6</td>\n",
              "      <td>Data Scientist</td>\n",
              "      <td>289000</td>\n",
              "      <td>Austin, TX</td>\n",
              "      <td>15.0</td>\n",
              "      <td>3.0</td>\n",
              "      <td>ML / AI</td>\n",
              "      <td>172000</td>\n",
              "      <td>80000.0</td>\n",
              "      <td>40000.0</td>\n",
              "      <td>Male</td>\n",
              "      <td>Race: White, Academic Level: Doctorate (PhD)</td>\n",
              "      <td>10965</td>\n",
              "      <td>635.0</td>\n",
              "      <td>33652</td>\n",
              "      <td>0</td>\n",
              "      <td>0</td>\n",
              "      <td>1</td>\n",
              "      <td>0</td>\n",
              "      <td>0</td>\n",
              "      <td>0</td>\n",
              "      <td>1</td>\n",
              "      <td>0</td>\n",
              "      <td>0</td>\n",
              "      <td>0</td>\n",
              "      <td>White</td>\n",
              "      <td>PhD</td>\n",
              "    </tr>\n",
              "    <tr>\n",
              "      <th>29609</th>\n",
              "      <td>9/11/2020 10:48</td>\n",
              "      <td>Facebook</td>\n",
              "      <td>IC4</td>\n",
              "      <td>Data Scientist</td>\n",
              "      <td>170000</td>\n",
              "      <td>Austin, TX</td>\n",
              "      <td>3.0</td>\n",
              "      <td>1.0</td>\n",
              "      <td>Data</td>\n",
              "      <td>133000</td>\n",
              "      <td>25000.0</td>\n",
              "      <td>13000.0</td>\n",
              "      <td>Male</td>\n",
              "      <td>Race: White, Academic Level: Master’s degree</td>\n",
              "      <td>10965</td>\n",
              "      <td>635.0</td>\n",
              "      <td>40717</td>\n",
              "      <td>1</td>\n",
              "      <td>0</td>\n",
              "      <td>0</td>\n",
              "      <td>0</td>\n",
              "      <td>0</td>\n",
              "      <td>0</td>\n",
              "      <td>1</td>\n",
              "      <td>0</td>\n",
              "      <td>0</td>\n",
              "      <td>0</td>\n",
              "      <td>White</td>\n",
              "      <td>Master's Degree</td>\n",
              "    </tr>\n",
              "    <tr>\n",
              "      <th>29775</th>\n",
              "      <td>9/13/2020 11:09</td>\n",
              "      <td>Indeed</td>\n",
              "      <td>L2</td>\n",
              "      <td>Data Scientist</td>\n",
              "      <td>138000</td>\n",
              "      <td>Austin, TX</td>\n",
              "      <td>4.0</td>\n",
              "      <td>4.0</td>\n",
              "      <td>Data</td>\n",
              "      <td>121000</td>\n",
              "      <td>0.0</td>\n",
              "      <td>17000.0</td>\n",
              "      <td>Male</td>\n",
              "      <td>Race: White, Academic Level: Master’s degree</td>\n",
              "      <td>10965</td>\n",
              "      <td>635.0</td>\n",
              "      <td>40947</td>\n",
              "      <td>1</td>\n",
              "      <td>0</td>\n",
              "      <td>0</td>\n",
              "      <td>0</td>\n",
              "      <td>0</td>\n",
              "      <td>0</td>\n",
              "      <td>1</td>\n",
              "      <td>0</td>\n",
              "      <td>0</td>\n",
              "      <td>0</td>\n",
              "      <td>White</td>\n",
              "      <td>Master's Degree</td>\n",
              "    </tr>\n",
              "    <tr>\n",
              "      <th>33399</th>\n",
              "      <td>10/21/2020 15:19</td>\n",
              "      <td>Dell Technologies</td>\n",
              "      <td>Senior Principal Engineer</td>\n",
              "      <td>Data Scientist</td>\n",
              "      <td>173000</td>\n",
              "      <td>Austin, TX</td>\n",
              "      <td>12.0</td>\n",
              "      <td>4.0</td>\n",
              "      <td>Data</td>\n",
              "      <td>150000</td>\n",
              "      <td>0.0</td>\n",
              "      <td>23000.0</td>\n",
              "      <td>Male</td>\n",
              "      <td>Title: Sr. Principal Enginner, Race: Asian, Ac...</td>\n",
              "      <td>10965</td>\n",
              "      <td>635.0</td>\n",
              "      <td>46031</td>\n",
              "      <td>1</td>\n",
              "      <td>0</td>\n",
              "      <td>0</td>\n",
              "      <td>0</td>\n",
              "      <td>0</td>\n",
              "      <td>1</td>\n",
              "      <td>0</td>\n",
              "      <td>0</td>\n",
              "      <td>0</td>\n",
              "      <td>0</td>\n",
              "      <td>Asian</td>\n",
              "      <td>Master's Degree</td>\n",
              "    </tr>\n",
              "    <tr>\n",
              "      <th>36922</th>\n",
              "      <td>12/9/2020 18:54</td>\n",
              "      <td>Apple</td>\n",
              "      <td>ICT3</td>\n",
              "      <td>Data Scientist</td>\n",
              "      <td>150000</td>\n",
              "      <td>Austin, TX</td>\n",
              "      <td>5.0</td>\n",
              "      <td>0.0</td>\n",
              "      <td>Apple Support</td>\n",
              "      <td>120000</td>\n",
              "      <td>25000.0</td>\n",
              "      <td>0.0</td>\n",
              "      <td>Female</td>\n",
              "      <td>Title: Data Scientist, Race: White, Academic L...</td>\n",
              "      <td>10965</td>\n",
              "      <td>635.0</td>\n",
              "      <td>50785</td>\n",
              "      <td>0</td>\n",
              "      <td>1</td>\n",
              "      <td>0</td>\n",
              "      <td>0</td>\n",
              "      <td>0</td>\n",
              "      <td>0</td>\n",
              "      <td>1</td>\n",
              "      <td>0</td>\n",
              "      <td>0</td>\n",
              "      <td>0</td>\n",
              "      <td>White</td>\n",
              "      <td>Bachelor's Degree</td>\n",
              "    </tr>\n",
              "  </tbody>\n",
              "</table>\n",
              "</div>"
            ],
            "text/plain": [
              "              timestamp            company  ...   Race          Education\n",
              "24547   7/20/2020 15:52             Google  ...  White                PhD\n",
              "29609   9/11/2020 10:48           Facebook  ...  White    Master's Degree\n",
              "29775   9/13/2020 11:09             Indeed  ...  White    Master's Degree\n",
              "33399  10/21/2020 15:19  Dell Technologies  ...  Asian    Master's Degree\n",
              "36922   12/9/2020 18:54              Apple  ...  White  Bachelor's Degree\n",
              "\n",
              "[5 rows x 29 columns]"
            ]
          },
          "metadata": {},
          "execution_count": 53
        }
      ]
    },
    {
      "cell_type": "markdown",
      "metadata": {
        "id": "QOs4OZ_unQTY"
      },
      "source": [
        "*Find salary of Data Scientists in Austin, TX.*"
      ]
    },
    {
      "cell_type": "code",
      "metadata": {
        "colab": {
          "base_uri": "https://localhost:8080/"
        },
        "id": "I5WDJF713tXR",
        "outputId": "d35b5955-0732-4650-9d31-42a9528ca318"
      },
      "source": [
        "salaryaus_df = aus_df['totalyearlycompensation']\n",
        "salaryaus_df"
      ],
      "execution_count": null,
      "outputs": [
        {
          "output_type": "execute_result",
          "data": {
            "text/plain": [
              "24547    289000\n",
              "29609    170000\n",
              "29775    138000\n",
              "33399    173000\n",
              "36922    150000\n",
              "39739    263000\n",
              "40844    140000\n",
              "43900    257000\n",
              "44519    142000\n",
              "45212    115000\n",
              "46712    142000\n",
              "46721    210000\n",
              "50637    134000\n",
              "52373    215000\n",
              "54944    200000\n",
              "55713    228000\n",
              "57768    223000\n",
              "58426    115000\n",
              "Name: totalyearlycompensation, dtype: int64"
            ]
          },
          "metadata": {},
          "execution_count": 54
        }
      ]
    },
    {
      "cell_type": "markdown",
      "metadata": {
        "id": "TxbL3-ChnVrb"
      },
      "source": [
        "*Find statistical references for Data Scientists' salaries in Austin, TX.*"
      ]
    },
    {
      "cell_type": "code",
      "metadata": {
        "colab": {
          "base_uri": "https://localhost:8080/"
        },
        "id": "480Z7YZj4FOp",
        "outputId": "5d7e44c2-7b2d-4333-cbb2-b64a47f43d4f"
      },
      "source": [
        "salaryaus_df.describe()"
      ],
      "execution_count": null,
      "outputs": [
        {
          "output_type": "execute_result",
          "data": {
            "text/plain": [
              "count        18.000000\n",
              "mean     183555.555556\n",
              "std       53696.557259\n",
              "min      115000.000000\n",
              "25%      140500.000000\n",
              "50%      171500.000000\n",
              "75%      221000.000000\n",
              "max      289000.000000\n",
              "Name: totalyearlycompensation, dtype: float64"
            ]
          },
          "metadata": {},
          "execution_count": 55
        }
      ]
    },
    {
      "cell_type": "markdown",
      "metadata": {
        "id": "jhmulnhQXic_"
      },
      "source": [
        "*Combine Data Sets for Data Scientists from Seattle, WA and Austin, TX*"
      ]
    },
    {
      "cell_type": "code",
      "metadata": {
        "colab": {
          "base_uri": "https://localhost:8080/"
        },
        "id": "chSvSvTlXtgN",
        "outputId": "f69c2c34-4ffd-4486-8aff-9fcbfbb685f7"
      },
      "source": [
        "d1 = sea_df\n",
        "d2 = aus_df\n",
        "\n",
        "df1 = pd.DataFrame(d1, columns=['gender','title','totalyearlycompensation','location'])\n",
        "df2 = pd.DataFrame(d2, columns=['gender','title','totalyearlycompensation','location'])\n",
        "\n",
        "sa_df = pd.concat([df1,df2])\n",
        "print(sa_df)"
      ],
      "execution_count": null,
      "outputs": [
        {
          "output_type": "stream",
          "name": "stdout",
          "text": [
            "       gender           title  totalyearlycompensation     location\n",
            "23764  Female  Data Scientist                   131000  Seattle, WA\n",
            "24628    Male  Data Scientist                   165000  Seattle, WA\n",
            "25602  Female  Data Scientist                    85000  Seattle, WA\n",
            "27884    Male  Data Scientist                   257000  Seattle, WA\n",
            "28283    Male  Data Scientist                   222000  Seattle, WA\n",
            "...       ...             ...                      ...          ...\n",
            "52373  Female  Data Scientist                   215000   Austin, TX\n",
            "54944    Male  Data Scientist                   200000   Austin, TX\n",
            "55713  Female  Data Scientist                   228000   Austin, TX\n",
            "57768    Male  Data Scientist                   223000   Austin, TX\n",
            "58426    Male  Data Scientist                   115000   Austin, TX\n",
            "\n",
            "[104 rows x 4 columns]\n"
          ]
        }
      ]
    },
    {
      "cell_type": "markdown",
      "metadata": {
        "id": "8FLnwYjKnckj"
      },
      "source": [
        "________________________________________________________________________________"
      ]
    },
    {
      "cell_type": "markdown",
      "metadata": {
        "id": "16ln3PpB5R1i"
      },
      "source": [
        "# **Statistical Calculations**"
      ]
    },
    {
      "cell_type": "markdown",
      "metadata": {
        "id": "M_y1oVOZqKRk"
      },
      "source": [
        "In this section I will perform statisical calculations that will support my hypotheses."
      ]
    },
    {
      "cell_type": "markdown",
      "metadata": {
        "id": "Kr3iVNcn5U7W"
      },
      "source": [
        "*Define the stats for each section*"
      ]
    },
    {
      "cell_type": "code",
      "metadata": {
        "id": "8Lgz18W0R7AF"
      },
      "source": [
        "def series_statistics(column):\n",
        "  print('statistics for column: {}'.format(column.name))\n",
        "  print('The max value in the column: {}'.format(column.max()))\n",
        "  print('The min value in the column: {}'.format(column.min()))\n",
        "  print('The mode value in the column: {}'.format(column.mode()))\n",
        "  print('The median value in the column: {}'.format(column.median()))\n",
        "  print('The mean of the column: {}'.format(column.mean()))\n",
        "  print('The std of the column: {}'.format(column.std()))"
      ],
      "execution_count": null,
      "outputs": []
    },
    {
      "cell_type": "markdown",
      "metadata": {
        "id": "OSNMF-cI4_tU"
      },
      "source": [
        "*Obtain statistical values for total yearly compensationf for Data Scientist data set.*"
      ]
    },
    {
      "cell_type": "code",
      "metadata": {
        "colab": {
          "base_uri": "https://localhost:8080/"
        },
        "id": "qWFODvJCSEll",
        "outputId": "1bdfb226-cab2-40ef-9271-f33654c544ae"
      },
      "source": [
        "series_statistics(clean_salaries['totalyearlycompensation'])"
      ],
      "execution_count": null,
      "outputs": [
        {
          "output_type": "stream",
          "name": "stdout",
          "text": [
            "statistics for column: totalyearlycompensation\n",
            "The max value in the column: 740000\n",
            "The min value in the column: 10000\n",
            "The mode value in the column: 0    150000\n",
            "dtype: int64\n",
            "The median value in the column: 175000.0\n",
            "The mean of the column: 193790.37800687287\n",
            "The std of the column: 109406.63901064068\n"
          ]
        }
      ]
    },
    {
      "cell_type": "markdown",
      "metadata": {
        "id": "-PjxcVrW7kCQ"
      },
      "source": [
        "**Hypothesis One**: There isn’t a significant difference in mean salary of data scientists who work at Google versus Microsoft."
      ]
    },
    {
      "cell_type": "markdown",
      "metadata": {
        "id": "5prgPnQmrDKm"
      },
      "source": [
        "*Obtain statistical values for total yearly compensation for Data Scientist data set for Google and Microsoft companies.*"
      ]
    },
    {
      "cell_type": "code",
      "metadata": {
        "colab": {
          "base_uri": "https://localhost:8080/"
        },
        "id": "xtjdbgmYT586",
        "outputId": "6a82c219-ddbf-48b9-ea7f-79cede8e3be3"
      },
      "source": [
        "series_statistics(dsgoogle_df['totalyearlycompensation'])"
      ],
      "execution_count": null,
      "outputs": [
        {
          "output_type": "stream",
          "name": "stdout",
          "text": [
            "statistics for column: totalyearlycompensation\n",
            "The max value in the column: 500000\n",
            "The min value in the column: 170000\n",
            "The mode value in the column: 0    345000\n",
            "dtype: int64\n",
            "The median value in the column: 265000.0\n",
            "The mean of the column: 272178.5714285714\n",
            "The std of the column: 76876.0684100058\n"
          ]
        }
      ]
    },
    {
      "cell_type": "code",
      "metadata": {
        "colab": {
          "base_uri": "https://localhost:8080/"
        },
        "id": "Od0Uqb5f7nFK",
        "outputId": "37bbbf46-fe28-4b7f-d52a-84b57a3110bc"
      },
      "source": [
        "series_statistics(dsmicrosoft_df['totalyearlycompensation'])"
      ],
      "execution_count": null,
      "outputs": [
        {
          "output_type": "stream",
          "name": "stdout",
          "text": [
            "statistics for column: totalyearlycompensation\n",
            "The max value in the column: 510000\n",
            "The min value in the column: 69000\n",
            "The mode value in the column: 0    182000\n",
            "1    194000\n",
            "2    209000\n",
            "dtype: int64\n",
            "The median value in the column: 194000.0\n",
            "The mean of the column: 210280.0\n",
            "The std of the column: 75394.212953905\n"
          ]
        }
      ]
    },
    {
      "cell_type": "markdown",
      "metadata": {
        "id": "1nqjVS3R98Io"
      },
      "source": [
        "**Hypothesis One**: Histograms"
      ]
    },
    {
      "cell_type": "markdown",
      "metadata": {
        "id": "hbb6nfBZstFX"
      },
      "source": [
        "*Import Seaborn to plot charts in python and suppress warnings*"
      ]
    },
    {
      "cell_type": "code",
      "metadata": {
        "id": "_XZqU9GeP3NI"
      },
      "source": [
        "import pandas as pd\n",
        "import seaborn as sns \n",
        "sns.set()\n",
        "\n",
        "import warnings\n",
        "warnings.filterwarnings(\"ignore\")"
      ],
      "execution_count": null,
      "outputs": []
    },
    {
      "cell_type": "markdown",
      "metadata": {
        "id": "XTKlnI-OrOxl"
      },
      "source": [
        "*Plot a histogram for Google Data Scientists salaries.*"
      ]
    },
    {
      "cell_type": "code",
      "metadata": {
        "colab": {
          "base_uri": "https://localhost:8080/",
          "height": 285
        },
        "id": "cfmM-xo6QRAs",
        "outputId": "18ff80ff-20f7-419e-c7c2-a8a027092f7a"
      },
      "source": [
        "ax = sns.histplot(dsgoogle_df['totalyearlycompensation'])"
      ],
      "execution_count": null,
      "outputs": [
        {
          "output_type": "display_data",
          "data": {
            "image/png": "[encoded data removed]",
            "text/plain": [
              "<Figure size 432x288 with 1 Axes>"
            ]
          },
          "metadata": {}
        }
      ]
    },
    {
      "cell_type": "markdown",
      "metadata": {
        "id": "eHKaCVZ6p5DM"
      },
      "source": [
        "**Results Explanation**"
      ]
    },
    {
      "cell_type": "markdown",
      "metadata": {
        "id": "KghTQcD4qE8_"
      },
      "source": [
        "This histogram analysis of Data Scientists salaries at Google presents that there is a salary range from 170,000 dollars to 500,000 dollars; with the scale leaning towards more Data Scientists at Google that fall within the 170,000 dollars to 350,000 salary range."
      ]
    },
    {
      "cell_type": "markdown",
      "metadata": {
        "id": "T-94RdxStF4T"
      },
      "source": [
        "*Plot a histogram for Microsoft Data Scientists salaries.*"
      ]
    },
    {
      "cell_type": "code",
      "metadata": {
        "colab": {
          "base_uri": "https://localhost:8080/",
          "height": 285
        },
        "id": "mpstqsCNQmuu",
        "outputId": "db61a5f4-fdd9-4b3d-eec1-e3c1c6e907b4"
      },
      "source": [
        "ax = sns.histplot(dsmicrosoft_df['totalyearlycompensation'])"
      ],
      "execution_count": null,
      "outputs": [
        {
          "output_type": "display_data",
          "data": {
            "image/png": "[encoded data removed]",
            "text/plain": [
              "<Figure size 432x288 with 1 Axes>"
            ]
          },
          "metadata": {}
        }
      ]
    },
    {
      "cell_type": "markdown",
      "metadata": {
        "id": "KR81-4pPpwLl"
      },
      "source": [
        "**Results Explanation**"
      ]
    },
    {
      "cell_type": "markdown",
      "metadata": {
        "id": "4lmUQTRrp00n"
      },
      "source": [
        "This histogram analysis of Data Scientists salaries at Microsoft presents that there is a salary range from 69,000 dollars to 510,000 dollars; with the scale leaning towards more Data Scientists at Microsoft that fall within the 150,000 dollars to a little less than 300,000 salary range."
      ]
    },
    {
      "cell_type": "markdown",
      "metadata": {
        "id": "Jc36lIFejB6R"
      },
      "source": [
        "**Hypothesis One**: Boxplots"
      ]
    },
    {
      "cell_type": "markdown",
      "metadata": {
        "id": "yFqQD3DajFkq"
      },
      "source": [
        "*Plot a boxplot for Google's Data Scientists Salaries*"
      ]
    },
    {
      "cell_type": "code",
      "metadata": {
        "colab": {
          "base_uri": "https://localhost:8080/",
          "height": 302
        },
        "id": "pisI6BjJjHxG",
        "outputId": "1e89ffac-aa00-48a0-8523-2a3c412ca2f5"
      },
      "source": [
        "sns.boxplot(y=\"totalyearlycompensation\", x='company', data=dsgoogle_df)"
      ],
      "execution_count": null,
      "outputs": [
        {
          "output_type": "execute_result",
          "data": {
            "text/plain": [
              "<matplotlib.axes._subplots.AxesSubplot at 0x7f1e86fa8490>"
            ]
          },
          "metadata": {},
          "execution_count": 95
        },
        {
          "output_type": "display_data",
          "data": {
            "image/png": "[encoded data removed]",
            "text/plain": [
              "<Figure size 432x288 with 1 Axes>"
            ]
          },
          "metadata": {}
        }
      ]
    },
    {
      "cell_type": "markdown",
      "metadata": {
        "id": "LO_hc1REpoOE"
      },
      "source": [
        "**Results Explanation**"
      ]
    },
    {
      "cell_type": "markdown",
      "metadata": {
        "id": "hQIE97UkpraE"
      },
      "source": [
        "This boxplot of Data Scientists salaries at Google shows that 50% of salaries fall within 210,000 and 300,000 dollars. With a median salary of 265,000 dollars. Minimum salaries starting at 170,000, maximum salary range of 350,000, and two outliers of around 450,000 and 500,000 salaries."
      ]
    },
    {
      "cell_type": "markdown",
      "metadata": {
        "id": "2AIFiTo6jQWM"
      },
      "source": [
        "*Plot a boxplot for Microsoft's Data Scientist Salaries*"
      ]
    },
    {
      "cell_type": "code",
      "metadata": {
        "colab": {
          "base_uri": "https://localhost:8080/",
          "height": 302
        },
        "id": "U3zshovEjSqi",
        "outputId": "a7f2bb2d-e865-457c-d8dc-f4b7807b0854"
      },
      "source": [
        "sns.boxplot(y=\"totalyearlycompensation\", x='company', data=dsmicrosoft_df)"
      ],
      "execution_count": null,
      "outputs": [
        {
          "output_type": "execute_result",
          "data": {
            "text/plain": [
              "<matplotlib.axes._subplots.AxesSubplot at 0x7f1e87011910>"
            ]
          },
          "metadata": {},
          "execution_count": 94
        },
        {
          "output_type": "display_data",
          "data": {
            "image/png": "[encoded data removed]",
            "text/plain": [
              "<Figure size 432x288 with 1 Axes>"
            ]
          },
          "metadata": {}
        }
      ]
    },
    {
      "cell_type": "markdown",
      "metadata": {
        "id": "-3SsgeXjpe88"
      },
      "source": [
        "**Results Explanation**"
      ]
    },
    {
      "cell_type": "markdown",
      "metadata": {
        "id": "UDwLGJbhpiWL"
      },
      "source": [
        "This boxplot of Data Scientists salaries at Microsoft shows that 50% of salaries fall within 170,000 and 220,000 dollars. With a median salary of 194,000 dollars. Minimum salaries starting at 69,000, maximum salary range of around 290,000, and four outliers of around 340,000 and 350,000, 400,000 and 510,000 salaries."
      ]
    },
    {
      "cell_type": "markdown",
      "metadata": {
        "id": "a-vF-761jXrj"
      },
      "source": [
        "*Comparison of Google and Microsoft Data Scientist Salaries*"
      ]
    },
    {
      "cell_type": "code",
      "metadata": {
        "colab": {
          "base_uri": "https://localhost:8080/",
          "height": 302
        },
        "id": "nlNzp5Y8jQCJ",
        "outputId": "a819f8dc-9162-4b88-ac87-d19e0384b7d1"
      },
      "source": [
        "sns.boxplot(y=\"totalyearlycompensation\", x=\"company\", data=gm_df)"
      ],
      "execution_count": null,
      "outputs": [
        {
          "output_type": "execute_result",
          "data": {
            "text/plain": [
              "<matplotlib.axes._subplots.AxesSubplot at 0x7f1e870cfa90>"
            ]
          },
          "metadata": {},
          "execution_count": 65
        },
        {
          "output_type": "display_data",
          "data": {
            "image/png": "[encoded data removed]",
            "text/plain": [
              "<Figure size 432x288 with 1 Axes>"
            ]
          },
          "metadata": {}
        }
      ]
    },
    {
      "cell_type": "markdown",
      "metadata": {
        "id": "EzNqiIeVpZnn"
      },
      "source": [
        "**Results Explanation**"
      ]
    },
    {
      "cell_type": "markdown",
      "metadata": {
        "id": "0MF5Yk8Zpc3k"
      },
      "source": [
        "The boxplot comparison of Data Scientists salaries at Google vs Micrsoft show how Google has higher starting and midrange salaries. However, Data Scientists at Google have a couple outlier salaries above the 450,000 range. Whereas Microsoft presents a lower minimim and midrange salary but has many outlier salaries that fall above 300,000 dollars."
      ]
    },
    {
      "cell_type": "markdown",
      "metadata": {
        "id": "bvhHSIi_p9qv"
      },
      "source": [
        "**Hypothesis One**: Independent T-Test"
      ]
    },
    {
      "cell_type": "markdown",
      "metadata": {
        "id": "2mDhHlsXrvv3"
      },
      "source": [
        "*Import ttest_ind from scipy.stats*"
      ]
    },
    {
      "cell_type": "code",
      "metadata": {
        "id": "2aCTZS1Yp1Ua"
      },
      "source": [
        "from scipy.stats import ttest_ind"
      ],
      "execution_count": null,
      "outputs": []
    },
    {
      "cell_type": "markdown",
      "metadata": {
        "id": "KkzAWW1Dr5Hi"
      },
      "source": [
        "*Perform Independent ttest for Hypothesis One.*"
      ]
    },
    {
      "cell_type": "code",
      "metadata": {
        "colab": {
          "base_uri": "https://localhost:8080/"
        },
        "id": "pqsEcLf1pxH7",
        "outputId": "0dac178f-ce17-40bd-db55-8618ed30969a"
      },
      "source": [
        "stats.ttest_ind(dsgoogle_df['totalyearlycompensation'],dsmicrosoft_df['totalyearlycompensation'])"
      ],
      "execution_count": null,
      "outputs": [
        {
          "output_type": "execute_result",
          "data": {
            "text/plain": [
              "Ttest_indResult(statistic=3.453968802590388, pvalue=0.0009064496948144533)"
            ]
          },
          "metadata": {},
          "execution_count": 69
        }
      ]
    },
    {
      "cell_type": "markdown",
      "metadata": {
        "id": "EyI8Ul_osDXD"
      },
      "source": [
        "**Results Explanation**"
      ]
    },
    {
      "cell_type": "markdown",
      "metadata": {
        "id": "XQnOWRkXqLYD"
      },
      "source": [
        "*Since there is a p-value of 0.000906, which is smaller than the alpha 0.05; we can conclude that there is a significant difference is salaries between Data Scientists who work and Google versus Microsoft.\n",
        "We would reject the NULL Hypothesis.*"
      ]
    },
    {
      "cell_type": "markdown",
      "metadata": {
        "id": "q52Us9W4oYd4"
      },
      "source": [
        "**Hypothesis One**: Confidence Interval"
      ]
    },
    {
      "cell_type": "markdown",
      "metadata": {
        "id": "OM4tle60o3tl"
      },
      "source": [
        "*Calculate the sample size, mean, and variance of each sample.*"
      ]
    },
    {
      "cell_type": "code",
      "metadata": {
        "id": "Whxz047QobmV"
      },
      "source": [
        "sample_1_n = dsgoogle_df.shape[0]\n",
        "sample_2_n = dsmicrosoft_df.shape[0]\n",
        "sample_1_mean = dsgoogle_df['totalyearlycompensation'].mean()\n",
        "sample_2_mean = dsmicrosoft_df['totalyearlycompensation'].mean()\n",
        "sample_1_var = dsgoogle_df['totalyearlycompensation'].var()\n",
        "sample_2_var = dsmicrosoft_df['totalyearlycompensation'].var()"
      ],
      "execution_count": null,
      "outputs": []
    },
    {
      "cell_type": "markdown",
      "metadata": {
        "id": "c-yjec1mpKK-"
      },
      "source": [
        "*Calculate the standard error and compute the confidence intervals.*"
      ]
    },
    {
      "cell_type": "code",
      "metadata": {
        "colab": {
          "base_uri": "https://localhost:8080/"
        },
        "id": "QsG5fUWqpIxr",
        "outputId": "b09382e1-ea5a-4879-d6dd-f9ea23d2bb83"
      },
      "source": [
        "import math\n",
        "std_err_difference = math.sqrt((sample_1_var/sample_1_n)+(sample_2_var/sample_2_n))\n",
        "\n",
        "mean_difference = sample_2_mean - sample_1_mean\n",
        "\n",
        "margin_of_error = 1.96 * std_err_difference\n",
        "ci_lower = mean_difference - margin_of_error\n",
        "ci_upper = mean_difference + margin_of_error\n",
        "\n",
        "print(\"The difference in means at the 95% confidence interval is between \"+str(ci_lower)+\" and \"+str(ci_upper)+\".\")"
      ],
      "execution_count": null,
      "outputs": [
        {
          "output_type": "stream",
          "name": "stdout",
          "text": [
            "The difference in means at the 95% confidence interval is between -97219.63521381834 and -26577.507643324505.\n"
          ]
        }
      ]
    },
    {
      "cell_type": "markdown",
      "metadata": {
        "id": "wp3LFLtamSHL"
      },
      "source": [
        "*The difference between mean salaries for Data Scientists at Google versus Microsoft is likely between 26,577.51 dollars and 97,219.64 dollars.*"
      ]
    },
    {
      "cell_type": "markdown",
      "metadata": {
        "id": "SMwt-AI1seKS"
      },
      "source": [
        "________________________________________________________________________________"
      ]
    },
    {
      "cell_type": "markdown",
      "metadata": {
        "id": "gz9pfpgF7xXz"
      },
      "source": [
        "**Hypothesis Two** : There isn’t a significant difference in mean salary among males data scientists versus female data scientists in San Francisco, CA."
      ]
    },
    {
      "cell_type": "markdown",
      "metadata": {
        "id": "sPqtS7lhsinw"
      },
      "source": [
        "*Obtain statistical values for total yearly compensation for male and female Data Scientist in San Francisco, CA.*"
      ]
    },
    {
      "cell_type": "code",
      "metadata": {
        "colab": {
          "base_uri": "https://localhost:8080/"
        },
        "id": "3DJIWYHA8JLc",
        "outputId": "4010d133-dc59-4876-8139-e58cf8dc6d56"
      },
      "source": [
        "series_statistics(malesf_df['totalyearlycompensation'])"
      ],
      "execution_count": null,
      "outputs": [
        {
          "output_type": "stream",
          "name": "stdout",
          "text": [
            "statistics for column: totalyearlycompensation\n",
            "The max value in the column: 650000\n",
            "The min value in the column: 104000\n",
            "The mode value in the column: 0    200000\n",
            "dtype: int64\n",
            "The median value in the column: 250000.0\n",
            "The mean of the column: 277311.6883116883\n",
            "The std of the column: 113206.99017615333\n"
          ]
        }
      ]
    },
    {
      "cell_type": "code",
      "metadata": {
        "colab": {
          "base_uri": "https://localhost:8080/"
        },
        "id": "RAYARuWx8ZEf",
        "outputId": "672c8d95-3c79-4be3-8fa7-605ef0e7a0c8"
      },
      "source": [
        "series_statistics(femalesf_df['totalyearlycompensation'])"
      ],
      "execution_count": null,
      "outputs": [
        {
          "output_type": "stream",
          "name": "stdout",
          "text": [
            "statistics for column: totalyearlycompensation\n",
            "The max value in the column: 520000\n",
            "The min value in the column: 106000\n",
            "The mode value in the column: 0    185000\n",
            "1    210000\n",
            "2    305000\n",
            "dtype: int64\n",
            "The median value in the column: 210000.0\n",
            "The mean of the column: 221928.57142857142\n",
            "The std of the column: 91935.13356203266\n"
          ]
        }
      ]
    },
    {
      "cell_type": "markdown",
      "metadata": {
        "id": "62k0gXojR4cA"
      },
      "source": [
        "**Hypothesis Two**: Histograms"
      ]
    },
    {
      "cell_type": "markdown",
      "metadata": {
        "id": "j--5DLDDtVTf"
      },
      "source": [
        "*Plot a histogram for Male Data Scientists salaries in San Francisco, CA.*"
      ]
    },
    {
      "cell_type": "code",
      "metadata": {
        "colab": {
          "base_uri": "https://localhost:8080/",
          "height": 285
        },
        "id": "LXVRNyhYSB4Y",
        "outputId": "026b2efd-521b-432d-868f-b8791c503c32"
      },
      "source": [
        "ax = sns.histplot(malesf_df['totalyearlycompensation'])"
      ],
      "execution_count": null,
      "outputs": [
        {
          "output_type": "display_data",
          "data": {
            "image/png": "[encoded data removed]",
            "text/plain": [
              "<Figure size 432x288 with 1 Axes>"
            ]
          },
          "metadata": {}
        }
      ]
    },
    {
      "cell_type": "markdown",
      "metadata": {
        "id": "B4S7VEJopOr0"
      },
      "source": [
        "**Results Explanation**"
      ]
    },
    {
      "cell_type": "markdown",
      "metadata": {
        "id": "F6Ono28GpUCP"
      },
      "source": [
        "This histogram analysis of Male Data Scientists salaries located in San Francisco, CA presents that there is a salary range from 104,000 dollars to 650,000 dollars; with the scale leaning towards more Male Data Scientists located in San Francisco, CA that fall within the 200,000 dollars to 380,000 salary range."
      ]
    },
    {
      "cell_type": "markdown",
      "metadata": {
        "id": "zfH2qeVAtgJE"
      },
      "source": [
        "*Plot a histogram for Female Data Scientists salaries in San Francisco, CA.*"
      ]
    },
    {
      "cell_type": "code",
      "metadata": {
        "colab": {
          "base_uri": "https://localhost:8080/",
          "height": 285
        },
        "id": "4b1w-awhSOUv",
        "outputId": "58ce0fbf-d26f-46fe-942d-a714917d7c0c"
      },
      "source": [
        "ax = sns.histplot(femalesf_df['totalyearlycompensation'])"
      ],
      "execution_count": null,
      "outputs": [
        {
          "output_type": "display_data",
          "data": {
            "image/png": "[encoded data removed]",
            "text/plain": [
              "<Figure size 432x288 with 1 Axes>"
            ]
          },
          "metadata": {}
        }
      ]
    },
    {
      "cell_type": "markdown",
      "metadata": {
        "id": "tS6ihN8apGu3"
      },
      "source": [
        "**Results Explanation**"
      ]
    },
    {
      "cell_type": "markdown",
      "metadata": {
        "id": "0s3PK9mtpMDZ"
      },
      "source": [
        "This histogram analysis of Female Data Scientists salaries located in San Francisco, CA presents that there is a salary range from 106,000 dollars to 520,000 dollars; with the scale leaning towards more Female Data Scientists located in San Francisco, CA that fall within the 106,000 dollars to 340,000 salary range."
      ]
    },
    {
      "cell_type": "markdown",
      "metadata": {
        "id": "IdeqHkO4XBo8"
      },
      "source": [
        "**Hypothesis Two**: Boxplots"
      ]
    },
    {
      "cell_type": "markdown",
      "metadata": {
        "id": "xoT7BKW4Y9pU"
      },
      "source": [
        "*Plot a boxplot for Male Data Scientists salaries in San Francisco, CA.*"
      ]
    },
    {
      "cell_type": "code",
      "metadata": {
        "colab": {
          "base_uri": "https://localhost:8080/",
          "height": 302
        },
        "id": "lhLI1TgWXFR3",
        "outputId": "c3a4474e-504b-445b-de8e-8bbd1d514ccf"
      },
      "source": [
        "sns.boxplot(y=\"totalyearlycompensation\",x='gender', data=malesf_df)"
      ],
      "execution_count": null,
      "outputs": [
        {
          "output_type": "execute_result",
          "data": {
            "text/plain": [
              "<matplotlib.axes._subplots.AxesSubplot at 0x7f1e87676850>"
            ]
          },
          "metadata": {},
          "execution_count": 97
        },
        {
          "output_type": "display_data",
          "data": {
            "image/png": "[encoded data removed]",
            "text/plain": [
              "<Figure size 432x288 with 1 Axes>"
            ]
          },
          "metadata": {}
        }
      ]
    },
    {
      "cell_type": "markdown",
      "metadata": {
        "id": "spUYXah0o8Sb"
      },
      "source": [
        "**Results Explanation**"
      ]
    },
    {
      "cell_type": "markdown",
      "metadata": {
        "id": "0N6BjU5LpCG-"
      },
      "source": [
        "This boxplot of Male Data Scientists salaries located in San Francisco, CA shows that 50% of salaries fall within 200,000 and 310,000 dollars. With a median salary of 250,000 dollars. Minimum salaries starting at 104,000, maximum salary range of 500,000, and three outliers of around 510,000 dollars and 580,000 dollars, and 650,000 dollars salaries."
      ]
    },
    {
      "cell_type": "markdown",
      "metadata": {
        "id": "7Mc4Byg17Wzz"
      },
      "source": [
        "*Plot a boxplot for Female Data Scientists salaries in San Francisco, CA.*"
      ]
    },
    {
      "cell_type": "code",
      "metadata": {
        "colab": {
          "base_uri": "https://localhost:8080/",
          "height": 302
        },
        "id": "-_is-sFkYzLP",
        "outputId": "ffaa62f7-2815-4ac6-fbde-926c8cab0ea8"
      },
      "source": [
        "sns.boxplot(y=\"totalyearlycompensation\", x='gender', data=femalesf_df)"
      ],
      "execution_count": null,
      "outputs": [
        {
          "output_type": "execute_result",
          "data": {
            "text/plain": [
              "<matplotlib.axes._subplots.AxesSubplot at 0x7f1e87716d50>"
            ]
          },
          "metadata": {},
          "execution_count": 98
        },
        {
          "output_type": "display_data",
          "data": {
            "image/png": "[encoded data removed]",
            "text/plain": [
              "<Figure size 432x288 with 1 Axes>"
            ]
          },
          "metadata": {}
        }
      ]
    },
    {
      "cell_type": "markdown",
      "metadata": {
        "id": "A1ozRgNXo1-Y"
      },
      "source": [
        "**Results Explanation**"
      ]
    },
    {
      "cell_type": "markdown",
      "metadata": {
        "id": "-6as8_MDo5i5"
      },
      "source": [
        "This boxplot of Female Data Scientists salaries located in San Francisco, CA shows that 50% of salaries fall within 150,000 and 250,000 dollars. With a median salary of 210,000 dollars. Minimum salaries starting at 106,000, maximum salary range of 310,000, and two outliers of around 415,000 dollars and 520,000 dollars salaries."
      ]
    },
    {
      "cell_type": "markdown",
      "metadata": {
        "id": "xXWnGAW5ZMre"
      },
      "source": [
        "*Boxplot Comparison Between both Male and Female Data Scientist Salaries located in San Francisco, CA.*"
      ]
    },
    {
      "cell_type": "code",
      "metadata": {
        "colab": {
          "base_uri": "https://localhost:8080/",
          "height": 302
        },
        "id": "UEw0KqsoZT5F",
        "outputId": "d52aca6f-0657-4cda-d67c-d7dbdf64b6a9"
      },
      "source": [
        "sns.boxplot(y=\"totalyearlycompensation\", x=\"gender\", data=mf_df)"
      ],
      "execution_count": null,
      "outputs": [
        {
          "output_type": "execute_result",
          "data": {
            "text/plain": [
              "<matplotlib.axes._subplots.AxesSubplot at 0x7f1e86e64690>"
            ]
          },
          "metadata": {},
          "execution_count": 78
        },
        {
          "output_type": "display_data",
          "data": {
            "image/png": "[encoded data removed]",
            "text/plain": [
              "<Figure size 432x288 with 1 Axes>"
            ]
          },
          "metadata": {}
        }
      ]
    },
    {
      "cell_type": "markdown",
      "metadata": {
        "id": "Y35XRRwCovKF"
      },
      "source": [
        "**Results Explanation**"
      ]
    },
    {
      "cell_type": "markdown",
      "metadata": {
        "id": "_TY7xseBozT4"
      },
      "source": [
        "The boxplot comparison of Male and Female Data Scientists salaries located in San Francisco, CA show how Male Data Scientists has lower minimum and higher midrange and max salaries. However, Male Data Scientists in San Francisco, CA have a few outlier salaries above 500,000 to 650,000. Whereas Female Data Scientists presents a higher minimum salary and lower midrange and max salary but has many outlier salaries that fall above 400,000 dollars."
      ]
    },
    {
      "cell_type": "markdown",
      "metadata": {
        "id": "LorhTRm0VYc8"
      },
      "source": [
        "**Hypothesis Two**: Independent T-Test"
      ]
    },
    {
      "cell_type": "markdown",
      "metadata": {
        "id": "NPi-aQ2GupIa"
      },
      "source": [
        "*Perform Independent ttest calculations for Hypothesis Two.*"
      ]
    },
    {
      "cell_type": "code",
      "metadata": {
        "colab": {
          "base_uri": "https://localhost:8080/"
        },
        "id": "3QgenwwcVcA4",
        "outputId": "a78dfbe9-b0de-4905-d3fe-ddf73ab93674"
      },
      "source": [
        "stats.ttest_ind(malesf_df['totalyearlycompensation'],femalesf_df['totalyearlycompensation'])"
      ],
      "execution_count": null,
      "outputs": [
        {
          "output_type": "execute_result",
          "data": {
            "text/plain": [
              "Ttest_indResult(statistic=2.3229285932706154, pvalue=0.022148980767397575)"
            ]
          },
          "metadata": {},
          "execution_count": 80
        }
      ]
    },
    {
      "cell_type": "markdown",
      "metadata": {
        "id": "abgQjsJzu9wK"
      },
      "source": [
        "**Results Explanation**"
      ]
    },
    {
      "cell_type": "markdown",
      "metadata": {
        "id": "14VY3AcrVo72"
      },
      "source": [
        "*Since there is a p-value of 0.022, which is less than the alpha 0.05; we can conclude that there is a significant difference in salaries between male and female genders in San Francisco, CA for Data Scientists.\n",
        "We would reject the NULL Hypothesis.*"
      ]
    },
    {
      "cell_type": "markdown",
      "metadata": {
        "id": "YaaKNXeOqTxm"
      },
      "source": [
        "**Hypothesis Two**: Confidence Interval"
      ]
    },
    {
      "cell_type": "markdown",
      "metadata": {
        "id": "1fza5NlCrXbu"
      },
      "source": [
        "*Calculate the sample size, mean, and variance of each sample.*"
      ]
    },
    {
      "cell_type": "code",
      "metadata": {
        "id": "DXtse7zzqZcN"
      },
      "source": [
        "sample_1_n = malesf_df.shape[0]\n",
        "sample_2_n = femalesf_df.shape[0]\n",
        "sample_1_mean = malesf_df['totalyearlycompensation'].mean()\n",
        "sample_2_mean = femalesf_df['totalyearlycompensation'].mean()\n",
        "sample_1_var = malesf_df['totalyearlycompensation'].var()\n",
        "sample_2_var = femalesf_df['totalyearlycompensation'].var()"
      ],
      "execution_count": null,
      "outputs": []
    },
    {
      "cell_type": "markdown",
      "metadata": {
        "id": "c21E-SPGrO3a"
      },
      "source": [
        "*Calculate the standard error and compute the confidence intervals.*"
      ]
    },
    {
      "cell_type": "code",
      "metadata": {
        "colab": {
          "base_uri": "https://localhost:8080/"
        },
        "id": "9Z6L3Ymmq8Mo",
        "outputId": "4a65c32d-bd45-45ca-da6a-0f0dc2db6262"
      },
      "source": [
        "import math\n",
        "std_err_difference = math.sqrt((sample_1_var/sample_1_n)+(sample_2_var/sample_2_n))\n",
        "\n",
        "mean_difference = sample_2_mean - sample_1_mean\n",
        "\n",
        "margin_of_error = 1.96 * std_err_difference\n",
        "ci_lower = mean_difference - margin_of_error\n",
        "ci_upper = mean_difference + margin_of_error\n",
        "\n",
        "print(\"The difference in means at the 95% confidence interval is between \"+str(ci_lower)+\" and \"+str(ci_upper)+\".\")"
      ],
      "execution_count": null,
      "outputs": [
        {
          "output_type": "stream",
          "name": "stdout",
          "text": [
            "The difference in means at the 95% confidence interval is between -97797.93597424752 and -12968.29779198626.\n"
          ]
        }
      ]
    },
    {
      "cell_type": "markdown",
      "metadata": {
        "id": "XtYg6ADxqGTX"
      },
      "source": [
        "*The difference between mean salaries for Male Data Scientists and Female Data Scientists in San Francisco, CA is likely between 12,968.30 dollars and 97,797.94 dollars.*"
      ]
    },
    {
      "cell_type": "markdown",
      "metadata": {
        "id": "JFAp5hXk8tSD"
      },
      "source": [
        "**Hypothesis Three**: There isn’t a significant difference in mean salary among data scientist individuals who reside in Seattle, WA versus Austin, TX."
      ]
    },
    {
      "cell_type": "markdown",
      "metadata": {
        "id": "pb61_ksxyb6V"
      },
      "source": [
        "*Obtain statistical values for total yearly compensation for Data Scientists in Seattle, WA and Austin, TX.*"
      ]
    },
    {
      "cell_type": "code",
      "metadata": {
        "colab": {
          "base_uri": "https://localhost:8080/"
        },
        "id": "-lkeygIu8j03",
        "outputId": "dc974029-5db3-4c7e-bdcd-06d048fa772b"
      },
      "source": [
        "series_statistics(sea_df['totalyearlycompensation'])"
      ],
      "execution_count": null,
      "outputs": [
        {
          "output_type": "stream",
          "name": "stdout",
          "text": [
            "statistics for column: totalyearlycompensation\n",
            "The max value in the column: 690000\n",
            "The min value in the column: 85000\n",
            "The mode value in the column: 0    163000\n",
            "1    165000\n",
            "2    215000\n",
            "3    300000\n",
            "dtype: int64\n",
            "The median value in the column: 214500.0\n",
            "The mean of the column: 231383.72093023255\n",
            "The std of the column: 91733.13835823242\n"
          ]
        }
      ]
    },
    {
      "cell_type": "code",
      "metadata": {
        "colab": {
          "base_uri": "https://localhost:8080/"
        },
        "id": "UJlp0uwF9IFF",
        "outputId": "1e3572fb-cc34-4c07-fc51-c89bc9fb311a"
      },
      "source": [
        "series_statistics(aus_df['totalyearlycompensation'])"
      ],
      "execution_count": null,
      "outputs": [
        {
          "output_type": "stream",
          "name": "stdout",
          "text": [
            "statistics for column: totalyearlycompensation\n",
            "The max value in the column: 289000\n",
            "The min value in the column: 115000\n",
            "The mode value in the column: 0    115000\n",
            "1    142000\n",
            "dtype: int64\n",
            "The median value in the column: 171500.0\n",
            "The mean of the column: 183555.55555555556\n",
            "The std of the column: 53696.55725870989\n"
          ]
        }
      ]
    },
    {
      "cell_type": "markdown",
      "metadata": {
        "id": "XjaYVke8Vwy_"
      },
      "source": [
        "**Hypothesis Three**: Histograms"
      ]
    },
    {
      "cell_type": "markdown",
      "metadata": {
        "id": "V3cO20QZyyGM"
      },
      "source": [
        "*Plot a histogram for Data Scientists salaries in Seattle, WA.*"
      ]
    },
    {
      "cell_type": "code",
      "metadata": {
        "colab": {
          "base_uri": "https://localhost:8080/",
          "height": 285
        },
        "id": "SSAzaDJ4WCOp",
        "outputId": "adf18ae8-1c7c-4d28-87ae-aa194fa763b2"
      },
      "source": [
        "ax = sns.histplot(sea_df['totalyearlycompensation'])"
      ],
      "execution_count": null,
      "outputs": [
        {
          "output_type": "display_data",
          "data": {
            "image/png": "[encoded data removed]",
            "text/plain": [
              "<Figure size 432x288 with 1 Axes>"
            ]
          },
          "metadata": {}
        }
      ]
    },
    {
      "cell_type": "markdown",
      "metadata": {
        "id": "ijZk10e3oXuv"
      },
      "source": [
        "**Results Explanation**"
      ]
    },
    {
      "cell_type": "markdown",
      "metadata": {
        "id": "g_cWwR9Uocto"
      },
      "source": [
        "This histogram analysis of Data Scientists salaries located in Seattle, WA presents that there is a salary range from 85,000 dollars to 690,000 dollars; with the scale leaning towards more Data Scientists located in Seattle, WA that fall within the 85,000 dollars to 370,000 salary range."
      ]
    },
    {
      "cell_type": "markdown",
      "metadata": {
        "id": "L3gaUxSCy6yw"
      },
      "source": [
        "*Plot a histogram for Data Scientists salaries in Austin, TX.*"
      ]
    },
    {
      "cell_type": "code",
      "metadata": {
        "colab": {
          "base_uri": "https://localhost:8080/",
          "height": 285
        },
        "id": "K31AuxGAWGOt",
        "outputId": "329589ec-767f-44e8-81c4-e4a6e51a3184"
      },
      "source": [
        "ax = sns.histplot(aus_df['totalyearlycompensation'],)"
      ],
      "execution_count": null,
      "outputs": [
        {
          "output_type": "display_data",
          "data": {
            "image/png": "[encoded data removed]",
            "text/plain": [
              "<Figure size 432x288 with 1 Axes>"
            ]
          },
          "metadata": {}
        }
      ]
    },
    {
      "cell_type": "markdown",
      "metadata": {
        "id": "rc_SXwucoM4J"
      },
      "source": [
        "**Results Explanation**"
      ]
    },
    {
      "cell_type": "markdown",
      "metadata": {
        "id": "oJF3cO3koROk"
      },
      "source": [
        "This histogram analysis of Data Scientists salaries located in Austin, TX presents that there is a salary range from 115,000 dollars to 289,000 dollars; with a higher amount of  Data Scientists located in Austin, TX within the 115,000 dollars and 140,000 dollars."
      ]
    },
    {
      "cell_type": "markdown",
      "metadata": {
        "id": "A4oXNUcJf0N2"
      },
      "source": [
        "**Hypothesis Three**: Boxplots"
      ]
    },
    {
      "cell_type": "markdown",
      "metadata": {
        "id": "6laxfRCezPBb"
      },
      "source": [
        "*Plot a boxplot for Data Scientists salaries in Seattle, WA.*"
      ]
    },
    {
      "cell_type": "code",
      "metadata": {
        "colab": {
          "base_uri": "https://localhost:8080/",
          "height": 302
        },
        "id": "rC6B7nIZf70I",
        "outputId": "8749788a-d2c1-4996-8f30-fcb263bf914e"
      },
      "source": [
        "sns.boxplot(y=\"totalyearlycompensation\",x='location', data=sea_df)"
      ],
      "execution_count": null,
      "outputs": [
        {
          "output_type": "execute_result",
          "data": {
            "text/plain": [
              "<matplotlib.axes._subplots.AxesSubplot at 0x7f1e86be2b10>"
            ]
          },
          "metadata": {},
          "execution_count": 99
        },
        {
          "output_type": "display_data",
          "data": {
            "image/png": "[encoded data removed]",
            "text/plain": [
              "<Figure size 432x288 with 1 Axes>"
            ]
          },
          "metadata": {}
        }
      ]
    },
    {
      "cell_type": "markdown",
      "metadata": {
        "id": "FIYtB8CpoBgS"
      },
      "source": [
        "**Results Explanation**"
      ]
    },
    {
      "cell_type": "markdown",
      "metadata": {
        "id": "vhTHouiGoFWp"
      },
      "source": [
        "This boxplot of Data Scientists salaries located in Seattle, WA shows that 50% of salaries fall within 190,000 and 260,000 dollars. With a median salary of 214,500 dollars. Minimum salaries starting at 85,000, maximum salary range of 370,000, and three outliers of around 450,000 dollar and 520,000 dollar and 690,000 dollar salaries."
      ]
    },
    {
      "cell_type": "markdown",
      "metadata": {
        "id": "543EFqeNzZjP"
      },
      "source": [
        "*Plot a boxplot for Data Scientists salaries in Austin, TX.*"
      ]
    },
    {
      "cell_type": "code",
      "metadata": {
        "colab": {
          "base_uri": "https://localhost:8080/",
          "height": 302
        },
        "id": "CFipvn0dgFO_",
        "outputId": "f464d3ad-5b74-41fe-e12b-3113b444062f"
      },
      "source": [
        "sns.boxplot(y=\"totalyearlycompensation\", x='location', data=aus_df)"
      ],
      "execution_count": null,
      "outputs": [
        {
          "output_type": "execute_result",
          "data": {
            "text/plain": [
              "<matplotlib.axes._subplots.AxesSubplot at 0x7f1e86b5ffd0>"
            ]
          },
          "metadata": {},
          "execution_count": 100
        },
        {
          "output_type": "display_data",
          "data": {
            "image/png": "[encoded data removed]",
            "text/plain": [
              "<Figure size 432x288 with 1 Axes>"
            ]
          },
          "metadata": {}
        }
      ]
    },
    {
      "cell_type": "markdown",
      "metadata": {
        "id": "W59JJd4jnxZg"
      },
      "source": [
        "**Results Explanation**"
      ]
    },
    {
      "cell_type": "markdown",
      "metadata": {
        "id": "UNqaSX5Ln3H2"
      },
      "source": [
        "This boxplot of Data Scientists salaries located in Austin, TX shows that 50% of salaries fall within 140,000 and 220,000 dollars. With a median salary of 171,500 dollars. Minimum salaries starting at 115,000, maximum salary range of 289,000."
      ]
    },
    {
      "cell_type": "markdown",
      "metadata": {
        "id": "8pYUs7mWzjzL"
      },
      "source": [
        "*Comparison Boxplot of Data Scientists Salaries in Seattle, WA versus Austin, TX.*"
      ]
    },
    {
      "cell_type": "code",
      "metadata": {
        "colab": {
          "base_uri": "https://localhost:8080/",
          "height": 302
        },
        "id": "mhstW8hLgMgG",
        "outputId": "5499dbd0-8492-4497-ccc8-dc4aa2e79268"
      },
      "source": [
        "sns.boxplot(y=\"totalyearlycompensation\", x=\"location\", data=sa_df)"
      ],
      "execution_count": null,
      "outputs": [
        {
          "output_type": "execute_result",
          "data": {
            "text/plain": [
              "<matplotlib.axes._subplots.AxesSubplot at 0x7f1e86d9fcd0>"
            ]
          },
          "metadata": {},
          "execution_count": 89
        },
        {
          "output_type": "display_data",
          "data": {
            "image/png": "[encoded data removed]",
            "text/plain": [
              "<Figure size 432x288 with 1 Axes>"
            ]
          },
          "metadata": {}
        }
      ]
    },
    {
      "cell_type": "markdown",
      "metadata": {
        "id": "ASeh1WPgnSva"
      },
      "source": [
        "**Results Explanation**"
      ]
    },
    {
      "cell_type": "markdown",
      "metadata": {
        "id": "ZHkwhRkUnaIe"
      },
      "source": [
        "The boxplot comparison of Data Scientists salaries located in Seattle, WA and Austin, TX show how Seattle, WA Data Scientists has lower minimum and higher midrange and max salaries. However, Seattle, WA Data Scientists have a few outlier salaries above 450,000 to 690,000. Whereas Austin, TX Data Scientists presents a higher minimum salary and lower midrange and max salary."
      ]
    },
    {
      "cell_type": "markdown",
      "metadata": {
        "id": "I1vB6RfSWP7l"
      },
      "source": [
        "**Hypothesis Three**: Independent T-Test"
      ]
    },
    {
      "cell_type": "markdown",
      "metadata": {
        "id": "NCEHILrj0BCs"
      },
      "source": [
        "*Perform Independent ttest calculations for Hypothesis Three.*"
      ]
    },
    {
      "cell_type": "code",
      "metadata": {
        "colab": {
          "base_uri": "https://localhost:8080/"
        },
        "id": "JQLpfYxeTARC",
        "outputId": "518acc50-3dca-4a18-c958-9c2dfda4ca37"
      },
      "source": [
        "stats.ttest_ind(sea_df['totalyearlycompensation'],aus_df['totalyearlycompensation'])"
      ],
      "execution_count": null,
      "outputs": [
        {
          "output_type": "execute_result",
          "data": {
            "text/plain": [
              "Ttest_indResult(statistic=2.1316891472076076, pvalue=0.035434217911037943)"
            ]
          },
          "metadata": {},
          "execution_count": 90
        }
      ]
    },
    {
      "cell_type": "markdown",
      "metadata": {
        "id": "7rfil6BF0ngX"
      },
      "source": [
        "**Results Explanation**"
      ]
    },
    {
      "cell_type": "markdown",
      "metadata": {
        "id": "VPy9HlMqWeZ8"
      },
      "source": [
        "*Since there is a p-value of 0.035, which is less than the alpha 0.05; we can conclude that there is significant difference between Data Scientists salaries in Seattle, WA versus Austin, TX.\n",
        "We would reject the NULL Hypothesis.*"
      ]
    },
    {
      "cell_type": "markdown",
      "metadata": {
        "id": "ULJTXCsarj24"
      },
      "source": [
        "**Hypothesis Three**: Confidence Interval"
      ]
    },
    {
      "cell_type": "markdown",
      "metadata": {
        "id": "NrGDvebrsDBh"
      },
      "source": [
        "*Calculate the sample size, mean, and variance of each sample.*"
      ]
    },
    {
      "cell_type": "code",
      "metadata": {
        "id": "bRR_-Pvgrpt4"
      },
      "source": [
        "sample_1_n = sea_df.shape[0]\n",
        "sample_2_n = aus_df.shape[0]\n",
        "sample_1_mean = sea_df['totalyearlycompensation'].mean()\n",
        "sample_2_mean = aus_df['totalyearlycompensation'].mean()\n",
        "sample_1_var = sea_df['totalyearlycompensation'].var()\n",
        "sample_2_var = aus_df['totalyearlycompensation'].var()"
      ],
      "execution_count": null,
      "outputs": []
    },
    {
      "cell_type": "markdown",
      "metadata": {
        "id": "XruEG-MIsE2e"
      },
      "source": [
        "*Calculate the standard error and compute the confidence intervals.*"
      ]
    },
    {
      "cell_type": "code",
      "metadata": {
        "colab": {
          "base_uri": "https://localhost:8080/"
        },
        "id": "kCQfjEYdsQg2",
        "outputId": "66a49565-9efc-498e-d127-7f5e61525521"
      },
      "source": [
        "import math\n",
        "std_err_difference = math.sqrt((sample_1_var/sample_1_n)+(sample_2_var/sample_2_n))\n",
        "\n",
        "mean_difference = sample_2_mean - sample_1_mean\n",
        "\n",
        "margin_of_error = 1.96 * std_err_difference\n",
        "ci_lower = mean_difference - margin_of_error\n",
        "ci_upper = mean_difference + margin_of_error\n",
        "\n",
        "print(\"The difference in means at the 95% confidence interval is between \"+str(ci_lower)+\" and \"+str(ci_upper)+\".\")"
      ],
      "execution_count": null,
      "outputs": [
        {
          "output_type": "stream",
          "name": "stdout",
          "text": [
            "The difference in means at the 95% confidence interval is between -79312.4362290282 and -16343.894520325772.\n"
          ]
        }
      ]
    },
    {
      "cell_type": "markdown",
      "metadata": {
        "id": "ZVt0q35Cy1hj"
      },
      "source": [
        "*The difference between mean salaries for Data Scientists in Seattle, WA and Austin, TX is likely between 16,343.89 dollars and 79,312.44 dollars.*"
      ]
    },
    {
      "cell_type": "markdown",
      "metadata": {
        "id": "zuyeAKfp1qXw"
      },
      "source": [
        "________________________________________________________________________________"
      ]
    },
    {
      "cell_type": "markdown",
      "metadata": {
        "id": "ARdW0hf3VG1R"
      },
      "source": [
        "# **Hypotheses Conclusions**"
      ]
    },
    {
      "cell_type": "markdown",
      "metadata": {
        "id": "p68BzuIszpJ6"
      },
      "source": [
        "**Hypothesis One**: *Since there is a p-value of 0.000906, which is smaller than the alpha 0.05; we can conclude that there is a significant difference is salaries between Data Scientists who work and Google versus Microsoft.\n",
        "We would reject the NULL Hypothesis.*"
      ]
    },
    {
      "cell_type": "markdown",
      "metadata": {
        "id": "kYSMC3yRzrPd"
      },
      "source": [
        "**Hypothesis Two**: *Since there is a p-value of 0.022, which is less than the alpha 0.05; we can conclude that there is a significant difference is salaries between male and female genders in San Francisco, CA for Data Scientists.\n",
        "We would reject the NULL Hypothesis.*"
      ]
    },
    {
      "cell_type": "markdown",
      "metadata": {
        "id": "-wzCvOGSztMD"
      },
      "source": [
        "**Hypothesis Three**: *Since there is a p-value of 0.035, which is less than the alpha 0.05; we can conclude that there is a significant difference between Data Scientists in Seattle, WA versus Austin, TX.\n",
        "We would reject the NULL Hypothesis.*"
      ]
    },
    {
      "cell_type": "markdown",
      "metadata": {
        "id": "qxFEZ32S2Z5j"
      },
      "source": [
        "________________________________________________________________________________"
      ]
    },
    {
      "cell_type": "markdown",
      "metadata": {
        "id": "C4zl1XfBVQFk"
      },
      "source": [
        "# **Valuable Findings**"
      ]
    },
    {
      "cell_type": "markdown",
      "metadata": {
        "id": "TaR6-aY3zX1n"
      },
      "source": [
        "**Hypthesis One**:  *By taking the difference between mean salaries for Data Scientists at Google (272,178.57 dollars) versus Micorosoft (210,280.00 dollars); we can see that there is a difference of 61,898.57 dollars in pay. Data Scientists at Microsoft are making 77% of what Data Scientists are making at Google.*"
      ]
    },
    {
      "cell_type": "markdown",
      "metadata": {
        "id": "vUjY5afdzcKA"
      },
      "source": [
        "**Hypothesis Two**: *By taking the difference between mean salaries for Male Data Scientists (277,311.69 dollars) versus Female Data Scientists (221,928.57 dollars) located in San Francisco, CA; we can see that there is a difference of 55,383.12 dollars in pay. Female Data Scientists in San Francisco, CA are making 80% of what Male Data Scientists are making in San Francisco, CA.*"
      ]
    },
    {
      "cell_type": "markdown",
      "metadata": {
        "id": "tsPVNswWzfpK"
      },
      "source": [
        "**Hypothesis Three**: *By taking the difference between mean salaries for Data Scientists in Seattle, WA (231,383.72 dollars) versus  Data Scientists in Austin, TX (183,555.56 dollars); we can see that there is a difference of 47,828.16 dollars in pay. Data Scientists in Austin, TX are making 79% of what Data Scientists are making in Seattle, WA.*"
      ]
    },
    {
      "cell_type": "markdown",
      "metadata": {
        "id": "MT_9zU855GGf"
      },
      "source": [
        "________________________________________________________________________________"
      ]
    },
    {
      "cell_type": "markdown",
      "metadata": {
        "id": "om5J780hVYKf"
      },
      "source": [
        "# **Evaluate Findings**"
      ]
    },
    {
      "cell_type": "markdown",
      "metadata": {
        "id": "4aPRkMGyCXvc"
      },
      "source": [
        "####Why are these findings valuable?"
      ]
    },
    {
      "cell_type": "markdown",
      "metadata": {
        "id": "HxT9kdz_5xKr"
      },
      "source": [
        "**Hypothesis One**: *When job seekers or career changers are looking for companies to be employed at, Google and Microsoft will be nice options for sizeable total yearly compensation. More precisely, Google pays their Data Scientists a higher total yearly compensation. This can conclude that Google may deem their Data Scientist as more valuable for monetary investment. Or Google may have a larger fund to invest in their Data Science departments and thus a greater need to invest in expanding their Data Science departments.*"
      ]
    },
    {
      "cell_type": "markdown",
      "metadata": {
        "id": "82J6wR-VCHDY"
      },
      "source": [
        "**Hypothesis Two**: *Female Data Scientist job seekers should feel confident asking for a higher total yearly salary range in San Francisco, CA. It appears that Hiring Managers and Recruiters need present a gender equal salary range for job candidates in San Francisco, CA, and be more persistent about closing the \"wage gap\" between genders. In addition, there needs to be more of an emphasis on recruiting and hiring qualified female Data Scientists.*"
      ]
    },
    {
      "cell_type": "markdown",
      "metadata": {
        "id": "tAVbp6ltCLIw"
      },
      "source": [
        "**Hypothesis Three**: *There appears to be a large wage gap among the Seattle, WA and Austin, TX locations. Job seekers might be inclined to go to a city (Seattle) with a higher total yearly salary. However, those seeking for job relocation may want to consider the costs of living in their selected city. Austin, TX might have a much lower cost of living than Seattle, WA. Thus, influencing the higher salaries in Seattle for Data Scientist. This information may be pivotal to the Hiring Manager when considering a candidate who lives out-of-state. Would a Data Scientist candidate who lives in Seattle, WA consider moving to Austin, TX for an assumed lower salary? These are questions to consider when finding the right candidate for the role.*"
      ]
    },
    {
      "cell_type": "markdown",
      "metadata": {
        "id": "5ck090SkKvG3"
      },
      "source": [
        "________________________________________________________________________________"
      ]
    }
  ]
}